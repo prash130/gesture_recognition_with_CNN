{
 "cells": [
  {
   "cell_type": "markdown",
   "metadata": {},
   "source": [
    "# Gesture Recognition\n",
    "In this group project, you are going to build a 3D Conv model that will be able to predict the 5 gestures correctly. Please import the following libraries to get started."
   ]
  },
  {
   "cell_type": "code",
   "execution_count": 1,
   "metadata": {},
   "outputs": [],
   "source": [
    "import numpy as np\n",
    "import os\n",
    "#from scipy.misc import imread, imresize\n",
    "from skimage.transform import resize\n",
    "from skimage.io import imread\n",
    "import datetime\n",
    "import os\n",
    "import warnings\n",
    "warnings.filterwarnings(\"ignore\")"
   ]
  },
  {
   "cell_type": "markdown",
   "metadata": {},
   "source": [
    "We set the random seed so that the results don't vary drastically."
   ]
  },
  {
   "cell_type": "code",
   "execution_count": 2,
   "metadata": {},
   "outputs": [],
   "source": [
    "np.random.seed(30)\n",
    "import random as rn\n",
    "rn.seed(30)\n",
    "from keras import backend as K\n",
    "import tensorflow as tf\n",
    "#tf.set_random_seed(30)\n",
    "tf.random.set_seed(30)\n"
   ]
  },
  {
   "cell_type": "markdown",
   "metadata": {},
   "source": [
    "## Utility functions"
   ]
  },
  {
   "cell_type": "markdown",
   "metadata": {},
   "source": [
    "### Plotting accuracy and loss"
   ]
  },
  {
   "cell_type": "code",
   "execution_count": 3,
   "metadata": {},
   "outputs": [],
   "source": [
    "# function to plot the training/validation accuracies/losses.\n",
    "import cv2\n",
    "import matplotlib.pyplot as plt\n",
    "\n",
    "\n",
    "def plot(history):\n",
    "    fig, axes = plt.subplots(nrows=1, ncols=2, figsize=(15,4))\n",
    "    axes[0].plot(history.history['loss'])   \n",
    "    axes[0].plot(history.history['val_loss'])\n",
    "    axes[0].legend(['loss','val_loss'])\n",
    "\n",
    "    axes[1].plot(history.history['categorical_accuracy'])   \n",
    "    axes[1].plot(history.history['val_categorical_accuracy'])\n",
    "    axes[1].legend(['categorical_accuracy','val_categorical_accuracy'])"
   ]
  },
  {
   "cell_type": "markdown",
   "metadata": {},
   "source": [
    "## Generator\n",
    "This is one of the most important part of the code. The overall structure of the generator has been given. In the generator, you are going to preprocess the images as you have images of 2 different dimensions as well as create a batch of video frames. You have to experiment with `img_idx`, `y`,`z` and normalization such that you get high accuracy."
   ]
  },
  {
   "cell_type": "markdown",
   "metadata": {},
   "source": [
    "Note here that a video is represented above in the generator as (number of images, height, width, number of channels). Take this into consideration while creating the model architecture."
   ]
  },
  {
   "cell_type": "markdown",
   "metadata": {},
   "source": [
    "## Model\n",
    "Here you make the model using different functionalities that Keras provides. Remember to use `Conv3D` and `MaxPooling3D` and not `Conv2D` and `Maxpooling2D` for a 3D convolution model. You would want to use `TimeDistributed` while building a Conv2D + RNN model. Also remember that the last layer is the softmax. Design the network in such a way that the model is able to give good accuracy on the least number of parameters so that it can fit in the memory of the webcam."
   ]
  },
  {
   "cell_type": "code",
   "execution_count": 4,
   "metadata": {},
   "outputs": [],
   "source": [
    "project_folder='/datasets/Project_data'"
   ]
  },
  {
   "cell_type": "code",
   "execution_count": 22,
   "metadata": {},
   "outputs": [],
   "source": [
    "import abc\n",
    "from keras.models import Sequential, Model\n",
    "from keras.layers import Dense, GRU, Flatten, TimeDistributed, Flatten, BatchNormalization, Activation\n",
    "from keras.layers.convolutional import Conv3D, MaxPooling3D, Conv2D, MaxPooling2D\n",
    "from keras.callbacks import ModelCheckpoint, ReduceLROnPlateau, EarlyStopping\n",
    "from keras import optimizers\n",
    "from keras.layers import Dropout\n",
    "\n",
    "from keras.preprocessing.image import ImageDataGenerator\n",
    "#from keras.preprocessing.image import smart_resize\n",
    "\n",
    "datagen = ImageDataGenerator(\n",
    "    zoom_range=0.1,\n",
    "    zca_whitening=True,\n",
    "    width_shift_range=0.1,\n",
    "    height_shift_range=0.1)\n",
    "\n",
    "class ModelBuilder(metaclass= abc.ABCMeta):\n",
    "    \n",
    "    def initialize_hyperparams(self,frames_to_sample=30,batch_size=20,num_epochs=20):\n",
    "        self.frames_to_sample=frames_to_sample\n",
    "        self.batch_size=batch_size\n",
    "        self.num_epochs=num_epochs\n",
    "        \n",
    "    def initialize_image_properties(self,image_height=100,image_width=100):\n",
    "        self.image_height=image_height\n",
    "        self.image_width=image_width\n",
    "        self.channels=3\n",
    "        self.num_classes=5\n",
    "        self.total_frames=30\n",
    "    \n",
    "    def initialize_path(self,project_folder):\n",
    "        self.train_doc = np.random.permutation(open(project_folder + '/' + 'train.csv').readlines())\n",
    "        self.val_doc = np.random.permutation(open(project_folder + '/' + 'val.csv').readlines())\n",
    "        self.train_path = project_folder + '/' + 'train'\n",
    "        self.val_path =  project_folder + '/' + 'val'\n",
    "        self.num_train_sequences = len(self.train_doc)\n",
    "        self.num_val_sequences = len(self.val_doc)\n",
    "        \n",
    "    def generator(self,source_path, folder_list, batch_size, augment=False):\n",
    "    \n",
    "#     img_idx = [2,4,6,8,10,12,14,16,18,20,22,24,26]\n",
    "        img_idx = np.round(np.linspace(0,self.total_frames-1,self.frames_to_sample)).astype(int)\n",
    "        while True:\n",
    "            t = np.random.permutation(folder_list)\n",
    "            num_batches = len(t) // batch_size # calculate the number of batches\n",
    "            for batch in range(num_batches): # we iterate over the number of batches\n",
    "    #             batch_data = np.zeros((batch_size,13,80,80,3)) # x is the number of images you use for each video, (y,z) is the final size of the input images and 3 is the number of channels RGB\n",
    "                batch_data = np.zeros((batch_size,len(img_idx),self.image_height,self.image_width,3)) \n",
    "                batch_labels = np.zeros((batch_size,5)) # batch_labels is the one hot representation of the output\n",
    "\n",
    "                for folder in range(batch_size): # iterate over the batch_size\n",
    "                    imgs = os.listdir(source_path+'/'+ t[folder + (batch*batch_size)].split(';')[0]) # read all the images in the folder\n",
    "                    for idx,item in enumerate(img_idx): #  Iterate iver the frames/images of a folder to read them in\n",
    "                        image = imread(source_path+'/'+ t[folder + (batch*batch_size)].strip().split(';')[0]+'/'+imgs[item]).astype(np.float32)\n",
    "\n",
    "                        #crop the images and resize them. Note that the images are of 2 different shape \n",
    "    #                     image = resize(image,(80,80)).astype(np.float32)\n",
    "                        image = resize(image,(self.image_height,self.image_width)).astype(np.float32)\n",
    "                        \n",
    "                        # Randomly transform few images of few folders; note that folders are randomly shuffled in each epoch too\n",
    "                        if augment:\n",
    "                            if np.random.randn() > 0:\n",
    "                                image = datagen.random_transform(image)  \n",
    "            \n",
    "                        #and the conv3D will throw error if the inputs in a batch have different shapes\n",
    "                        batch_data[folder,idx,:,:,0] = (image[:,:,0])/255 #normalise and feed in the image\n",
    "                        batch_data[folder,idx,:,:,1] = (image[:,:,1])/255 #normalise and feed in the image\n",
    "                        batch_data[folder,idx,:,:,2] = (image[:,:,2])/255 #normalise and feed in the image\n",
    "\n",
    "                    batch_labels[folder, int(t[folder + (batch*batch_size)].strip().split(';')[2])] = 1\n",
    "                yield batch_data, batch_labels #you yield the batch_data and the batch_labels, remember what does yield do\n",
    "\n",
    "        \n",
    "            # write the code for the remaining data points which are left after full batches\n",
    "            if len(t) % batch_size != 0:\n",
    "    #             batch_data = np.zeros((batch_size,13,80,80,3))\n",
    "                batch_data = np.zeros((batch_size,len(img_idx),self.image_height,self.image_width,3))\n",
    "                batch_labels = np.zeros((batch_size,5)) # batch_labels is the one hot representation of the output\n",
    "                for folder in range(batch_size): # iterate over the batch_size\n",
    "                    imgs = os.listdir(source_path+'/'+ t[folder + (batch*batch_size)].split(';')[0]) # read all the images in the folder\n",
    "                    for idx,item in enumerate(img_idx): #  Iterate iver the frames/images of a folder to read them in\n",
    "                        image = imread(source_path+'/'+ t[folder + (batch*batch_size)].strip().split(';')[0]+'/'+imgs[item]).astype(np.float32)\n",
    "                        image = resize(image,(self.image_height,self.image_width)).astype(np.float32)\n",
    "                        \n",
    "                        # Randomly transform few images of few folders; note that folders are randomly shuffled in each epoch too\n",
    "                        if augment:\n",
    "                            if np.random.randn() > 0:\n",
    "                                image = datagen.random_transform(image)  \n",
    "                        \n",
    "                        batch_data[folder,idx,:,:,0] = (image[:,:,0])/255\n",
    "                        batch_data[folder,idx,:,:,1] = (image[:,:,1])/255\n",
    "                        batch_data[folder,idx,:,:,2] = (image[:,:,2])/255\n",
    "                    batch_labels[folder, int(t[folder + (batch*batch_size)].strip().split(';')[2])] = 1 \n",
    "                yield batch_data, batch_labels #you yield the batch_data and the batch_labels, remember what does yield does \n",
    "\n",
    "\n",
    "    def train_model(self, model, augment_data=False):\n",
    "            train_generator = self.generator(self.train_path, self.train_doc, self.batch_size, augment=augment_data)\n",
    "            val_generator = self.generator(self.val_path, self.val_doc, self.batch_size)\n",
    "\n",
    "            model_name = 'model_init' + '_' + str(datetime.datetime.now()).replace(' ','').replace(':','_') + '/'\n",
    "\n",
    "            if not os.path.exists(model_name):\n",
    "                os.mkdir(model_name)\n",
    "\n",
    "            filepath = model_name + 'model-{epoch:05d}-{loss:.5f}-{categorical_accuracy:.5f}-{val_loss:.5f}-{val_categorical_accuracy:.5f}.h5'\n",
    "\n",
    "            checkpoint = ModelCheckpoint(filepath, monitor='val_loss', verbose=1, save_best_only=True, save_weights_only=False, mode='auto', period=1)\n",
    "            LR = ReduceLROnPlateau(monitor='val_loss', factor=0.2, verbose=1, patience=4)\n",
    "\n",
    "            earlystop = EarlyStopping( monitor=\"val_loss\", min_delta=0, patience=10, verbose=1)\n",
    "            callbacks_list = [checkpoint, LR, earlystop]\n",
    "\n",
    "            if (self.num_train_sequences%self.batch_size) == 0:\n",
    "                steps_per_epoch = int(self.num_train_sequences/self.batch_size)\n",
    "            else:\n",
    "                steps_per_epoch = (self.num_train_sequences//self.batch_size) + 1\n",
    "\n",
    "            if (self.num_val_sequences%self.batch_size) == 0:\n",
    "                validation_steps = int(self.num_val_sequences/self.batch_size)\n",
    "            else:\n",
    "                validation_steps = (self.num_val_sequences//self.batch_size) + 1\n",
    "\n",
    "#             history=model.fit_generator(train_generator, steps_per_epoch=steps_per_epoch, epochs=self.num_epochs, verbose=1, \n",
    "#                                 callbacks=callbacks_list, validation_data=val_generator, \n",
    "#                                 validation_steps=validation_steps, class_weight=None, workers=1, initial_epoch=0)\n",
    "            history = model.fit_generator(train_generator, steps_per_epoch=steps_per_epoch, epochs=self.num_epochs, verbose=1, \n",
    "                callbacks=callbacks_list, validation_data=val_generator, \n",
    "                validation_steps=validation_steps, class_weight=None, workers=1, initial_epoch=0)\n",
    "            return history\n"
   ]
  },
  {
   "cell_type": "markdown",
   "metadata": {},
   "source": [
    "Let us now fit the model. This will start training the model and with the help of the checkpoints, you'll be able to save the model at the end of each epoch."
   ]
  },
  {
   "cell_type": "markdown",
   "metadata": {},
   "source": [
    "## Model 1: Set the Batch size to 64 and Epochs to 20. Image resolution to 120\n"
   ]
  },
  {
   "cell_type": "markdown",
   "metadata": {},
   "source": [
    "Here you make the model using different functionalities that Keras provides. Remember to use Conv3D and MaxPooling3D and not Conv2D and Maxpooling2D for a 3D convolution model. You would want to use TimeDistributed while building a Conv2D + RNN model. Also remember that the last layer is the softmax. Design the network in such a way that the model is able to give good accuracy on the least number of parameters so that it can fit in the memory of the webcam."
   ]
  },
  {
   "cell_type": "code",
   "execution_count": 6,
   "metadata": {},
   "outputs": [],
   "source": [
    "\n",
    "class Model(ModelBuilder):\n",
    "    \n",
    "    def define_model(self,filtersize=(3,3,3),dense_neurons=64,dropout=0.25):\n",
    "  \n",
    "        model = Sequential()\n",
    "        model.add(Conv3D(32, (3, 3, 3), padding='same',\n",
    "                 input_shape=(self.frames_to_sample,self.image_height,self.image_width,self.channels)))\n",
    "        model.add(Activation('relu'))\n",
    "        model.add(BatchNormalization())\n",
    "        model.add(MaxPooling3D(pool_size=(2, 2, 2)))\n",
    "\n",
    "        model.add(Conv3D(64, (2, 2, 2), padding='same'))\n",
    "        model.add(Activation('relu'))\n",
    "        model.add(BatchNormalization())\n",
    "        model.add(MaxPooling3D(pool_size=(2, 2, 2)))\n",
    "\n",
    "        model.add(Conv3D(128, (2, 2, 2), padding='same'))\n",
    "        model.add(Activation('relu'))\n",
    "        model.add(BatchNormalization())\n",
    "        model.add(MaxPooling3D(pool_size=(2, 2, 2)))\n",
    "\n",
    "        model.add(Flatten())\n",
    "        model.add(Dense(128,activation='relu'))\n",
    "        model.add(BatchNormalization())\n",
    "        model.add(Dropout(dropout))\n",
    "\n",
    "        model.add(Dense(dense_neurons,activation='relu'))\n",
    "        model.add(BatchNormalization())\n",
    "        model.add(Dropout(dropout))\n",
    "\n",
    "        model.add(Dense(5,activation='softmax'))\n",
    "\n",
    "        optimiser = optimiser = 'sgd'\n",
    "        model.compile(optimizer=optimiser, loss='categorical_crossentropy', metrics=['categorical_accuracy'])\n",
    "        return model"
   ]
  },
  {
   "cell_type": "code",
   "execution_count": 7,
   "metadata": {},
   "outputs": [
    {
     "name": "stdout",
     "output_type": "stream",
     "text": [
      "Model: \"sequential\"\n",
      "_________________________________________________________________\n",
      " Layer (type)                Output Shape              Param #   \n",
      "=================================================================\n",
      " conv3d (Conv3D)             (None, 13, 120, 120, 32)  2624      \n",
      "                                                                 \n",
      " activation (Activation)     (None, 13, 120, 120, 32)  0         \n",
      "                                                                 \n",
      " batch_normalization (BatchN  (None, 13, 120, 120, 32)  128      \n",
      " ormalization)                                                   \n",
      "                                                                 \n",
      " max_pooling3d (MaxPooling3D  (None, 6, 60, 60, 32)    0         \n",
      " )                                                               \n",
      "                                                                 \n",
      " conv3d_1 (Conv3D)           (None, 6, 60, 60, 64)     16448     \n",
      "                                                                 \n",
      " activation_1 (Activation)   (None, 6, 60, 60, 64)     0         \n",
      "                                                                 \n",
      " batch_normalization_1 (Batc  (None, 6, 60, 60, 64)    256       \n",
      " hNormalization)                                                 \n",
      "                                                                 \n",
      " max_pooling3d_1 (MaxPooling  (None, 3, 30, 30, 64)    0         \n",
      " 3D)                                                             \n",
      "                                                                 \n",
      " conv3d_2 (Conv3D)           (None, 3, 30, 30, 128)    65664     \n",
      "                                                                 \n",
      " activation_2 (Activation)   (None, 3, 30, 30, 128)    0         \n",
      "                                                                 \n",
      " batch_normalization_2 (Batc  (None, 3, 30, 30, 128)   512       \n",
      " hNormalization)                                                 \n",
      "                                                                 \n",
      " max_pooling3d_2 (MaxPooling  (None, 1, 15, 15, 128)   0         \n",
      " 3D)                                                             \n",
      "                                                                 \n",
      " flatten (Flatten)           (None, 28800)             0         \n",
      "                                                                 \n",
      " dense (Dense)               (None, 128)               3686528   \n",
      "                                                                 \n",
      " batch_normalization_3 (Batc  (None, 128)              512       \n",
      " hNormalization)                                                 \n",
      "                                                                 \n",
      " dropout (Dropout)           (None, 128)               0         \n",
      "                                                                 \n",
      " dense_1 (Dense)             (None, 64)                8256      \n",
      "                                                                 \n",
      " batch_normalization_4 (Batc  (None, 64)               256       \n",
      " hNormalization)                                                 \n",
      "                                                                 \n",
      " dropout_1 (Dropout)         (None, 64)                0         \n",
      "                                                                 \n",
      " dense_2 (Dense)             (None, 5)                 325       \n",
      "                                                                 \n",
      "=================================================================\n",
      "Total params: 3,781,509\n",
      "Trainable params: 3,780,677\n",
      "Non-trainable params: 832\n",
      "_________________________________________________________________\n"
     ]
    },
    {
     "name": "stderr",
     "output_type": "stream",
     "text": [
      "2025-01-29 14:53:07.845082: W tensorflow/core/common_runtime/gpu/gpu_bfc_allocator.cc:39] Overriding allow_growth setting because the TF_FORCE_GPU_ALLOW_GROWTH environment variable is set. Original config value was 0.\n",
      "2025-01-29 14:53:07.845155: I tensorflow/core/common_runtime/gpu/gpu_device.cc:1525] Created device /job:localhost/replica:0/task:0/device:GPU:0 with 14800 MB memory:  -> device: 0, name: Quadro RTX 5000, pci bus id: 0000:1e:00.0, compute capability: 7.5\n"
     ]
    }
   ],
   "source": [
    "conv_model_obj=Model()\n",
    "conv_model_obj.initialize_path(project_folder)\n",
    "conv_model_obj.initialize_image_properties(image_height=120,image_width=120)\n",
    "conv_model_obj.initialize_hyperparams(frames_to_sample=13,batch_size=64,num_epochs=20)\n",
    "conv_model_model=conv_model_obj.define_model()\n",
    "conv_model_model.summary()"
   ]
  },
  {
   "cell_type": "code",
   "execution_count": 8,
   "metadata": {},
   "outputs": [
    {
     "name": "stdout",
     "output_type": "stream",
     "text": [
      "Total Params: 3781509\n"
     ]
    }
   ],
   "source": [
    "print(\"Total Params:\", conv_model_model.count_params())"
   ]
  },
  {
   "cell_type": "code",
   "execution_count": 130,
   "metadata": {},
   "outputs": [
    {
     "name": "stdout",
     "output_type": "stream",
     "text": [
      "WARNING:tensorflow:`period` argument is deprecated. Please use `save_freq` to specify the frequency in number of batches seen.\n",
      "Epoch 1/20\n",
      "11/11 [==============================] - ETA: 0s - loss: 1.5387 - categorical_accuracy: 0.4702\n",
      "Epoch 00001: val_loss improved from inf to 1.59490, saving model to model_init_2025-01-2819_51_12.870779/model-00001-1.53871-0.47017-1.59490-0.22656.h5\n",
      "11/11 [==============================] - 81s 8s/step - loss: 1.5387 - categorical_accuracy: 0.4702 - val_loss: 1.5949 - val_categorical_accuracy: 0.2266 - lr: 0.0100\n",
      "Epoch 2/20\n",
      "11/11 [==============================] - ETA: 0s - loss: 0.9710 - categorical_accuracy: 0.6278\n",
      "Epoch 00002: val_loss did not improve from 1.59490\n",
      "11/11 [==============================] - 78s 8s/step - loss: 0.9710 - categorical_accuracy: 0.6278 - val_loss: 1.7473 - val_categorical_accuracy: 0.2344 - lr: 0.0100\n",
      "Epoch 3/20\n",
      "11/11 [==============================] - ETA: 0s - loss: 0.5936 - categorical_accuracy: 0.7912\n",
      "Epoch 00003: val_loss did not improve from 1.59490\n",
      "11/11 [==============================] - 81s 8s/step - loss: 0.5936 - categorical_accuracy: 0.7912 - val_loss: 2.1914 - val_categorical_accuracy: 0.2031 - lr: 0.0100\n",
      "Epoch 4/20\n",
      "11/11 [==============================] - ETA: 0s - loss: 0.4663 - categorical_accuracy: 0.8423\n",
      "Epoch 00004: val_loss did not improve from 1.59490\n",
      "11/11 [==============================] - 79s 8s/step - loss: 0.4663 - categorical_accuracy: 0.8423 - val_loss: 2.8605 - val_categorical_accuracy: 0.2031 - lr: 0.0100\n",
      "Epoch 5/20\n",
      "11/11 [==============================] - ETA: 0s - loss: 0.3432 - categorical_accuracy: 0.8920\n",
      "Epoch 00005: val_loss did not improve from 1.59490\n",
      "\n",
      "Epoch 00005: ReduceLROnPlateau reducing learning rate to 0.0019999999552965165.\n",
      "11/11 [==============================] - 82s 8s/step - loss: 0.3432 - categorical_accuracy: 0.8920 - val_loss: 3.4086 - val_categorical_accuracy: 0.1953 - lr: 0.0100\n",
      "Epoch 6/20\n",
      "11/11 [==============================] - ETA: 0s - loss: 0.2957 - categorical_accuracy: 0.9119\n",
      "Epoch 00006: val_loss did not improve from 1.59490\n",
      "11/11 [==============================] - 78s 8s/step - loss: 0.2957 - categorical_accuracy: 0.9119 - val_loss: 4.0307 - val_categorical_accuracy: 0.1641 - lr: 0.0020\n",
      "Epoch 7/20\n",
      "11/11 [==============================] - ETA: 0s - loss: 0.2467 - categorical_accuracy: 0.9276\n",
      "Epoch 00007: val_loss did not improve from 1.59490\n",
      "11/11 [==============================] - 76s 8s/step - loss: 0.2467 - categorical_accuracy: 0.9276 - val_loss: 4.4123 - val_categorical_accuracy: 0.2109 - lr: 0.0020\n",
      "Epoch 8/20\n",
      "11/11 [==============================] - ETA: 0s - loss: 0.2203 - categorical_accuracy: 0.9489\n",
      "Epoch 00008: val_loss did not improve from 1.59490\n",
      "11/11 [==============================] - 78s 8s/step - loss: 0.2203 - categorical_accuracy: 0.9489 - val_loss: 4.5632 - val_categorical_accuracy: 0.2734 - lr: 0.0020\n",
      "Epoch 9/20\n",
      "11/11 [==============================] - ETA: 0s - loss: 0.2250 - categorical_accuracy: 0.9531\n",
      "Epoch 00009: val_loss did not improve from 1.59490\n",
      "\n",
      "Epoch 00009: ReduceLROnPlateau reducing learning rate to 0.0003999999724328518.\n",
      "11/11 [==============================] - 77s 8s/step - loss: 0.2250 - categorical_accuracy: 0.9531 - val_loss: 5.2371 - val_categorical_accuracy: 0.2188 - lr: 0.0020\n",
      "Epoch 10/20\n",
      "11/11 [==============================] - ETA: 0s - loss: 0.2069 - categorical_accuracy: 0.9545\n",
      "Epoch 00010: val_loss did not improve from 1.59490\n",
      "11/11 [==============================] - 78s 8s/step - loss: 0.2069 - categorical_accuracy: 0.9545 - val_loss: 5.2774 - val_categorical_accuracy: 0.2266 - lr: 4.0000e-04\n",
      "Epoch 11/20\n",
      "11/11 [==============================] - ETA: 0s - loss: 0.1942 - categorical_accuracy: 0.9645\n",
      "Epoch 00011: val_loss did not improve from 1.59490\n",
      "11/11 [==============================] - 79s 8s/step - loss: 0.1942 - categorical_accuracy: 0.9645 - val_loss: 5.5245 - val_categorical_accuracy: 0.2344 - lr: 4.0000e-04\n",
      "Epoch 00011: early stopping\n"
     ]
    }
   ],
   "source": [
    "training_output_model = conv_model_obj.train_model(conv_model_model)"
   ]
  },
  {
   "cell_type": "code",
   "execution_count": 139,
   "metadata": {},
   "outputs": [
    {
     "data": {
      "image/png": "[encoded data removed]",
      "text/plain": [
       "<Figure size 1080x288 with 2 Axes>"
      ]
     },
     "metadata": {
      "needs_background": "light"
     },
     "output_type": "display_data"
    }
   ],
   "source": [
    "plot(training_output_model2)"
   ]
  },
  {
   "cell_type": "markdown",
   "metadata": {},
   "source": [
    "## Model 2:  Reduce the Batch Size to 40 also reduce the Image resolution to (80 x 80). "
   ]
  },
  {
   "cell_type": "code",
   "execution_count": 84,
   "metadata": {},
   "outputs": [],
   "source": [
    "\n",
    "class Model2(ModelBuilder):\n",
    "    \n",
    "    def define_model(self,filtersize=(3,3,3),dense_neurons=64,dropout=0.25):\n",
    "  \n",
    "        model = Sequential()\n",
    "        model.add(Conv3D(32, (3, 3, 3), padding='same',\n",
    "                 input_shape=(self.frames_to_sample,self.image_height,self.image_width,self.channels)))\n",
    "        model.add(Activation('relu'))\n",
    "        model.add(BatchNormalization())\n",
    "        model.add(MaxPooling3D(pool_size=(2, 2, 2)))\n",
    "\n",
    "        model.add(Conv3D(64, (2, 2, 2), padding='same'))\n",
    "        model.add(Activation('relu'))\n",
    "        model.add(BatchNormalization())\n",
    "        model.add(MaxPooling3D(pool_size=(2, 2, 2)))\n",
    "\n",
    "        model.add(Conv3D(128, (2, 2, 2), padding='same'))\n",
    "        model.add(Activation('relu'))\n",
    "        model.add(BatchNormalization())\n",
    "        model.add(MaxPooling3D(pool_size=(2, 2, 2)))\n",
    "\n",
    "        model.add(Flatten())\n",
    "        model.add(Dense(128,activation='relu'))\n",
    "        model.add(BatchNormalization())\n",
    "        model.add(Dropout(dropout))\n",
    "\n",
    "        model.add(Dense(dense_neurons,activation='relu'))\n",
    "        model.add(BatchNormalization())\n",
    "        model.add(Dropout(dropout))\n",
    "\n",
    "        model.add(Dense(5,activation='softmax'))\n",
    "\n",
    "        optimiser = optimiser = 'sgd'\n",
    "        model.compile(optimizer=optimiser, loss='categorical_crossentropy', metrics=['categorical_accuracy'])\n",
    "        return model"
   ]
  },
  {
   "cell_type": "code",
   "execution_count": 85,
   "metadata": {},
   "outputs": [
    {
     "name": "stdout",
     "output_type": "stream",
     "text": [
      "Model: \"sequential_18\"\n",
      "_________________________________________________________________\n",
      " Layer (type)                Output Shape              Param #   \n",
      "=================================================================\n",
      " conv3d_34 (Conv3D)          (None, 13, 80, 80, 32)    2624      \n",
      "                                                                 \n",
      " activation_34 (Activation)  (None, 13, 80, 80, 32)    0         \n",
      "                                                                 \n",
      " batch_normalization_93 (Bat  (None, 13, 80, 80, 32)   128       \n",
      " chNormalization)                                                \n",
      "                                                                 \n",
      " max_pooling3d_26 (MaxPoolin  (None, 6, 40, 40, 32)    0         \n",
      " g3D)                                                            \n",
      "                                                                 \n",
      " conv3d_35 (Conv3D)          (None, 6, 40, 40, 64)     16448     \n",
      "                                                                 \n",
      " activation_35 (Activation)  (None, 6, 40, 40, 64)     0         \n",
      "                                                                 \n",
      " batch_normalization_94 (Bat  (None, 6, 40, 40, 64)    256       \n",
      " chNormalization)                                                \n",
      "                                                                 \n",
      " max_pooling3d_27 (MaxPoolin  (None, 3, 20, 20, 64)    0         \n",
      " g3D)                                                            \n",
      "                                                                 \n",
      " conv3d_36 (Conv3D)          (None, 3, 20, 20, 128)    65664     \n",
      "                                                                 \n",
      " activation_36 (Activation)  (None, 3, 20, 20, 128)    0         \n",
      "                                                                 \n",
      " batch_normalization_95 (Bat  (None, 3, 20, 20, 128)   512       \n",
      " chNormalization)                                                \n",
      "                                                                 \n",
      " max_pooling3d_28 (MaxPoolin  (None, 1, 10, 10, 128)   0         \n",
      " g3D)                                                            \n",
      "                                                                 \n",
      " flatten_18 (Flatten)        (None, 12800)             0         \n",
      "                                                                 \n",
      " dense_44 (Dense)            (None, 128)               1638528   \n",
      "                                                                 \n",
      " batch_normalization_96 (Bat  (None, 128)              512       \n",
      " chNormalization)                                                \n",
      "                                                                 \n",
      " dropout_40 (Dropout)        (None, 128)               0         \n",
      "                                                                 \n",
      " dense_45 (Dense)            (None, 64)                8256      \n",
      "                                                                 \n",
      " batch_normalization_97 (Bat  (None, 64)               256       \n",
      " chNormalization)                                                \n",
      "                                                                 \n",
      " dropout_41 (Dropout)        (None, 64)                0         \n",
      "                                                                 \n",
      " dense_46 (Dense)            (None, 5)                 325       \n",
      "                                                                 \n",
      "=================================================================\n",
      "Total params: 1,733,509\n",
      "Trainable params: 1,732,677\n",
      "Non-trainable params: 832\n",
      "_________________________________________________________________\n"
     ]
    }
   ],
   "source": [
    "conv_model2_obj=Model2()\n",
    "conv_model2_obj.initialize_path(project_folder)\n",
    "conv_model2_obj.initialize_image_properties(image_height=80,image_width=80)\n",
    "conv_model2_obj.initialize_hyperparams(frames_to_sample=13,batch_size=40,num_epochs=15)\n",
    "conv_model2_model=conv_model2_obj.define_model()\n",
    "conv_model2_model.summary()"
   ]
  },
  {
   "cell_type": "code",
   "execution_count": 86,
   "metadata": {},
   "outputs": [
    {
     "name": "stdout",
     "output_type": "stream",
     "text": [
      "Total Params: 1733509\n"
     ]
    }
   ],
   "source": [
    "print(\"Total Params:\", conv_model2_model.count_params())"
   ]
  },
  {
   "cell_type": "code",
   "execution_count": 65,
   "metadata": {},
   "outputs": [
    {
     "name": "stdout",
     "output_type": "stream",
     "text": [
      "WARNING:tensorflow:`period` argument is deprecated. Please use `save_freq` to specify the frequency in number of batches seen.\n",
      "Epoch 1/15\n",
      "17/17 [==============================] - ETA: 0s - loss: 1.7835 - categorical_accuracy: 0.3824\n",
      "Epoch 00001: val_loss improved from inf to 1.60217, saving model to model_init_2025-01-2912_12_25.259404/model-00001-1.78351-0.38235-1.60217-0.18333.h5\n",
      "17/17 [==============================] - 74s 5s/step - loss: 1.7835 - categorical_accuracy: 0.3824 - val_loss: 1.6022 - val_categorical_accuracy: 0.1833 - lr: 0.0100\n",
      "Epoch 2/15\n",
      "17/17 [==============================] - ETA: 0s - loss: 1.1433 - categorical_accuracy: 0.5632\n",
      "Epoch 00002: val_loss did not improve from 1.60217\n",
      "17/17 [==============================] - 73s 5s/step - loss: 1.1433 - categorical_accuracy: 0.5632 - val_loss: 1.8758 - val_categorical_accuracy: 0.2417 - lr: 0.0100\n",
      "Epoch 3/15\n",
      "17/17 [==============================] - ETA: 0s - loss: 0.8684 - categorical_accuracy: 0.6794\n",
      "Epoch 00003: val_loss did not improve from 1.60217\n",
      "17/17 [==============================] - 71s 4s/step - loss: 0.8684 - categorical_accuracy: 0.6794 - val_loss: 2.3863 - val_categorical_accuracy: 0.1917 - lr: 0.0100\n",
      "Epoch 4/15\n",
      "17/17 [==============================] - ETA: 0s - loss: 0.6074 - categorical_accuracy: 0.7750\n",
      "Epoch 00004: val_loss did not improve from 1.60217\n",
      "17/17 [==============================] - 71s 4s/step - loss: 0.6074 - categorical_accuracy: 0.7750 - val_loss: 3.3576 - val_categorical_accuracy: 0.2083 - lr: 0.0100\n",
      "Epoch 5/15\n",
      "17/17 [==============================] - ETA: 0s - loss: 0.4504 - categorical_accuracy: 0.8397\n",
      "Epoch 00005: val_loss did not improve from 1.60217\n",
      "\n",
      "Epoch 00005: ReduceLROnPlateau reducing learning rate to 0.0019999999552965165.\n",
      "17/17 [==============================] - 72s 5s/step - loss: 0.4504 - categorical_accuracy: 0.8397 - val_loss: 3.9819 - val_categorical_accuracy: 0.2333 - lr: 0.0100\n",
      "Epoch 6/15\n",
      "17/17 [==============================] - ETA: 0s - loss: 0.3333 - categorical_accuracy: 0.9118\n",
      "Epoch 00006: val_loss did not improve from 1.60217\n",
      "17/17 [==============================] - 71s 4s/step - loss: 0.3333 - categorical_accuracy: 0.9118 - val_loss: 4.7173 - val_categorical_accuracy: 0.2000 - lr: 0.0020\n",
      "Epoch 7/15\n",
      "17/17 [==============================] - ETA: 0s - loss: 0.3278 - categorical_accuracy: 0.8971\n",
      "Epoch 00007: val_loss did not improve from 1.60217\n",
      "17/17 [==============================] - 72s 4s/step - loss: 0.3278 - categorical_accuracy: 0.8971 - val_loss: 5.1816 - val_categorical_accuracy: 0.2250 - lr: 0.0020\n",
      "Epoch 8/15\n",
      "17/17 [==============================] - ETA: 0s - loss: 0.2624 - categorical_accuracy: 0.9309\n",
      "Epoch 00008: val_loss did not improve from 1.60217\n",
      "17/17 [==============================] - 71s 4s/step - loss: 0.2624 - categorical_accuracy: 0.9309 - val_loss: 5.5840 - val_categorical_accuracy: 0.1917 - lr: 0.0020\n",
      "Epoch 9/15\n",
      "17/17 [==============================] - ETA: 0s - loss: 0.2901 - categorical_accuracy: 0.9059\n",
      "Epoch 00009: val_loss did not improve from 1.60217\n",
      "\n",
      "Epoch 00009: ReduceLROnPlateau reducing learning rate to 0.0003999999724328518.\n",
      "17/17 [==============================] - 72s 4s/step - loss: 0.2901 - categorical_accuracy: 0.9059 - val_loss: 5.4257 - val_categorical_accuracy: 0.3000 - lr: 0.0020\n",
      "Epoch 10/15\n",
      "17/17 [==============================] - ETA: 0s - loss: 0.2477 - categorical_accuracy: 0.9456\n",
      "Epoch 00010: val_loss did not improve from 1.60217\n",
      "17/17 [==============================] - 71s 4s/step - loss: 0.2477 - categorical_accuracy: 0.9456 - val_loss: 5.3143 - val_categorical_accuracy: 0.3250 - lr: 4.0000e-04\n",
      "Epoch 11/15\n",
      "17/17 [==============================] - ETA: 0s - loss: 0.2647 - categorical_accuracy: 0.9235\n",
      "Epoch 00011: val_loss did not improve from 1.60217\n",
      "17/17 [==============================] - 74s 5s/step - loss: 0.2647 - categorical_accuracy: 0.9235 - val_loss: 5.7090 - val_categorical_accuracy: 0.2667 - lr: 4.0000e-04\n",
      "Epoch 00011: early stopping\n"
     ]
    }
   ],
   "source": [
    "training_output_model2 = conv_model2_obj.train_model(conv_model2_model)"
   ]
  },
  {
   "cell_type": "code",
   "execution_count": 66,
   "metadata": {},
   "outputs": [
    {
     "data": {
      "image/png": "[encoded data removed]",
      "text/plain": [
       "<Figure size 1080x288 with 2 Axes>"
      ]
     },
     "metadata": {
      "needs_background": "light"
     },
     "output_type": "display_data"
    }
   ],
   "source": [
    "plot(training_output_model2)"
   ]
  },
  {
   "cell_type": "markdown",
   "metadata": {},
   "source": [
    "Our model is seemingly **Overfitting.**"
   ]
  },
  {
   "cell_type": "markdown",
   "metadata": {},
   "source": [
    "## Model 3: Data Augmentation and frames_per_sample 20"
   ]
  },
  {
   "cell_type": "markdown",
   "metadata": {},
   "source": [
    "The model is seemingly **Overfitting.** So, let us do some ***data augmentation***, increase the frames per second to be considered and run the training."
   ]
  },
  {
   "cell_type": "code",
   "execution_count": 20,
   "metadata": {},
   "outputs": [],
   "source": [
    "\n",
    "class Model3(ModelBuilder):\n",
    "    \n",
    "    def define_model(self,filtersize=(3,3,3),dense_neurons=64,dropout=0.25):\n",
    "  \n",
    "        model = Sequential()\n",
    "        model.add(Conv3D(32, (3, 3, 3), padding='same',\n",
    "                 input_shape=(self.frames_to_sample,self.image_height,self.image_width,self.channels)))\n",
    "        model.add(Activation('relu'))\n",
    "        model.add(BatchNormalization())\n",
    "        model.add(MaxPooling3D(pool_size=(2, 2, 2)))\n",
    "\n",
    "        model.add(Conv3D(64, (2, 2, 2), padding='same'))\n",
    "        model.add(Activation('relu'))\n",
    "        model.add(BatchNormalization())\n",
    "        model.add(MaxPooling3D(pool_size=(2, 2, 2)))\n",
    "\n",
    "        model.add(Conv3D(128, (2, 2, 2), padding='same'))\n",
    "        model.add(Activation('relu'))\n",
    "        model.add(BatchNormalization())\n",
    "        model.add(MaxPooling3D(pool_size=(2, 2, 2)))\n",
    "\n",
    "        model.add(Flatten())\n",
    "        model.add(Dense(128,activation='relu'))\n",
    "        model.add(BatchNormalization())\n",
    "        model.add(Dropout(dropout))\n",
    "\n",
    "        model.add(Dense(dense_neurons,activation='relu'))\n",
    "        model.add(BatchNormalization())\n",
    "        model.add(Dropout(dropout))\n",
    "\n",
    "        model.add(Dense(5,activation='softmax'))\n",
    "\n",
    "        optimiser = optimiser = 'sgd'\n",
    "        model.compile(optimizer=optimiser, loss='categorical_crossentropy', metrics=['categorical_accuracy'])\n",
    "        return model"
   ]
  },
  {
   "cell_type": "code",
   "execution_count": 21,
   "metadata": {},
   "outputs": [
    {
     "name": "stdout",
     "output_type": "stream",
     "text": [
      "Model: \"sequential_4\"\n",
      "_________________________________________________________________\n",
      " Layer (type)                Output Shape              Param #   \n",
      "=================================================================\n",
      " conv3d (Conv3D)             (None, 20, 120, 120, 32)  2624      \n",
      "                                                                 \n",
      " activation (Activation)     (None, 20, 120, 120, 32)  0         \n",
      "                                                                 \n",
      " batch_normalization_17 (Bat  (None, 20, 120, 120, 32)  128      \n",
      " chNormalization)                                                \n",
      "                                                                 \n",
      " max_pooling3d (MaxPooling3D  (None, 10, 60, 60, 32)   0         \n",
      " )                                                               \n",
      "                                                                 \n",
      " conv3d_1 (Conv3D)           (None, 10, 60, 60, 64)    16448     \n",
      "                                                                 \n",
      " activation_1 (Activation)   (None, 10, 60, 60, 64)    0         \n",
      "                                                                 \n",
      " batch_normalization_18 (Bat  (None, 10, 60, 60, 64)   256       \n",
      " chNormalization)                                                \n",
      "                                                                 \n",
      " max_pooling3d_1 (MaxPooling  (None, 5, 30, 30, 64)    0         \n",
      " 3D)                                                             \n",
      "                                                                 \n",
      " conv3d_2 (Conv3D)           (None, 5, 30, 30, 128)    65664     \n",
      "                                                                 \n",
      " activation_2 (Activation)   (None, 5, 30, 30, 128)    0         \n",
      "                                                                 \n",
      " batch_normalization_19 (Bat  (None, 5, 30, 30, 128)   512       \n",
      " chNormalization)                                                \n",
      "                                                                 \n",
      " max_pooling3d_2 (MaxPooling  (None, 2, 15, 15, 128)   0         \n",
      " 3D)                                                             \n",
      "                                                                 \n",
      " flatten_4 (Flatten)         (None, 57600)             0         \n",
      "                                                                 \n",
      " dense_8 (Dense)             (None, 128)               7372928   \n",
      "                                                                 \n",
      " batch_normalization_20 (Bat  (None, 128)              512       \n",
      " chNormalization)                                                \n",
      "                                                                 \n",
      " dropout_8 (Dropout)         (None, 128)               0         \n",
      "                                                                 \n",
      " dense_9 (Dense)             (None, 64)                8256      \n",
      "                                                                 \n",
      " batch_normalization_21 (Bat  (None, 64)               256       \n",
      " chNormalization)                                                \n",
      "                                                                 \n",
      " dropout_9 (Dropout)         (None, 64)                0         \n",
      "                                                                 \n",
      " dense_10 (Dense)            (None, 5)                 325       \n",
      "                                                                 \n",
      "=================================================================\n",
      "Total params: 7,467,909\n",
      "Trainable params: 7,467,077\n",
      "Non-trainable params: 832\n",
      "_________________________________________________________________\n"
     ]
    }
   ],
   "source": [
    "conv_model3_obj=Model3()\n",
    "conv_model3_obj.initialize_path(project_folder)\n",
    "conv_model3_obj.initialize_image_properties(image_height=120,image_width=120)\n",
    "conv_model3_obj.initialize_hyperparams(frames_to_sample=20,batch_size=64,num_epochs=15)\n",
    "conv_model3_model=conv_model3_obj.define_model()\n",
    "conv_model3_model.summary()"
   ]
  },
  {
   "cell_type": "code",
   "execution_count": 22,
   "metadata": {},
   "outputs": [
    {
     "name": "stdout",
     "output_type": "stream",
     "text": [
      "Total Params: 7467909\n"
     ]
    }
   ],
   "source": [
    "print(\"Total Params:\", conv_model3_model.count_params())"
   ]
  },
  {
   "cell_type": "code",
   "execution_count": 149,
   "metadata": {},
   "outputs": [
    {
     "name": "stdout",
     "output_type": "stream",
     "text": [
      "WARNING:tensorflow:`period` argument is deprecated. Please use `save_freq` to specify the frequency in number of batches seen.\n",
      "Epoch 1/15\n",
      "11/11 [==============================] - ETA: 0s - loss: 1.6070 - categorical_accuracy: 0.4205 \n",
      "Epoch 00001: val_loss improved from inf to 1.64988, saving model to model_init_2025-01-2820_33_44.740223/model-00001-1.60700-0.42045-1.64988-0.30469.h5\n",
      "11/11 [==============================] - 148s 15s/step - loss: 1.6070 - categorical_accuracy: 0.4205 - val_loss: 1.6499 - val_categorical_accuracy: 0.3047 - lr: 0.0100\n",
      "Epoch 2/15\n",
      "11/11 [==============================] - ETA: 0s - loss: 1.0145 - categorical_accuracy: 0.6207 \n",
      "Epoch 00002: val_loss did not improve from 1.64988\n",
      "11/11 [==============================] - 136s 14s/step - loss: 1.0145 - categorical_accuracy: 0.6207 - val_loss: 2.0183 - val_categorical_accuracy: 0.1406 - lr: 0.0100\n",
      "Epoch 3/15\n",
      "11/11 [==============================] - ETA: 0s - loss: 0.8197 - categorical_accuracy: 0.6903 \n",
      "Epoch 00003: val_loss did not improve from 1.64988\n",
      "11/11 [==============================] - 136s 14s/step - loss: 0.8197 - categorical_accuracy: 0.6903 - val_loss: 2.6791 - val_categorical_accuracy: 0.1562 - lr: 0.0100\n",
      "Epoch 4/15\n",
      "11/11 [==============================] - ETA: 0s - loss: 0.7292 - categorical_accuracy: 0.7386 \n",
      "Epoch 00004: val_loss did not improve from 1.64988\n",
      "11/11 [==============================] - 139s 14s/step - loss: 0.7292 - categorical_accuracy: 0.7386 - val_loss: 3.8265 - val_categorical_accuracy: 0.1406 - lr: 0.0100\n",
      "Epoch 5/15\n",
      "11/11 [==============================] - ETA: 0s - loss: 0.5579 - categorical_accuracy: 0.7827 \n",
      "Epoch 00005: val_loss did not improve from 1.64988\n",
      "\n",
      "Epoch 00005: ReduceLROnPlateau reducing learning rate to 0.0019999999552965165.\n",
      "11/11 [==============================] - 132s 13s/step - loss: 0.5579 - categorical_accuracy: 0.7827 - val_loss: 4.4640 - val_categorical_accuracy: 0.1797 - lr: 0.0100\n",
      "Epoch 6/15\n",
      "11/11 [==============================] - ETA: 0s - loss: 0.4847 - categorical_accuracy: 0.8295 \n",
      "Epoch 00006: val_loss did not improve from 1.64988\n",
      "11/11 [==============================] - 137s 14s/step - loss: 0.4847 - categorical_accuracy: 0.8295 - val_loss: 4.8317 - val_categorical_accuracy: 0.1641 - lr: 0.0020\n",
      "Epoch 7/15\n",
      "11/11 [==============================] - ETA: 0s - loss: 0.4816 - categorical_accuracy: 0.8366 \n",
      "Epoch 00007: val_loss did not improve from 1.64988\n",
      "11/11 [==============================] - 137s 14s/step - loss: 0.4816 - categorical_accuracy: 0.8366 - val_loss: 5.2854 - val_categorical_accuracy: 0.1562 - lr: 0.0020\n",
      "Epoch 8/15\n",
      "11/11 [==============================] - ETA: 0s - loss: 0.4163 - categorical_accuracy: 0.8608 \n",
      "Epoch 00008: val_loss did not improve from 1.64988\n",
      "11/11 [==============================] - 136s 14s/step - loss: 0.4163 - categorical_accuracy: 0.8608 - val_loss: 5.8051 - val_categorical_accuracy: 0.1953 - lr: 0.0020\n",
      "Epoch 9/15\n",
      "11/11 [==============================] - ETA: 0s - loss: 0.3676 - categorical_accuracy: 0.8807 \n",
      "Epoch 00009: val_loss did not improve from 1.64988\n",
      "\n",
      "Epoch 00009: ReduceLROnPlateau reducing learning rate to 0.0003999999724328518.\n",
      "11/11 [==============================] - 135s 13s/step - loss: 0.3676 - categorical_accuracy: 0.8807 - val_loss: 6.3204 - val_categorical_accuracy: 0.1719 - lr: 0.0020\n",
      "Epoch 10/15\n",
      "11/11 [==============================] - ETA: 0s - loss: 0.4220 - categorical_accuracy: 0.8509 \n",
      "Epoch 00010: val_loss did not improve from 1.64988\n",
      "11/11 [==============================] - 135s 13s/step - loss: 0.4220 - categorical_accuracy: 0.8509 - val_loss: 6.7779 - val_categorical_accuracy: 0.2344 - lr: 4.0000e-04\n",
      "Epoch 11/15\n",
      "11/11 [==============================] - ETA: 0s - loss: 0.3722 - categorical_accuracy: 0.8707 \n",
      "Epoch 00011: val_loss did not improve from 1.64988\n",
      "11/11 [==============================] - 136s 14s/step - loss: 0.3722 - categorical_accuracy: 0.8707 - val_loss: 6.8608 - val_categorical_accuracy: 0.2422 - lr: 4.0000e-04\n",
      "Epoch 00011: early stopping\n"
     ]
    }
   ],
   "source": [
    "training_output_model3 = conv_model3_obj.train_model(conv_model3_model, augment_data=True)"
   ]
  },
  {
   "cell_type": "code",
   "execution_count": 150,
   "metadata": {},
   "outputs": [
    {
     "data": {
      "image/png": "[encoded data removed]",
      "text/plain": [
       "<Figure size 1080x288 with 2 Axes>"
      ]
     },
     "metadata": {
      "needs_background": "light"
     },
     "output_type": "display_data"
    }
   ],
   "source": [
    "plot(training_output_model3)"
   ]
  },
  {
   "cell_type": "markdown",
   "metadata": {},
   "source": [
    "## Model 4: Changing the filter size to (2x2x2). Maintaining the Image Resolution at 120x120 and increase Frames_per_sample 20\n"
   ]
  },
  {
   "cell_type": "markdown",
   "metadata": {},
   "source": []
  },
  {
   "cell_type": "code",
   "execution_count": 9,
   "metadata": {},
   "outputs": [],
   "source": [
    "\n",
    "class Model4(ModelBuilder):\n",
    "    \n",
    "    def define_model(self,filtersize=(2,2,2),dense_neurons=64,dropout=0.25):\n",
    "  \n",
    "        model = Sequential()\n",
    "        model.add(Conv3D(32, (3, 3, 3), padding='same',\n",
    "                 input_shape=(self.frames_to_sample,self.image_height,self.image_width,self.channels)))\n",
    "        model.add(Activation('relu'))\n",
    "        model.add(BatchNormalization())\n",
    "        model.add(MaxPooling3D(pool_size=(2, 2, 2)))\n",
    "\n",
    "        model.add(Conv3D(64, (2, 2, 2), padding='same'))\n",
    "        model.add(Activation('relu'))\n",
    "        model.add(BatchNormalization())\n",
    "        model.add(MaxPooling3D(pool_size=(2, 2, 2)))\n",
    "\n",
    "        model.add(Conv3D(128, (2, 2, 2), padding='same'))\n",
    "        model.add(Activation('relu'))\n",
    "        model.add(BatchNormalization())\n",
    "        model.add(MaxPooling3D(pool_size=(2, 2, 2)))\n",
    "\n",
    "        model.add(Flatten())\n",
    "        model.add(Dense(128,activation='relu'))\n",
    "        model.add(BatchNormalization())\n",
    "        model.add(Dropout(dropout))\n",
    "\n",
    "        model.add(Dense(dense_neurons,activation='relu'))\n",
    "        model.add(BatchNormalization())\n",
    "        model.add(Dropout(dropout))\n",
    "\n",
    "        model.add(Dense(5,activation='softmax'))\n",
    "\n",
    "        optimiser = tf.keras.optimizers.Adam()\n",
    "        model.compile(optimizer=optimiser, loss='categorical_crossentropy', metrics=['categorical_accuracy'])\n",
    "        return model"
   ]
  },
  {
   "cell_type": "code",
   "execution_count": 10,
   "metadata": {},
   "outputs": [
    {
     "name": "stdout",
     "output_type": "stream",
     "text": [
      "Model: \"sequential_1\"\n",
      "_________________________________________________________________\n",
      " Layer (type)                Output Shape              Param #   \n",
      "=================================================================\n",
      " conv3d_3 (Conv3D)           (None, 30, 80, 80, 32)    2624      \n",
      "                                                                 \n",
      " activation_3 (Activation)   (None, 30, 80, 80, 32)    0         \n",
      "                                                                 \n",
      " batch_normalization_5 (Batc  (None, 30, 80, 80, 32)   128       \n",
      " hNormalization)                                                 \n",
      "                                                                 \n",
      " max_pooling3d_3 (MaxPooling  (None, 15, 40, 40, 32)   0         \n",
      " 3D)                                                             \n",
      "                                                                 \n",
      " conv3d_4 (Conv3D)           (None, 15, 40, 40, 64)    16448     \n",
      "                                                                 \n",
      " activation_4 (Activation)   (None, 15, 40, 40, 64)    0         \n",
      "                                                                 \n",
      " batch_normalization_6 (Batc  (None, 15, 40, 40, 64)   256       \n",
      " hNormalization)                                                 \n",
      "                                                                 \n",
      " max_pooling3d_4 (MaxPooling  (None, 7, 20, 20, 64)    0         \n",
      " 3D)                                                             \n",
      "                                                                 \n",
      " conv3d_5 (Conv3D)           (None, 7, 20, 20, 128)    65664     \n",
      "                                                                 \n",
      " activation_5 (Activation)   (None, 7, 20, 20, 128)    0         \n",
      "                                                                 \n",
      " batch_normalization_7 (Batc  (None, 7, 20, 20, 128)   512       \n",
      " hNormalization)                                                 \n",
      "                                                                 \n",
      " max_pooling3d_5 (MaxPooling  (None, 3, 10, 10, 128)   0         \n",
      " 3D)                                                             \n",
      "                                                                 \n",
      " flatten_1 (Flatten)         (None, 38400)             0         \n",
      "                                                                 \n",
      " dense_3 (Dense)             (None, 128)               4915328   \n",
      "                                                                 \n",
      " batch_normalization_8 (Batc  (None, 128)              512       \n",
      " hNormalization)                                                 \n",
      "                                                                 \n",
      " dropout_2 (Dropout)         (None, 128)               0         \n",
      "                                                                 \n",
      " dense_4 (Dense)             (None, 64)                8256      \n",
      "                                                                 \n",
      " batch_normalization_9 (Batc  (None, 64)               256       \n",
      " hNormalization)                                                 \n",
      "                                                                 \n",
      " dropout_3 (Dropout)         (None, 64)                0         \n",
      "                                                                 \n",
      " dense_5 (Dense)             (None, 5)                 325       \n",
      "                                                                 \n",
      "=================================================================\n",
      "Total params: 5,010,309\n",
      "Trainable params: 5,009,477\n",
      "Non-trainable params: 832\n",
      "_________________________________________________________________\n"
     ]
    }
   ],
   "source": [
    "conv_model4_obj=Model4()\n",
    "conv_model4_obj.initialize_path(project_folder)\n",
    "conv_model4_obj.initialize_image_properties(image_height=80,image_width=80)\n",
    "conv_model4_obj.initialize_hyperparams(frames_to_sample=30,batch_size=32,num_epochs=20)\n",
    "conv_model4_model=conv_model4_obj.define_model()\n",
    "conv_model4_model.summary()"
   ]
  },
  {
   "cell_type": "code",
   "execution_count": 11,
   "metadata": {},
   "outputs": [
    {
     "name": "stdout",
     "output_type": "stream",
     "text": [
      "Total Params: 5010309\n"
     ]
    }
   ],
   "source": [
    "print(\"Total Params:\", conv_model4_model.count_params())"
   ]
  },
  {
   "cell_type": "code",
   "execution_count": 144,
   "metadata": {},
   "outputs": [
    {
     "name": "stdout",
     "output_type": "stream",
     "text": [
      "WARNING:tensorflow:`period` argument is deprecated. Please use `save_freq` to specify the frequency in number of batches seen.\n",
      "Epoch 1/20\n",
      "21/21 [==============================] - ETA: 0s - loss: 1.3783 - categorical_accuracy: 0.4851\n",
      "Epoch 00001: val_loss improved from inf to 5.74708, saving model to model_init_2025-01-2914_18_28.044206/model-00001-1.37828-0.48512-5.74708-0.14062.h5\n",
      "21/21 [==============================] - 165s 8s/step - loss: 1.3783 - categorical_accuracy: 0.4851 - val_loss: 5.7471 - val_categorical_accuracy: 0.1406 - lr: 0.0010\n",
      "Epoch 2/20\n",
      "21/21 [==============================] - ETA: 0s - loss: 0.7271 - categorical_accuracy: 0.7247\n",
      "Epoch 00002: val_loss did not improve from 5.74708\n",
      "21/21 [==============================] - 165s 8s/step - loss: 0.7271 - categorical_accuracy: 0.7247 - val_loss: 11.9022 - val_categorical_accuracy: 0.1641 - lr: 0.0010\n",
      "Epoch 3/20\n",
      "21/21 [==============================] - ETA: 0s - loss: 0.5094 - categorical_accuracy: 0.8155\n",
      "Epoch 00003: val_loss did not improve from 5.74708\n",
      "21/21 [==============================] - 164s 8s/step - loss: 0.5094 - categorical_accuracy: 0.8155 - val_loss: 16.4649 - val_categorical_accuracy: 0.1328 - lr: 0.0010\n",
      "Epoch 4/20\n",
      "21/21 [==============================] - ETA: 0s - loss: 0.3612 - categorical_accuracy: 0.8765\n",
      "Epoch 00004: val_loss did not improve from 5.74708\n",
      "21/21 [==============================] - 167s 8s/step - loss: 0.3612 - categorical_accuracy: 0.8765 - val_loss: 17.7285 - val_categorical_accuracy: 0.1953 - lr: 0.0010\n",
      "Epoch 5/20\n",
      "21/21 [==============================] - ETA: 0s - loss: 0.2709 - categorical_accuracy: 0.9167\n",
      "Epoch 00005: val_loss did not improve from 5.74708\n",
      "\n",
      "Epoch 00005: ReduceLROnPlateau reducing learning rate to 0.00020000000949949026.\n",
      "21/21 [==============================] - 168s 8s/step - loss: 0.2709 - categorical_accuracy: 0.9167 - val_loss: 21.2280 - val_categorical_accuracy: 0.2109 - lr: 0.0010\n",
      "Epoch 6/20\n",
      "21/21 [==============================] - ETA: 0s - loss: 0.1850 - categorical_accuracy: 0.9554\n",
      "Epoch 00006: val_loss did not improve from 5.74708\n",
      "21/21 [==============================] - 165s 8s/step - loss: 0.1850 - categorical_accuracy: 0.9554 - val_loss: 20.4642 - val_categorical_accuracy: 0.2656 - lr: 2.0000e-04\n",
      "Epoch 7/20\n",
      "21/21 [==============================] - ETA: 0s - loss: 0.1490 - categorical_accuracy: 0.9658\n",
      "Epoch 00007: val_loss did not improve from 5.74708\n",
      "21/21 [==============================] - 165s 8s/step - loss: 0.1490 - categorical_accuracy: 0.9658 - val_loss: 19.5533 - val_categorical_accuracy: 0.2109 - lr: 2.0000e-04\n",
      "Epoch 8/20\n",
      "21/21 [==============================] - ETA: 0s - loss: 0.1282 - categorical_accuracy: 0.9717\n",
      "Epoch 00008: val_loss did not improve from 5.74708\n",
      "21/21 [==============================] - 162s 8s/step - loss: 0.1282 - categorical_accuracy: 0.9717 - val_loss: 15.4877 - val_categorical_accuracy: 0.1953 - lr: 2.0000e-04\n",
      "Epoch 9/20\n",
      "21/21 [==============================] - ETA: 0s - loss: 0.1232 - categorical_accuracy: 0.9673\n",
      "Epoch 00009: val_loss did not improve from 5.74708\n",
      "\n",
      "Epoch 00009: ReduceLROnPlateau reducing learning rate to 4.0000001899898055e-05.\n",
      "21/21 [==============================] - 161s 8s/step - loss: 0.1232 - categorical_accuracy: 0.9673 - val_loss: 10.9014 - val_categorical_accuracy: 0.2734 - lr: 2.0000e-04\n",
      "Epoch 10/20\n",
      "21/21 [==============================] - ETA: 0s - loss: 0.1010 - categorical_accuracy: 0.9821\n",
      "Epoch 00010: val_loss did not improve from 5.74708\n",
      "21/21 [==============================] - 166s 8s/step - loss: 0.1010 - categorical_accuracy: 0.9821 - val_loss: 7.2068 - val_categorical_accuracy: 0.2109 - lr: 4.0000e-05\n",
      "Epoch 11/20\n",
      "21/21 [==============================] - ETA: 0s - loss: 0.0770 - categorical_accuracy: 0.9896\n",
      "Epoch 00011: val_loss did not improve from 5.74708\n",
      "21/21 [==============================] - 163s 8s/step - loss: 0.0770 - categorical_accuracy: 0.9896 - val_loss: 7.4938 - val_categorical_accuracy: 0.1641 - lr: 4.0000e-05\n",
      "Epoch 00011: early stopping\n"
     ]
    }
   ],
   "source": [
    "training_output_model4 = conv_model4_obj.train_model(conv_model4_model)"
   ]
  },
  {
   "cell_type": "code",
   "execution_count": 12,
   "metadata": {},
   "outputs": [
    {
     "ename": "NameError",
     "evalue": "name 'training_output_model4' is not defined",
     "output_type": "error",
     "traceback": [
      "\u001b[0;31m---------------------------------------------------------------------------\u001b[0m",
      "\u001b[0;31mNameError\u001b[0m                                 Traceback (most recent call last)",
      "\u001b[0;32m/tmp/ipykernel_202/429593794.py\u001b[0m in \u001b[0;36m<module>\u001b[0;34m\u001b[0m\n\u001b[0;32m----> 1\u001b[0;31m \u001b[0mplot\u001b[0m\u001b[0;34m(\u001b[0m\u001b[0mtraining_output_model4\u001b[0m\u001b[0;34m)\u001b[0m\u001b[0;34m\u001b[0m\u001b[0;34m\u001b[0m\u001b[0m\n\u001b[0m",
      "\u001b[0;31mNameError\u001b[0m: name 'training_output_model4' is not defined"
     ]
    }
   ],
   "source": [
    "plot(training_output_model4)"
   ]
  },
  {
   "cell_type": "markdown",
   "metadata": {},
   "source": [
    "## Model 5: Adding more Layers\n"
   ]
  },
  {
   "cell_type": "markdown",
   "metadata": {},
   "source": [
    " As part of further experimentation, lets add more layers and check the accuracy. We will keep the image size as 120 x 120 with epoch=20"
   ]
  },
  {
   "cell_type": "code",
   "execution_count": 41,
   "metadata": {},
   "outputs": [],
   "source": [
    "\n",
    "class Model5(ModelBuilder):\n",
    "       \n",
    "    def define_model(self,filtersize=(3,3,3),dense_neurons=64,dropout=0.25):\n",
    "\n",
    "        model = Sequential()\n",
    "        model.add(Conv3D(16, filtersize, padding='same',\n",
    "                 input_shape=(self.frames_to_sample,self.image_height,self.image_width,self.channels)))\n",
    "        model.add(Activation('relu'))\n",
    "        model.add(BatchNormalization())\n",
    "        \n",
    "        model.add(Conv3D(16, filtersize, padding='same',\n",
    "                 input_shape=(self.frames_to_sample,self.image_height,self.image_width,self.channels)))\n",
    "        model.add(Activation('relu'))\n",
    "        model.add(BatchNormalization())\n",
    "        \n",
    "        model.add(MaxPooling3D(pool_size=(2, 2, 2)))\n",
    "\n",
    "        model.add(Conv3D(32, filtersize, padding='same'))\n",
    "        model.add(Activation('relu'))\n",
    "        model.add(BatchNormalization())\n",
    "        \n",
    "        model.add(Conv3D(32, filtersize, padding='same'))\n",
    "        model.add(Activation('relu'))\n",
    "        model.add(BatchNormalization())\n",
    "        \n",
    "        model.add(MaxPooling3D(pool_size=(2, 2, 2)))\n",
    "\n",
    "        model.add(Conv3D(64, filtersize, padding='same'))\n",
    "        model.add(Activation('relu'))\n",
    "        model.add(BatchNormalization())\n",
    "        \n",
    "        model.add(Conv3D(64, filtersize, padding='same'))\n",
    "        model.add(Activation('relu'))\n",
    "        model.add(BatchNormalization())\n",
    "        \n",
    "        model.add(MaxPooling3D(pool_size=(2, 2, 2)))\n",
    "\n",
    "        model.add(Conv3D(128, filtersize, padding='same'))\n",
    "        model.add(Activation('relu'))\n",
    "        model.add(BatchNormalization())\n",
    "        \n",
    "        model.add(Conv3D(128, filtersize, padding='same'))\n",
    "        model.add(Activation('relu'))\n",
    "        model.add(BatchNormalization())\n",
    "        \n",
    "        model.add(MaxPooling3D(pool_size=(2, 2, 2)))\n",
    "        \n",
    "\n",
    "        model.add(Flatten())\n",
    "        model.add(Dense(dense_neurons,activation='relu'))\n",
    "        model.add(BatchNormalization())\n",
    "        model.add(Dropout(dropout))\n",
    "\n",
    "        model.add(Dense(dense_neurons,activation='relu'))\n",
    "        model.add(BatchNormalization())\n",
    "        model.add(Dropout(dropout))\n",
    "\n",
    "\n",
    "        model.add(Dense(self.num_classes,activation='softmax'))\n",
    "\n",
    "        optimiser = \"Adam\"\n",
    "        model.compile(optimizer=optimiser, loss='categorical_crossentropy', metrics=['categorical_accuracy'])\n",
    "        return model"
   ]
  },
  {
   "cell_type": "code",
   "execution_count": 42,
   "metadata": {},
   "outputs": [
    {
     "name": "stdout",
     "output_type": "stream",
     "text": [
      "Model: \"sequential_7\"\n",
      "_________________________________________________________________\n",
      " Layer (type)                Output Shape              Param #   \n",
      "=================================================================\n",
      " conv3d_9 (Conv3D)           (None, 20, 120, 120, 16)  1312      \n",
      "                                                                 \n",
      " activation_9 (Activation)   (None, 20, 120, 120, 16)  0         \n",
      "                                                                 \n",
      " batch_normalization_32 (Bat  (None, 20, 120, 120, 16)  64       \n",
      " chNormalization)                                                \n",
      "                                                                 \n",
      " conv3d_10 (Conv3D)          (None, 20, 120, 120, 16)  6928      \n",
      "                                                                 \n",
      " activation_10 (Activation)  (None, 20, 120, 120, 16)  0         \n",
      "                                                                 \n",
      " batch_normalization_33 (Bat  (None, 20, 120, 120, 16)  64       \n",
      " chNormalization)                                                \n",
      "                                                                 \n",
      " max_pooling3d_9 (MaxPooling  (None, 10, 60, 60, 16)   0         \n",
      " 3D)                                                             \n",
      "                                                                 \n",
      " conv3d_11 (Conv3D)          (None, 10, 60, 60, 32)    13856     \n",
      "                                                                 \n",
      " activation_11 (Activation)  (None, 10, 60, 60, 32)    0         \n",
      "                                                                 \n",
      " batch_normalization_34 (Bat  (None, 10, 60, 60, 32)   128       \n",
      " chNormalization)                                                \n",
      "                                                                 \n",
      " conv3d_12 (Conv3D)          (None, 10, 60, 60, 32)    27680     \n",
      "                                                                 \n",
      " activation_12 (Activation)  (None, 10, 60, 60, 32)    0         \n",
      "                                                                 \n",
      " batch_normalization_35 (Bat  (None, 10, 60, 60, 32)   128       \n",
      " chNormalization)                                                \n",
      "                                                                 \n",
      " max_pooling3d_10 (MaxPoolin  (None, 5, 30, 30, 32)    0         \n",
      " g3D)                                                            \n",
      "                                                                 \n",
      " conv3d_13 (Conv3D)          (None, 5, 30, 30, 64)     55360     \n",
      "                                                                 \n",
      " activation_13 (Activation)  (None, 5, 30, 30, 64)     0         \n",
      "                                                                 \n",
      " batch_normalization_36 (Bat  (None, 5, 30, 30, 64)    256       \n",
      " chNormalization)                                                \n",
      "                                                                 \n",
      " conv3d_14 (Conv3D)          (None, 5, 30, 30, 64)     110656    \n",
      "                                                                 \n",
      " activation_14 (Activation)  (None, 5, 30, 30, 64)     0         \n",
      "                                                                 \n",
      " batch_normalization_37 (Bat  (None, 5, 30, 30, 64)    256       \n",
      " chNormalization)                                                \n",
      "                                                                 \n",
      " max_pooling3d_11 (MaxPoolin  (None, 2, 15, 15, 64)    0         \n",
      " g3D)                                                            \n",
      "                                                                 \n",
      " conv3d_15 (Conv3D)          (None, 2, 15, 15, 128)    221312    \n",
      "                                                                 \n",
      " activation_15 (Activation)  (None, 2, 15, 15, 128)    0         \n",
      "                                                                 \n",
      " batch_normalization_38 (Bat  (None, 2, 15, 15, 128)   512       \n",
      " chNormalization)                                                \n",
      "                                                                 \n",
      " conv3d_16 (Conv3D)          (None, 2, 15, 15, 128)    442496    \n",
      "                                                                 \n",
      " activation_16 (Activation)  (None, 2, 15, 15, 128)    0         \n",
      "                                                                 \n",
      " batch_normalization_39 (Bat  (None, 2, 15, 15, 128)   512       \n",
      " chNormalization)                                                \n",
      "                                                                 \n",
      " max_pooling3d_12 (MaxPoolin  (None, 1, 7, 7, 128)     0         \n",
      " g3D)                                                            \n",
      "                                                                 \n",
      " flatten_7 (Flatten)         (None, 6272)              0         \n",
      "                                                                 \n",
      " dense_17 (Dense)            (None, 64)                401472    \n",
      "                                                                 \n",
      " batch_normalization_40 (Bat  (None, 64)               256       \n",
      " chNormalization)                                                \n",
      "                                                                 \n",
      " dropout_14 (Dropout)        (None, 64)                0         \n",
      "                                                                 \n",
      " dense_18 (Dense)            (None, 64)                4160      \n",
      "                                                                 \n",
      " batch_normalization_41 (Bat  (None, 64)               256       \n",
      " chNormalization)                                                \n",
      "                                                                 \n",
      " dropout_15 (Dropout)        (None, 64)                0         \n",
      "                                                                 \n",
      " dense_19 (Dense)            (None, 5)                 325       \n",
      "                                                                 \n",
      "=================================================================\n",
      "Total params: 1,287,989\n",
      "Trainable params: 1,286,773\n",
      "Non-trainable params: 1,216\n",
      "_________________________________________________________________\n"
     ]
    }
   ],
   "source": [
    "conv_model5_obj=Model5()\n",
    "conv_model5_obj.initialize_path(project_folder)\n",
    "conv_model5_obj.initialize_image_properties(image_height=120,image_width=120)\n",
    "conv_model5_obj.initialize_hyperparams(frames_to_sample=20,batch_size=64,num_epochs=20)\n",
    "conv_model5_model=conv_model5_obj.define_model()\n",
    "conv_model5_model.summary()"
   ]
  },
  {
   "cell_type": "code",
   "execution_count": 43,
   "metadata": {},
   "outputs": [
    {
     "name": "stdout",
     "output_type": "stream",
     "text": [
      "Total Params: 1287989\n"
     ]
    }
   ],
   "source": [
    "print(\"Total Params:\", conv_model5_model.count_params())"
   ]
  },
  {
   "cell_type": "code",
   "execution_count": 44,
   "metadata": {},
   "outputs": [
    {
     "name": "stdout",
     "output_type": "stream",
     "text": [
      "WARNING:tensorflow:`period` argument is deprecated. Please use `save_freq` to specify the frequency in number of batches seen.\n",
      "Epoch 1/20\n",
      "11/11 [==============================] - ETA: 0s - loss: 1.5975 - categorical_accuracy: 0.3693\n",
      "Epoch 00001: val_loss improved from inf to 1.58400, saving model to model_init_2025-01-2910_14_58.922982/model-00001-1.59747-0.36932-1.58400-0.27344.h5\n",
      "11/11 [==============================] - 123s 11s/step - loss: 1.5975 - categorical_accuracy: 0.3693 - val_loss: 1.5840 - val_categorical_accuracy: 0.2734 - lr: 0.0010\n",
      "Epoch 2/20\n",
      "11/11 [==============================] - ETA: 0s - loss: 1.1662 - categorical_accuracy: 0.5355\n",
      "Epoch 00002: val_loss did not improve from 1.58400\n",
      "11/11 [==============================] - 117s 12s/step - loss: 1.1662 - categorical_accuracy: 0.5355 - val_loss: 1.6102 - val_categorical_accuracy: 0.2812 - lr: 0.0010\n",
      "Epoch 3/20\n",
      "11/11 [==============================] - ETA: 0s - loss: 0.9447 - categorical_accuracy: 0.6477\n",
      "Epoch 00003: val_loss did not improve from 1.58400\n",
      "11/11 [==============================] - 115s 11s/step - loss: 0.9447 - categorical_accuracy: 0.6477 - val_loss: 2.0432 - val_categorical_accuracy: 0.1953 - lr: 0.0010\n",
      "Epoch 4/20\n",
      "11/11 [==============================] - ETA: 0s - loss: 0.6935 - categorical_accuracy: 0.7472\n",
      "Epoch 00004: val_loss did not improve from 1.58400\n",
      "11/11 [==============================] - 114s 11s/step - loss: 0.6935 - categorical_accuracy: 0.7472 - val_loss: 1.8595 - val_categorical_accuracy: 0.2812 - lr: 0.0010\n",
      "Epoch 5/20\n",
      "11/11 [==============================] - ETA: 0s - loss: 0.5855 - categorical_accuracy: 0.7869\n",
      "Epoch 00005: val_loss did not improve from 1.58400\n",
      "\n",
      "Epoch 00005: ReduceLROnPlateau reducing learning rate to 0.00020000000949949026.\n",
      "11/11 [==============================] - 115s 11s/step - loss: 0.5855 - categorical_accuracy: 0.7869 - val_loss: 2.1302 - val_categorical_accuracy: 0.1953 - lr: 0.0010\n",
      "Epoch 6/20\n",
      "11/11 [==============================] - ETA: 0s - loss: 0.5004 - categorical_accuracy: 0.8267\n",
      "Epoch 00006: val_loss did not improve from 1.58400\n",
      "11/11 [==============================] - 115s 11s/step - loss: 0.5004 - categorical_accuracy: 0.8267 - val_loss: 2.5641 - val_categorical_accuracy: 0.1953 - lr: 2.0000e-04\n",
      "Epoch 7/20\n",
      "11/11 [==============================] - ETA: 0s - loss: 0.3964 - categorical_accuracy: 0.8565\n",
      "Epoch 00007: val_loss did not improve from 1.58400\n",
      "11/11 [==============================] - 112s 11s/step - loss: 0.3964 - categorical_accuracy: 0.8565 - val_loss: 2.8646 - val_categorical_accuracy: 0.1875 - lr: 2.0000e-04\n",
      "Epoch 8/20\n",
      "11/11 [==============================] - ETA: 0s - loss: 0.3511 - categorical_accuracy: 0.8949\n",
      "Epoch 00008: val_loss did not improve from 1.58400\n",
      "11/11 [==============================] - 114s 11s/step - loss: 0.3511 - categorical_accuracy: 0.8949 - val_loss: 2.9007 - val_categorical_accuracy: 0.1719 - lr: 2.0000e-04\n",
      "Epoch 9/20\n",
      "11/11 [==============================] - ETA: 0s - loss: 0.2773 - categorical_accuracy: 0.9318\n",
      "Epoch 00009: val_loss did not improve from 1.58400\n",
      "\n",
      "Epoch 00009: ReduceLROnPlateau reducing learning rate to 4.0000001899898055e-05.\n",
      "11/11 [==============================] - 114s 11s/step - loss: 0.2773 - categorical_accuracy: 0.9318 - val_loss: 3.0464 - val_categorical_accuracy: 0.1953 - lr: 2.0000e-04\n",
      "Epoch 10/20\n",
      "11/11 [==============================] - ETA: 0s - loss: 0.2660 - categorical_accuracy: 0.9418\n",
      "Epoch 00010: val_loss did not improve from 1.58400\n",
      "11/11 [==============================] - 115s 11s/step - loss: 0.2660 - categorical_accuracy: 0.9418 - val_loss: 3.1609 - val_categorical_accuracy: 0.2266 - lr: 4.0000e-05\n",
      "Epoch 11/20\n",
      "11/11 [==============================] - ETA: 0s - loss: 0.2437 - categorical_accuracy: 0.9460\n",
      "Epoch 00011: val_loss did not improve from 1.58400\n",
      "11/11 [==============================] - 113s 11s/step - loss: 0.2437 - categorical_accuracy: 0.9460 - val_loss: 3.4191 - val_categorical_accuracy: 0.2422 - lr: 4.0000e-05\n",
      "Epoch 00011: early stopping\n"
     ]
    }
   ],
   "source": [
    "training_output_model5 = conv_model5_obj.train_model(conv_model5_model)"
   ]
  },
  {
   "cell_type": "code",
   "execution_count": 45,
   "metadata": {},
   "outputs": [
    {
     "data": {
      "image/png": "[encoded data removed]",
      "text/plain": [
       "<Figure size 1080x288 with 2 Axes>"
      ]
     },
     "metadata": {
      "needs_background": "light"
     },
     "output_type": "display_data"
    }
   ],
   "source": [
    "plot(training_output_model5)"
   ]
  },
  {
   "cell_type": "markdown",
   "metadata": {},
   "source": [
    "## Model 6: Adding Drop outs to convolution layer\n"
   ]
  },
  {
   "cell_type": "markdown",
   "metadata": {},
   "source": [
    "In above model we see the validation accuracy is varing wildly. Adding more epochs may give the stable validation accuracy. we would try to add dropouts to convolution layer to see if there are improvements"
   ]
  },
  {
   "cell_type": "code",
   "execution_count": 46,
   "metadata": {},
   "outputs": [],
   "source": [
    "\n",
    "class Model6(ModelBuilder):\n",
    "    \n",
    "    def define_model(self,filtersize=(3,3,3),dense_neurons=64,dropout=0.25):\n",
    "  \n",
    "        model = Sequential()\n",
    "        model.add(Conv3D(16, filtersize, padding='same',\n",
    "                 input_shape=(self.frames_to_sample,self.image_height,self.image_width,self.channels)))\n",
    "        model.add(Activation('relu'))\n",
    "        model.add(BatchNormalization())\n",
    "        \n",
    "        model.add(Conv3D(16, filtersize, padding='same',\n",
    "                 input_shape=(self.frames_to_sample,self.image_height,self.image_width,self.channels)))\n",
    "        model.add(Activation('relu'))\n",
    "        model.add(BatchNormalization())\n",
    "        \n",
    "        model.add(MaxPooling3D(pool_size=(2, 2, 2)))\n",
    "        model.add(Dropout(dropout))\n",
    "\n",
    "        model.add(Conv3D(32, filtersize, padding='same'))\n",
    "        model.add(Activation('relu'))\n",
    "        model.add(BatchNormalization())\n",
    "        \n",
    "        model.add(Conv3D(32, filtersize, padding='same'))\n",
    "        model.add(Activation('relu'))\n",
    "        model.add(BatchNormalization())\n",
    "        \n",
    "        model.add(MaxPooling3D(pool_size=(2, 2, 2)))\n",
    "        model.add(Dropout(dropout))\n",
    "\n",
    "        model.add(Conv3D(64, filtersize, padding='same'))\n",
    "        model.add(Activation('relu'))\n",
    "        model.add(BatchNormalization())\n",
    "        \n",
    "        model.add(Conv3D(64, filtersize, padding='same'))\n",
    "        model.add(Activation('relu'))\n",
    "        model.add(BatchNormalization())\n",
    "        \n",
    "        model.add(MaxPooling3D(pool_size=(2, 2, 2)))\n",
    "        model.add(Dropout(dropout))\n",
    "\n",
    "        model.add(Conv3D(128, filtersize, padding='same'))\n",
    "        model.add(Activation('relu'))\n",
    "        model.add(BatchNormalization())\n",
    "        \n",
    "        model.add(Conv3D(128, filtersize, padding='same'))\n",
    "        model.add(Activation('relu'))\n",
    "        model.add(BatchNormalization())\n",
    "        \n",
    "        model.add(MaxPooling3D(pool_size=(2, 2, 2)))\n",
    "        model.add(Dropout(dropout))\n",
    "        \n",
    "        model.add(Flatten())\n",
    "        model.add(Dense(dense_neurons,activation='relu'))\n",
    "        model.add(BatchNormalization())\n",
    "        model.add(Dropout(dropout))\n",
    "\n",
    "        model.add(Dense(dense_neurons,activation='relu'))\n",
    "        model.add(BatchNormalization())\n",
    "        model.add(Dropout(dropout))\n",
    "\n",
    "\n",
    "        model.add(Dense(self.num_classes,activation='softmax'))\n",
    "\n",
    "        optimiser = tf.keras.optimizers.Adam()\n",
    "        model.compile(optimizer=optimiser, loss='categorical_crossentropy', metrics=['categorical_accuracy'])\n",
    "        return model"
   ]
  },
  {
   "cell_type": "code",
   "execution_count": 47,
   "metadata": {},
   "outputs": [
    {
     "name": "stdout",
     "output_type": "stream",
     "text": [
      "Model: \"sequential_8\"\n",
      "_________________________________________________________________\n",
      " Layer (type)                Output Shape              Param #   \n",
      "=================================================================\n",
      " conv3d_17 (Conv3D)          (None, 20, 120, 120, 16)  1312      \n",
      "                                                                 \n",
      " activation_17 (Activation)  (None, 20, 120, 120, 16)  0         \n",
      "                                                                 \n",
      " batch_normalization_42 (Bat  (None, 20, 120, 120, 16)  64       \n",
      " chNormalization)                                                \n",
      "                                                                 \n",
      " conv3d_18 (Conv3D)          (None, 20, 120, 120, 16)  6928      \n",
      "                                                                 \n",
      " activation_18 (Activation)  (None, 20, 120, 120, 16)  0         \n",
      "                                                                 \n",
      " batch_normalization_43 (Bat  (None, 20, 120, 120, 16)  64       \n",
      " chNormalization)                                                \n",
      "                                                                 \n",
      " max_pooling3d_13 (MaxPoolin  (None, 10, 60, 60, 16)   0         \n",
      " g3D)                                                            \n",
      "                                                                 \n",
      " dropout_16 (Dropout)        (None, 10, 60, 60, 16)    0         \n",
      "                                                                 \n",
      " conv3d_19 (Conv3D)          (None, 10, 60, 60, 32)    13856     \n",
      "                                                                 \n",
      " activation_19 (Activation)  (None, 10, 60, 60, 32)    0         \n",
      "                                                                 \n",
      " batch_normalization_44 (Bat  (None, 10, 60, 60, 32)   128       \n",
      " chNormalization)                                                \n",
      "                                                                 \n",
      " conv3d_20 (Conv3D)          (None, 10, 60, 60, 32)    27680     \n",
      "                                                                 \n",
      " activation_20 (Activation)  (None, 10, 60, 60, 32)    0         \n",
      "                                                                 \n",
      " batch_normalization_45 (Bat  (None, 10, 60, 60, 32)   128       \n",
      " chNormalization)                                                \n",
      "                                                                 \n",
      " max_pooling3d_14 (MaxPoolin  (None, 5, 30, 30, 32)    0         \n",
      " g3D)                                                            \n",
      "                                                                 \n",
      " dropout_17 (Dropout)        (None, 5, 30, 30, 32)     0         \n",
      "                                                                 \n",
      " conv3d_21 (Conv3D)          (None, 5, 30, 30, 64)     55360     \n",
      "                                                                 \n",
      " activation_21 (Activation)  (None, 5, 30, 30, 64)     0         \n",
      "                                                                 \n",
      " batch_normalization_46 (Bat  (None, 5, 30, 30, 64)    256       \n",
      " chNormalization)                                                \n",
      "                                                                 \n",
      " conv3d_22 (Conv3D)          (None, 5, 30, 30, 64)     110656    \n",
      "                                                                 \n",
      " activation_22 (Activation)  (None, 5, 30, 30, 64)     0         \n",
      "                                                                 \n",
      " batch_normalization_47 (Bat  (None, 5, 30, 30, 64)    256       \n",
      " chNormalization)                                                \n",
      "                                                                 \n",
      " max_pooling3d_15 (MaxPoolin  (None, 2, 15, 15, 64)    0         \n",
      " g3D)                                                            \n",
      "                                                                 \n",
      " dropout_18 (Dropout)        (None, 2, 15, 15, 64)     0         \n",
      "                                                                 \n",
      " conv3d_23 (Conv3D)          (None, 2, 15, 15, 128)    221312    \n",
      "                                                                 \n",
      " activation_23 (Activation)  (None, 2, 15, 15, 128)    0         \n",
      "                                                                 \n",
      " batch_normalization_48 (Bat  (None, 2, 15, 15, 128)   512       \n",
      " chNormalization)                                                \n",
      "                                                                 \n",
      " conv3d_24 (Conv3D)          (None, 2, 15, 15, 128)    442496    \n",
      "                                                                 \n",
      " activation_24 (Activation)  (None, 2, 15, 15, 128)    0         \n",
      "                                                                 \n",
      " batch_normalization_49 (Bat  (None, 2, 15, 15, 128)   512       \n",
      " chNormalization)                                                \n",
      "                                                                 \n",
      " max_pooling3d_16 (MaxPoolin  (None, 1, 7, 7, 128)     0         \n",
      " g3D)                                                            \n",
      "                                                                 \n",
      " dropout_19 (Dropout)        (None, 1, 7, 7, 128)      0         \n",
      "                                                                 \n",
      " flatten_8 (Flatten)         (None, 6272)              0         \n",
      "                                                                 \n",
      " dense_20 (Dense)            (None, 64)                401472    \n",
      "                                                                 \n",
      " batch_normalization_50 (Bat  (None, 64)               256       \n",
      " chNormalization)                                                \n",
      "                                                                 \n",
      " dropout_20 (Dropout)        (None, 64)                0         \n",
      "                                                                 \n",
      " dense_21 (Dense)            (None, 64)                4160      \n",
      "                                                                 \n",
      " batch_normalization_51 (Bat  (None, 64)               256       \n",
      " chNormalization)                                                \n",
      "                                                                 \n",
      " dropout_21 (Dropout)        (None, 64)                0         \n",
      "                                                                 \n",
      " dense_22 (Dense)            (None, 5)                 325       \n",
      "                                                                 \n",
      "=================================================================\n",
      "Total params: 1,287,989\n",
      "Trainable params: 1,286,773\n",
      "Non-trainable params: 1,216\n",
      "_________________________________________________________________\n"
     ]
    }
   ],
   "source": [
    "conv_model6_obj=Model6()\n",
    "conv_model6_obj.initialize_path(project_folder)\n",
    "conv_model6_obj.initialize_image_properties(image_height=120,image_width=120)\n",
    "conv_model6_obj.initialize_hyperparams(frames_to_sample=20,batch_size=64,num_epochs=20)\n",
    "conv_model6_model=conv_model6_obj.define_model()\n",
    "conv_model6_model.summary()"
   ]
  },
  {
   "cell_type": "code",
   "execution_count": 48,
   "metadata": {},
   "outputs": [
    {
     "name": "stdout",
     "output_type": "stream",
     "text": [
      "Total Params: 1287989\n"
     ]
    }
   ],
   "source": [
    "print(\"Total Params:\", conv_model6_model.count_params())"
   ]
  },
  {
   "cell_type": "code",
   "execution_count": 49,
   "metadata": {},
   "outputs": [
    {
     "name": "stdout",
     "output_type": "stream",
     "text": [
      "WARNING:tensorflow:`period` argument is deprecated. Please use `save_freq` to specify the frequency in number of batches seen.\n",
      "Epoch 1/20\n",
      "11/11 [==============================] - ETA: 0s - loss: 1.7898 - categorical_accuracy: 0.3381\n",
      "Epoch 00001: val_loss improved from inf to 1.72811, saving model to model_init_2025-01-2910_42_47.769482/model-00001-1.78975-0.33807-1.72811-0.17188.h5\n",
      "11/11 [==============================] - 116s 11s/step - loss: 1.7898 - categorical_accuracy: 0.3381 - val_loss: 1.7281 - val_categorical_accuracy: 0.1719 - lr: 0.0010\n",
      "Epoch 2/20\n",
      "11/11 [==============================] - ETA: 0s - loss: 1.3402 - categorical_accuracy: 0.4730\n",
      "Epoch 00002: val_loss did not improve from 1.72811\n",
      "11/11 [==============================] - 115s 11s/step - loss: 1.3402 - categorical_accuracy: 0.4730 - val_loss: 1.7561 - val_categorical_accuracy: 0.1406 - lr: 0.0010\n",
      "Epoch 3/20\n",
      "11/11 [==============================] - ETA: 0s - loss: 1.1339 - categorical_accuracy: 0.5810\n",
      "Epoch 00003: val_loss improved from 1.72811 to 1.58565, saving model to model_init_2025-01-2910_42_47.769482/model-00003-1.13391-0.58097-1.58565-0.21094.h5\n",
      "11/11 [==============================] - 116s 11s/step - loss: 1.1339 - categorical_accuracy: 0.5810 - val_loss: 1.5856 - val_categorical_accuracy: 0.2109 - lr: 0.0010\n",
      "Epoch 4/20\n",
      "11/11 [==============================] - ETA: 0s - loss: 0.9827 - categorical_accuracy: 0.6094\n",
      "Epoch 00004: val_loss improved from 1.58565 to 1.57116, saving model to model_init_2025-01-2910_42_47.769482/model-00004-0.98271-0.60938-1.57116-0.29688.h5\n",
      "11/11 [==============================] - 115s 11s/step - loss: 0.9827 - categorical_accuracy: 0.6094 - val_loss: 1.5712 - val_categorical_accuracy: 0.2969 - lr: 0.0010\n",
      "Epoch 5/20\n",
      "11/11 [==============================] - ETA: 0s - loss: 0.8477 - categorical_accuracy: 0.6747\n",
      "Epoch 00005: val_loss improved from 1.57116 to 1.56521, saving model to model_init_2025-01-2910_42_47.769482/model-00005-0.84775-0.67472-1.56521-0.23438.h5\n",
      "11/11 [==============================] - 117s 12s/step - loss: 0.8477 - categorical_accuracy: 0.6747 - val_loss: 1.5652 - val_categorical_accuracy: 0.2344 - lr: 0.0010\n",
      "Epoch 6/20\n",
      "11/11 [==============================] - ETA: 0s - loss: 0.7407 - categorical_accuracy: 0.7230\n",
      "Epoch 00006: val_loss did not improve from 1.56521\n",
      "11/11 [==============================] - 118s 12s/step - loss: 0.7407 - categorical_accuracy: 0.7230 - val_loss: 1.6034 - val_categorical_accuracy: 0.2422 - lr: 0.0010\n",
      "Epoch 7/20\n",
      "11/11 [==============================] - ETA: 0s - loss: 0.6750 - categorical_accuracy: 0.7472\n",
      "Epoch 00007: val_loss did not improve from 1.56521\n",
      "11/11 [==============================] - 114s 11s/step - loss: 0.6750 - categorical_accuracy: 0.7472 - val_loss: 1.5810 - val_categorical_accuracy: 0.2578 - lr: 0.0010\n",
      "Epoch 8/20\n",
      "11/11 [==============================] - ETA: 0s - loss: 0.5628 - categorical_accuracy: 0.7912\n",
      "Epoch 00008: val_loss did not improve from 1.56521\n",
      "11/11 [==============================] - 117s 12s/step - loss: 0.5628 - categorical_accuracy: 0.7912 - val_loss: 1.8295 - val_categorical_accuracy: 0.2656 - lr: 0.0010\n",
      "Epoch 9/20\n",
      "11/11 [==============================] - ETA: 0s - loss: 0.5137 - categorical_accuracy: 0.8139\n",
      "Epoch 00009: val_loss did not improve from 1.56521\n",
      "\n",
      "Epoch 00009: ReduceLROnPlateau reducing learning rate to 0.00020000000949949026.\n",
      "11/11 [==============================] - 115s 11s/step - loss: 0.5137 - categorical_accuracy: 0.8139 - val_loss: 2.0799 - val_categorical_accuracy: 0.1797 - lr: 0.0010\n",
      "Epoch 10/20\n",
      "11/11 [==============================] - ETA: 0s - loss: 0.5114 - categorical_accuracy: 0.7997\n",
      "Epoch 00010: val_loss did not improve from 1.56521\n",
      "11/11 [==============================] - 115s 11s/step - loss: 0.5114 - categorical_accuracy: 0.7997 - val_loss: 1.9883 - val_categorical_accuracy: 0.2109 - lr: 2.0000e-04\n",
      "Epoch 11/20\n",
      "11/11 [==============================] - ETA: 0s - loss: 0.4256 - categorical_accuracy: 0.8480\n",
      "Epoch 00011: val_loss did not improve from 1.56521\n",
      "11/11 [==============================] - 114s 11s/step - loss: 0.4256 - categorical_accuracy: 0.8480 - val_loss: 1.7430 - val_categorical_accuracy: 0.2344 - lr: 2.0000e-04\n",
      "Epoch 12/20\n",
      "11/11 [==============================] - ETA: 0s - loss: 0.3863 - categorical_accuracy: 0.8608\n",
      "Epoch 00012: val_loss did not improve from 1.56521\n",
      "11/11 [==============================] - 115s 11s/step - loss: 0.3863 - categorical_accuracy: 0.8608 - val_loss: 1.6635 - val_categorical_accuracy: 0.2734 - lr: 2.0000e-04\n",
      "Epoch 13/20\n",
      "11/11 [==============================] - ETA: 0s - loss: 0.3661 - categorical_accuracy: 0.8636\n",
      "Epoch 00013: val_loss did not improve from 1.56521\n",
      "\n",
      "Epoch 00013: ReduceLROnPlateau reducing learning rate to 4.0000001899898055e-05.\n",
      "11/11 [==============================] - 117s 12s/step - loss: 0.3661 - categorical_accuracy: 0.8636 - val_loss: 2.3036 - val_categorical_accuracy: 0.2031 - lr: 2.0000e-04\n",
      "Epoch 14/20\n",
      "11/11 [==============================] - ETA: 0s - loss: 0.3489 - categorical_accuracy: 0.8935\n",
      "Epoch 00014: val_loss did not improve from 1.56521\n",
      "11/11 [==============================] - 115s 11s/step - loss: 0.3489 - categorical_accuracy: 0.8935 - val_loss: 2.2954 - val_categorical_accuracy: 0.2188 - lr: 4.0000e-05\n",
      "Epoch 15/20\n",
      "11/11 [==============================] - ETA: 0s - loss: 0.3254 - categorical_accuracy: 0.8949\n",
      "Epoch 00015: val_loss did not improve from 1.56521\n",
      "11/11 [==============================] - 115s 11s/step - loss: 0.3254 - categorical_accuracy: 0.8949 - val_loss: 2.5205 - val_categorical_accuracy: 0.1875 - lr: 4.0000e-05\n",
      "Epoch 00015: early stopping\n"
     ]
    }
   ],
   "source": [
    "training_output_model6 = conv_model6_obj.train_model(conv_model6_model)"
   ]
  },
  {
   "cell_type": "code",
   "execution_count": 50,
   "metadata": {},
   "outputs": [
    {
     "data": {
      "image/png": "[encoded data removed]",
      "text/plain": [
       "<Figure size 1080x288 with 2 Axes>"
      ]
     },
     "metadata": {
      "needs_background": "light"
     },
     "output_type": "display_data"
    }
   ],
   "source": [
    "plot(training_output_model6)"
   ]
  },
  {
   "cell_type": "markdown",
   "metadata": {},
   "source": [
    "## Model 7: CNN + LSTM\n"
   ]
  },
  {
   "cell_type": "markdown",
   "metadata": {},
   "source": [
    "In above model we see the validation accuracy is varing wildly. We will try to change the architecture to have CNN + LSTM. We will use an image size of 120 x 120 and a batch size of 20"
   ]
  },
  {
   "cell_type": "code",
   "execution_count": 65,
   "metadata": {},
   "outputs": [],
   "source": [
    "from keras.layers.recurrent import LSTM\n",
    "\n",
    "\n",
    "class CNNLSTM(ModelBuilder):\n",
    "    \n",
    "    def define_model(self,lstm_cells=64,dense_neurons=64,dropout=0.25):\n",
    "\n",
    "        model = Sequential()\n",
    "\n",
    "        model.add(TimeDistributed(Conv2D(16, (3, 3) , padding='same', activation='relu'),\n",
    "                                  input_shape=(self.frames_to_sample,self.image_height,self.image_width,self.channels)))\n",
    "        model.add(TimeDistributed(BatchNormalization()))\n",
    "        model.add(TimeDistributed(MaxPooling2D((2, 2))))\n",
    "        \n",
    "        model.add(TimeDistributed(Conv2D(32, (3, 3) , padding='same', activation='relu')))\n",
    "        model.add(TimeDistributed(BatchNormalization()))\n",
    "        model.add(TimeDistributed(MaxPooling2D((2, 2))))\n",
    "        \n",
    "        model.add(TimeDistributed(Conv2D(64, (3, 3) , padding='same', activation='relu')))\n",
    "        model.add(TimeDistributed(BatchNormalization()))\n",
    "        model.add(TimeDistributed(MaxPooling2D((2, 2))))\n",
    "        \n",
    "        model.add(TimeDistributed(Conv2D(128, (3, 3) , padding='same', activation='relu')))\n",
    "        model.add(TimeDistributed(BatchNormalization()))\n",
    "        model.add(TimeDistributed(MaxPooling2D((2, 2))))\n",
    "        \n",
    "        model.add(TimeDistributed(Conv2D(256, (3, 3) , padding='same', activation='relu')))\n",
    "        model.add(TimeDistributed(BatchNormalization()))\n",
    "        model.add(TimeDistributed(MaxPooling2D((2, 2))))\n",
    "\n",
    "\n",
    "        model.add(TimeDistributed(Flatten()))\n",
    "\n",
    "\n",
    "        model.add(LSTM(lstm_cells))\n",
    "        model.add(Dropout(dropout))\n",
    "        \n",
    "        model.add(Dense(dense_neurons,activation='relu'))\n",
    "        model.add(Dropout(dropout))\n",
    "        \n",
    "        model.add(Dense(self.num_classes, activation='softmax'))\n",
    "        optimiser = tf.keras.optimizers.Adam()\n",
    "#         optimiser = 'sgd'\n",
    "        model.compile(optimizer=optimiser, loss='categorical_crossentropy', metrics=['categorical_accuracy'])\n",
    "        return model\n",
    "  \n",
    "     "
   ]
  },
  {
   "cell_type": "code",
   "execution_count": 66,
   "metadata": {},
   "outputs": [
    {
     "name": "stdout",
     "output_type": "stream",
     "text": [
      "Model: \"sequential_19\"\n",
      "_________________________________________________________________\n",
      " Layer (type)                Output Shape              Param #   \n",
      "=================================================================\n",
      " time_distributed_269 (TimeD  (None, 18, 120, 120, 16)  448      \n",
      " istributed)                                                     \n",
      "                                                                 \n",
      " time_distributed_270 (TimeD  (None, 18, 120, 120, 16)  64       \n",
      " istributed)                                                     \n",
      "                                                                 \n",
      " time_distributed_271 (TimeD  (None, 18, 60, 60, 16)   0         \n",
      " istributed)                                                     \n",
      "                                                                 \n",
      " time_distributed_272 (TimeD  (None, 18, 60, 60, 32)   4640      \n",
      " istributed)                                                     \n",
      "                                                                 \n",
      " time_distributed_273 (TimeD  (None, 18, 60, 60, 32)   128       \n",
      " istributed)                                                     \n",
      "                                                                 \n",
      " time_distributed_274 (TimeD  (None, 18, 30, 30, 32)   0         \n",
      " istributed)                                                     \n",
      "                                                                 \n",
      " time_distributed_275 (TimeD  (None, 18, 30, 30, 64)   18496     \n",
      " istributed)                                                     \n",
      "                                                                 \n",
      " time_distributed_276 (TimeD  (None, 18, 30, 30, 64)   256       \n",
      " istributed)                                                     \n",
      "                                                                 \n",
      " time_distributed_277 (TimeD  (None, 18, 15, 15, 64)   0         \n",
      " istributed)                                                     \n",
      "                                                                 \n",
      " time_distributed_278 (TimeD  (None, 18, 15, 15, 128)  73856     \n",
      " istributed)                                                     \n",
      "                                                                 \n",
      " time_distributed_279 (TimeD  (None, 18, 15, 15, 128)  512       \n",
      " istributed)                                                     \n",
      "                                                                 \n",
      " time_distributed_280 (TimeD  (None, 18, 7, 7, 128)    0         \n",
      " istributed)                                                     \n",
      "                                                                 \n",
      " time_distributed_281 (TimeD  (None, 18, 7, 7, 256)    295168    \n",
      " istributed)                                                     \n",
      "                                                                 \n",
      " time_distributed_282 (TimeD  (None, 18, 7, 7, 256)    1024      \n",
      " istributed)                                                     \n",
      "                                                                 \n",
      " time_distributed_283 (TimeD  (None, 18, 3, 3, 256)    0         \n",
      " istributed)                                                     \n",
      "                                                                 \n",
      " time_distributed_284 (TimeD  (None, 18, 2304)         0         \n",
      " istributed)                                                     \n",
      "                                                                 \n",
      " lstm_16 (LSTM)              (None, 128)               1245696   \n",
      "                                                                 \n",
      " dropout_38 (Dropout)        (None, 128)               0         \n",
      "                                                                 \n",
      " dense_40 (Dense)            (None, 128)               16512     \n",
      "                                                                 \n",
      " dropout_39 (Dropout)        (None, 128)               0         \n",
      "                                                                 \n",
      " dense_41 (Dense)            (None, 5)                 645       \n",
      "                                                                 \n",
      "=================================================================\n",
      "Total params: 1,657,445\n",
      "Trainable params: 1,656,453\n",
      "Non-trainable params: 992\n",
      "_________________________________________________________________\n"
     ]
    }
   ],
   "source": [
    "cnn_lstm=CNNLSTM()\n",
    "cnn_lstm.initialize_path(project_folder)\n",
    "cnn_lstm.initialize_image_properties(image_height=120,image_width=120)\n",
    "cnn_lstm.initialize_hyperparams(frames_to_sample=18,batch_size=20,num_epochs=20)\n",
    "cnn_lstm_model=cnn_lstm.define_model(lstm_cells=128,dense_neurons=128,dropout=0.25)\n",
    "cnn_lstm_model.summary()"
   ]
  },
  {
   "cell_type": "code",
   "execution_count": 16,
   "metadata": {},
   "outputs": [
    {
     "name": "stdout",
     "output_type": "stream",
     "text": [
      "Total Params: 1657445\n"
     ]
    }
   ],
   "source": [
    "print(\"Total Params:\", cnn_lstm_model.count_params())"
   ]
  },
  {
   "cell_type": "code",
   "execution_count": 175,
   "metadata": {},
   "outputs": [
    {
     "name": "stdout",
     "output_type": "stream",
     "text": [
      "WARNING:tensorflow:`period` argument is deprecated. Please use `save_freq` to specify the frequency in number of batches seen.\n",
      "Epoch 1/20\n",
      "21/21 [==============================] - ETA: 0s - loss: 0.5693 - categorical_accuracy: 0.8423\n",
      "Epoch 00001: val_loss improved from inf to 1.69906, saving model to model_init_2025-01-2821_33_36.941985/model-00001-0.56926-0.84226-1.69906-0.35938.h5\n",
      "21/21 [==============================] - 100s 5s/step - loss: 0.5693 - categorical_accuracy: 0.8423 - val_loss: 1.6991 - val_categorical_accuracy: 0.3594 - lr: 0.0020\n",
      "Epoch 2/20\n",
      "21/21 [==============================] - ETA: 0s - loss: 0.5552 - categorical_accuracy: 0.8363\n",
      "Epoch 00002: val_loss did not improve from 1.69906\n",
      "21/21 [==============================] - 107s 5s/step - loss: 0.5552 - categorical_accuracy: 0.8363 - val_loss: 1.7089 - val_categorical_accuracy: 0.3359 - lr: 0.0020\n",
      "Epoch 3/20\n",
      "21/21 [==============================] - ETA: 0s - loss: 0.5452 - categorical_accuracy: 0.8497\n",
      "Epoch 00003: val_loss did not improve from 1.69906\n",
      "21/21 [==============================] - 105s 5s/step - loss: 0.5452 - categorical_accuracy: 0.8497 - val_loss: 1.8376 - val_categorical_accuracy: 0.3203 - lr: 0.0020\n",
      "Epoch 4/20\n",
      "21/21 [==============================] - ETA: 0s - loss: 0.4246 - categorical_accuracy: 0.8943\n",
      "Epoch 00008: val_loss did not improve from 1.69906\n",
      "21/21 [==============================] - 104s 5s/step - loss: 0.4246 - categorical_accuracy: 0.8943 - val_loss: 1.8260 - val_categorical_accuracy: 0.3516 - lr: 4.0000e-04\n",
      "Epoch 9/20\n",
      "21/21 [==============================] - ETA: 0s - loss: 0.4308 - categorical_accuracy: 0.9018\n",
      "Epoch 00009: val_loss improved from 1.69906 to 1.66811, saving model to model_init_2025-01-2821_33_36.941985/model-00009-0.43080-0.90179-1.66811-0.41406.h5\n",
      "21/21 [==============================] - 103s 5s/step - loss: 0.4308 - categorical_accuracy: 0.9018 - val_loss: 1.6681 - val_categorical_accuracy: 0.4141 - lr: 4.0000e-04\n",
      "Epoch 10/20\n",
      "21/21 [==============================] - ETA: 0s - loss: 0.4338 - categorical_accuracy: 0.8914\n",
      "Epoch 00010: val_loss did not improve from 1.66811\n",
      "21/21 [==============================] - 102s 5s/step - loss: 0.4338 - categorical_accuracy: 0.8914 - val_loss: 1.7020 - val_categorical_accuracy: 0.3984 - lr: 4.0000e-04\n",
      "Epoch 11/20\n",
      "21/21 [==============================] - ETA: 0s - loss: 0.3975 - categorical_accuracy: 0.9018\n",
      "Epoch 00011: val_loss improved from 1.66811 to 1.56793, saving model to model_init_2025-01-2821_33_36.941985/model-00011-0.39754-0.90179-1.56793-0.43750.h5\n",
      "21/21 [==============================] - 101s 5s/step - loss: 0.3975 - categorical_accuracy: 0.9018 - val_loss: 1.5679 - val_categorical_accuracy: 0.4375 - lr: 4.0000e-04\n",
      "Epoch 12/20\n",
      "21/21 [==============================] - ETA: 0s - loss: 0.4079 - categorical_accuracy: 0.9092\n",
      "Epoch 00015: val_loss improved from 1.21934 to 1.15878, saving model to model_init_2025-01-2821_33_36.941985/model-00015-0.40793-0.90923-1.15878-0.53906.h5\n",
      "21/21 [==============================] - 104s 5s/step - loss: 0.4079 - categorical_accuracy: 0.9092 - val_loss: 1.1588 - val_categorical_accuracy: 0.5391 - lr: 4.0000e-04\n",
      "Epoch 16/20\n",
      "21/21 [==============================] - ETA: 0s - loss: 0.3765 - categorical_accuracy: 0.9271\n",
      "Epoch 00016: val_loss improved from 1.15878 to 1.02539, saving model to model_init_2025-01-2821_33_36.941985/model-00016-0.37646-0.92708-1.02539-0.60156.h5\n",
      "21/21 [==============================] - 103s 5s/step - loss: 0.3765 - categorical_accuracy: 0.9271 - val_loss: 1.0254 - val_categorical_accuracy: 0.6016 - lr: 4.0000e-04\n",
      "Epoch 17/20\n",
      "21/21 [==============================] - ETA: 0s - loss: 0.4028 - categorical_accuracy: 0.9033\n",
      "Epoch 00017: val_loss improved from 1.02539 to 1.02339, saving model to model_init_2025-01-2821_33_36.941985/model-00017-0.40283-0.90327-1.02339-0.61719.h5\n",
      "21/21 [==============================] - 100s 5s/step - loss: 0.4028 - categorical_accuracy: 0.9033 - val_loss: 1.0234 - val_categorical_accuracy: 0.6172 - lr: 4.0000e-04\n",
      "Epoch 18/20\n",
      "21/21 [==============================] - ETA: 0s - loss: 0.3893 - categorical_accuracy: 0.9211\n",
      "Epoch 00018: val_loss improved from 1.02339 to 0.86033, saving model to model_init_2025-01-2821_33_36.941985/model-00018-0.38931-0.92113-0.86033-0.67188.h5\n",
      "21/21 [==============================] - 105s 5s/step - loss: 0.3893 - categorical_accuracy: 0.9211 - val_loss: 0.8603 - val_categorical_accuracy: 0.6719 - lr: 4.0000e-04\n",
      "Epoch 19/20\n",
      "21/21 [==============================] - ETA: 0s - loss: 0.3906 - categorical_accuracy: 0.9077\n",
      "Epoch 00019: val_loss did not improve from 0.86033\n",
      "21/21 [==============================] - 104s 5s/step - loss: 0.3906 - categorical_accuracy: 0.9077 - val_loss: 0.9327 - val_categorical_accuracy: 0.6172 - lr: 4.0000e-04\n",
      "Epoch 20/20\n",
      "21/21 [==============================] - ETA: 0s - loss: 0.3517 - categorical_accuracy: 0.9271\n",
      "Epoch 00020: val_loss did not improve from 0.86033\n",
      "21/21 [==============================] - 108s 5s/step - loss: 0.3517 - categorical_accuracy: 0.9271 - val_loss: 0.8752 - val_categorical_accuracy: 0.6172 - lr: 4.0000e-04\n"
     ]
    }
   ],
   "source": [
    "training_output_model7 = cnn_lstm.train_model(cnn_lstm_model)"
   ]
  },
  {
   "cell_type": "code",
   "execution_count": 176,
   "metadata": {},
   "outputs": [
    {
     "data": {
      "image/png": "[encoded data removed]",
      "text/plain": [
       "<Figure size 1080x288 with 2 Axes>"
      ]
     },
     "metadata": {
      "needs_background": "light"
     },
     "output_type": "display_data"
    }
   ],
   "source": [
    "plot(training_output_model7)"
   ]
  },
  {
   "cell_type": "markdown",
   "metadata": {},
   "source": [
    "## Model 8: CNN + LSTM with epochs = 25\n"
   ]
  },
  {
   "cell_type": "markdown",
   "metadata": {},
   "source": [
    "In above model we see the validation accuracy is varing wildly. We will try to change the architecture to have CNN + LSTM. We will use an image size of 120 x 120 and epochs =  25"
   ]
  },
  {
   "cell_type": "code",
   "execution_count": 68,
   "metadata": {},
   "outputs": [
    {
     "name": "stdout",
     "output_type": "stream",
     "text": [
      "Model: \"sequential_21\"\n",
      "_________________________________________________________________\n",
      " Layer (type)                Output Shape              Param #   \n",
      "=================================================================\n",
      " time_distributed_301 (TimeD  (None, 20, 80, 80, 16)   448       \n",
      " istributed)                                                     \n",
      "                                                                 \n",
      " time_distributed_302 (TimeD  (None, 20, 80, 80, 16)   64        \n",
      " istributed)                                                     \n",
      "                                                                 \n",
      " time_distributed_303 (TimeD  (None, 20, 40, 40, 16)   0         \n",
      " istributed)                                                     \n",
      "                                                                 \n",
      " time_distributed_304 (TimeD  (None, 20, 40, 40, 32)   4640      \n",
      " istributed)                                                     \n",
      "                                                                 \n",
      " time_distributed_305 (TimeD  (None, 20, 40, 40, 32)   128       \n",
      " istributed)                                                     \n",
      "                                                                 \n",
      " time_distributed_306 (TimeD  (None, 20, 20, 20, 32)   0         \n",
      " istributed)                                                     \n",
      "                                                                 \n",
      " time_distributed_307 (TimeD  (None, 20, 20, 20, 64)   18496     \n",
      " istributed)                                                     \n",
      "                                                                 \n",
      " time_distributed_308 (TimeD  (None, 20, 20, 20, 64)   256       \n",
      " istributed)                                                     \n",
      "                                                                 \n",
      " time_distributed_309 (TimeD  (None, 20, 10, 10, 64)   0         \n",
      " istributed)                                                     \n",
      "                                                                 \n",
      " time_distributed_310 (TimeD  (None, 20, 10, 10, 128)  73856     \n",
      " istributed)                                                     \n",
      "                                                                 \n",
      " time_distributed_311 (TimeD  (None, 20, 10, 10, 128)  512       \n",
      " istributed)                                                     \n",
      "                                                                 \n",
      " time_distributed_312 (TimeD  (None, 20, 5, 5, 128)    0         \n",
      " istributed)                                                     \n",
      "                                                                 \n",
      " time_distributed_313 (TimeD  (None, 20, 5, 5, 256)    295168    \n",
      " istributed)                                                     \n",
      "                                                                 \n",
      " time_distributed_314 (TimeD  (None, 20, 5, 5, 256)    1024      \n",
      " istributed)                                                     \n",
      "                                                                 \n",
      " time_distributed_315 (TimeD  (None, 20, 2, 2, 256)    0         \n",
      " istributed)                                                     \n",
      "                                                                 \n",
      " time_distributed_316 (TimeD  (None, 20, 1024)         0         \n",
      " istributed)                                                     \n",
      "                                                                 \n",
      " lstm_18 (LSTM)              (None, 128)               590336    \n",
      "                                                                 \n",
      " dropout_42 (Dropout)        (None, 128)               0         \n",
      "                                                                 \n",
      " dense_44 (Dense)            (None, 128)               16512     \n",
      "                                                                 \n",
      " dropout_43 (Dropout)        (None, 128)               0         \n",
      "                                                                 \n",
      " dense_45 (Dense)            (None, 5)                 645       \n",
      "                                                                 \n",
      "=================================================================\n",
      "Total params: 1,002,085\n",
      "Trainable params: 1,001,093\n",
      "Non-trainable params: 992\n",
      "_________________________________________________________________\n"
     ]
    }
   ],
   "source": [
    "cnn_lstm2=CNNLSTM()\n",
    "cnn_lstm2.initialize_path(project_folder)\n",
    "cnn_lstm2.initialize_image_properties(image_height=80,image_width=80)\n",
    "cnn_lstm2.initialize_hyperparams(frames_to_sample=20,batch_size=32,num_epochs=25)\n",
    "cnn_lstm2_model=cnn_lstm2.define_model(lstm_cells=128,dense_neurons=128,dropout=0.25)\n",
    "cnn_lstm2_model.summary()"
   ]
  },
  {
   "cell_type": "code",
   "execution_count": 69,
   "metadata": {},
   "outputs": [
    {
     "name": "stdout",
     "output_type": "stream",
     "text": [
      "Total Params: 1002085\n"
     ]
    }
   ],
   "source": [
    "print(\"Total Params:\", cnn_lstm2_model.count_params())"
   ]
  },
  {
   "cell_type": "code",
   "execution_count": null,
   "metadata": {},
   "outputs": [
    {
     "name": "stdout",
     "output_type": "stream",
     "text": [
      "WARNING:tensorflow:`period` argument is deprecated. Please use `save_freq` to specify the frequency in number of batches seen.\n",
      "Epoch 1/25\n",
      " 2/21 [=>............................] - ETA: 1:19 - loss: 1.6667 - categorical_accuracy: 0.2031"
     ]
    }
   ],
   "source": [
    "training_output_model8 = cnn_lstm2.train_model(cnn_lstm2_model)"
   ]
  },
  {
   "cell_type": "code",
   "execution_count": 51,
   "metadata": {},
   "outputs": [
    {
     "data": {
      "image/png": "[encoded data removed]",
      "text/plain": [
       "<Figure size 1080x288 with 2 Axes>"
      ]
     },
     "metadata": {
      "needs_background": "light"
     },
     "output_type": "display_data"
    }
   ],
   "source": [
    "plot(training_output_model8)"
   ]
  },
  {
   "cell_type": "markdown",
   "metadata": {},
   "source": [
    "## Model 9: CNN + LSTM with GRU\n"
   ]
  },
  {
   "cell_type": "markdown",
   "metadata": {},
   "source": [
    "In the above Model, we see sign of improvement in training and validation accuracy. They seem to be converging together. We will increase the image resolution to and use GRU along with CNN and LSTM with increased Epochs.\n",
    "\n",
    "We hope to see an Improvement in training Time as GRU trains fewere parameters compared to LSTM"
   ]
  },
  {
   "cell_type": "code",
   "execution_count": 30,
   "metadata": {},
   "outputs": [],
   "source": [
    "from keras.layers import GRU\n",
    "\n",
    "class GRULSTM(ModelBuilder):\n",
    "    \n",
    "    def define_model(self,lstm_cells=64,dense_neurons=64,dropout=0.25):\n",
    "\n",
    "        model = Sequential()\n",
    "\n",
    "        model.add(TimeDistributed(Conv2D(16, (3, 3) , padding='same', activation='relu'),\n",
    "                                  input_shape=(self.frames_to_sample,self.image_height,self.image_width,self.channels)))\n",
    "        model.add(TimeDistributed(BatchNormalization()))\n",
    "        model.add(TimeDistributed(MaxPooling2D((2, 2))))\n",
    "        \n",
    "        model.add(TimeDistributed(Conv2D(32, (3, 3) , padding='same', activation='relu')))\n",
    "        model.add(TimeDistributed(BatchNormalization()))\n",
    "        model.add(TimeDistributed(MaxPooling2D((2, 2))))\n",
    "        \n",
    "        model.add(TimeDistributed(Conv2D(64, (3, 3) , padding='same', activation='relu')))\n",
    "        model.add(TimeDistributed(BatchNormalization()))\n",
    "        model.add(TimeDistributed(MaxPooling2D((2, 2))))\n",
    "        \n",
    "        model.add(TimeDistributed(Conv2D(128, (3, 3) , padding='same', activation='relu')))\n",
    "        model.add(TimeDistributed(BatchNormalization()))\n",
    "        model.add(TimeDistributed(MaxPooling2D((2, 2))))\n",
    "        \n",
    "\n",
    "        model.add(TimeDistributed(Flatten()))\n",
    "\n",
    "\n",
    "        model.add(GRU(lstm_cells))\n",
    "        model.add(Dropout(dropout))\n",
    "        \n",
    "        model.add(Dense(dense_neurons,activation='relu'))\n",
    "        model.add(Dropout(dropout))\n",
    "        \n",
    "        model.add(Dense(self.num_classes, activation='softmax'))\n",
    "        optimiser = tf.keras.optimizers.Adam(lr=0.002)\n",
    "        model.compile(optimizer=optimiser, loss='categorical_crossentropy', metrics=['categorical_accuracy'])\n",
    "        return model\n"
   ]
  },
  {
   "cell_type": "code",
   "execution_count": 31,
   "metadata": {},
   "outputs": [
    {
     "name": "stdout",
     "output_type": "stream",
     "text": [
      "Model: \"sequential_8\"\n",
      "_________________________________________________________________\n",
      " Layer (type)                Output Shape              Param #   \n",
      "=================================================================\n",
      " time_distributed_96 (TimeDi  (None, 30, 120, 120, 16)  448      \n",
      " stributed)                                                      \n",
      "                                                                 \n",
      " time_distributed_97 (TimeDi  (None, 30, 120, 120, 16)  64       \n",
      " stributed)                                                      \n",
      "                                                                 \n",
      " time_distributed_98 (TimeDi  (None, 30, 60, 60, 16)   0         \n",
      " stributed)                                                      \n",
      "                                                                 \n",
      " time_distributed_99 (TimeDi  (None, 30, 60, 60, 32)   4640      \n",
      " stributed)                                                      \n",
      "                                                                 \n",
      " time_distributed_100 (TimeD  (None, 30, 60, 60, 32)   128       \n",
      " istributed)                                                     \n",
      "                                                                 \n",
      " time_distributed_101 (TimeD  (None, 30, 30, 30, 32)   0         \n",
      " istributed)                                                     \n",
      "                                                                 \n",
      " time_distributed_102 (TimeD  (None, 30, 30, 30, 64)   18496     \n",
      " istributed)                                                     \n",
      "                                                                 \n",
      " time_distributed_103 (TimeD  (None, 30, 30, 30, 64)   256       \n",
      " istributed)                                                     \n",
      "                                                                 \n",
      " time_distributed_104 (TimeD  (None, 30, 15, 15, 64)   0         \n",
      " istributed)                                                     \n",
      "                                                                 \n",
      " time_distributed_105 (TimeD  (None, 30, 15, 15, 128)  73856     \n",
      " istributed)                                                     \n",
      "                                                                 \n",
      " time_distributed_106 (TimeD  (None, 30, 15, 15, 128)  512       \n",
      " istributed)                                                     \n",
      "                                                                 \n",
      " time_distributed_107 (TimeD  (None, 30, 7, 7, 128)    0         \n",
      " istributed)                                                     \n",
      "                                                                 \n",
      " time_distributed_108 (TimeD  (None, 30, 6272)         0         \n",
      " istributed)                                                     \n",
      "                                                                 \n",
      " gru (GRU)                   (None, 64)                1216896   \n",
      "                                                                 \n",
      " dropout_16 (Dropout)        (None, 64)                0         \n",
      "                                                                 \n",
      " dense_18 (Dense)            (None, 64)                4160      \n",
      "                                                                 \n",
      " dropout_17 (Dropout)        (None, 64)                0         \n",
      "                                                                 \n",
      " dense_19 (Dense)            (None, 5)                 325       \n",
      "                                                                 \n",
      "=================================================================\n",
      "Total params: 1,319,781\n",
      "Trainable params: 1,319,301\n",
      "Non-trainable params: 480\n",
      "_________________________________________________________________\n"
     ]
    }
   ],
   "source": [
    "gru_lstm=GRULSTM()\n",
    "gru_lstm.initialize_path(project_folder)\n",
    "gru_lstm.initialize_image_properties(image_height=120,image_width=120)\n",
    "gru_lstm.initialize_hyperparams(frames_to_sample=30,batch_size=32,num_epochs=30)\n",
    "gru_lstm_model=gru_lstm.define_model()\n",
    "gru_lstm_model.summary()"
   ]
  },
  {
   "cell_type": "code",
   "execution_count": 32,
   "metadata": {},
   "outputs": [
    {
     "name": "stdout",
     "output_type": "stream",
     "text": [
      "Total Params: 1319781\n"
     ]
    }
   ],
   "source": [
    "print(\"Total Params:\", gru_lstm_model.count_params())"
   ]
  },
  {
   "cell_type": "code",
   "execution_count": 33,
   "metadata": {},
   "outputs": [
    {
     "name": "stdout",
     "output_type": "stream",
     "text": [
      "WARNING:tensorflow:`period` argument is deprecated. Please use `save_freq` to specify the frequency in number of batches seen.\n",
      "Epoch 1/30\n",
      "21/21 [==============================] - ETA: 0s - loss: 1.5661 - categorical_accuracy: 0.3155\n",
      "Epoch 00001: val_loss improved from inf to 1.82308, saving model to model_init_2025-01-2915_17_09.339672/model-00001-1.56606-0.31548-1.82308-0.28906.h5\n",
      "21/21 [==============================] - 167s 8s/step - loss: 1.5661 - categorical_accuracy: 0.3155 - val_loss: 1.8231 - val_categorical_accuracy: 0.2891 - lr: 0.0020\n",
      "Epoch 2/30\n",
      "21/21 [==============================] - ETA: 0s - loss: 1.3393 - categorical_accuracy: 0.4122\n",
      "Epoch 00002: val_loss did not improve from 1.82308\n",
      "21/21 [==============================] - 166s 8s/step - loss: 1.3393 - categorical_accuracy: 0.4122 - val_loss: 2.2732 - val_categorical_accuracy: 0.2188 - lr: 0.0020\n",
      "Epoch 3/30\n",
      "21/21 [==============================] - ETA: 0s - loss: 1.2471 - categorical_accuracy: 0.4717\n",
      "Epoch 00003: val_loss did not improve from 1.82308\n",
      "21/21 [==============================] - 167s 8s/step - loss: 1.2471 - categorical_accuracy: 0.4717 - val_loss: 1.9620 - val_categorical_accuracy: 0.2188 - lr: 0.0020\n",
      "Epoch 4/30\n",
      "21/21 [==============================] - ETA: 0s - loss: 1.0958 - categorical_accuracy: 0.5342\n",
      "Epoch 00004: val_loss did not improve from 1.82308\n",
      "21/21 [==============================] - 162s 8s/step - loss: 1.0958 - categorical_accuracy: 0.5342 - val_loss: 2.2562 - val_categorical_accuracy: 0.1953 - lr: 0.0020\n",
      "Epoch 5/30\n",
      "21/21 [==============================] - ETA: 0s - loss: 1.0053 - categorical_accuracy: 0.5893\n",
      "Epoch 00005: val_loss did not improve from 1.82308\n",
      "\n",
      "Epoch 00005: ReduceLROnPlateau reducing learning rate to 0.0004000000189989805.\n",
      "21/21 [==============================] - 164s 8s/step - loss: 1.0053 - categorical_accuracy: 0.5893 - val_loss: 2.4537 - val_categorical_accuracy: 0.2656 - lr: 0.0020\n",
      "Epoch 6/30\n",
      "21/21 [==============================] - ETA: 0s - loss: 0.9330 - categorical_accuracy: 0.6339\n",
      "Epoch 00006: val_loss did not improve from 1.82308\n",
      "21/21 [==============================] - 164s 8s/step - loss: 0.9330 - categorical_accuracy: 0.6339 - val_loss: 2.3988 - val_categorical_accuracy: 0.2578 - lr: 4.0000e-04\n",
      "Epoch 7/30\n",
      "21/21 [==============================] - ETA: 0s - loss: 0.8725 - categorical_accuracy: 0.6384\n",
      "Epoch 00007: val_loss did not improve from 1.82308\n",
      "21/21 [==============================] - 165s 8s/step - loss: 0.8725 - categorical_accuracy: 0.6384 - val_loss: 2.2348 - val_categorical_accuracy: 0.3438 - lr: 4.0000e-04\n",
      "Epoch 8/30\n",
      "21/21 [==============================] - ETA: 0s - loss: 0.7720 - categorical_accuracy: 0.6935\n",
      "Epoch 00008: val_loss did not improve from 1.82308\n",
      "21/21 [==============================] - 166s 8s/step - loss: 0.7720 - categorical_accuracy: 0.6935 - val_loss: 2.4901 - val_categorical_accuracy: 0.3125 - lr: 4.0000e-04\n",
      "Epoch 9/30\n",
      "21/21 [==============================] - ETA: 0s - loss: 0.7476 - categorical_accuracy: 0.7024\n",
      "Epoch 00009: val_loss did not improve from 1.82308\n",
      "\n",
      "Epoch 00009: ReduceLROnPlateau reducing learning rate to 8.000000379979611e-05.\n",
      "21/21 [==============================] - 162s 8s/step - loss: 0.7476 - categorical_accuracy: 0.7024 - val_loss: 2.4290 - val_categorical_accuracy: 0.2969 - lr: 4.0000e-04\n",
      "Epoch 10/30\n",
      "21/21 [==============================] - ETA: 0s - loss: 0.6879 - categorical_accuracy: 0.7068\n",
      "Epoch 00010: val_loss did not improve from 1.82308\n",
      "21/21 [==============================] - 163s 8s/step - loss: 0.6879 - categorical_accuracy: 0.7068 - val_loss: 2.6417 - val_categorical_accuracy: 0.3359 - lr: 8.0000e-05\n",
      "Epoch 11/30\n",
      "21/21 [==============================] - ETA: 0s - loss: 0.6825 - categorical_accuracy: 0.7173\n",
      "Epoch 00011: val_loss did not improve from 1.82308\n",
      "21/21 [==============================] - 162s 8s/step - loss: 0.6825 - categorical_accuracy: 0.7173 - val_loss: 2.6740 - val_categorical_accuracy: 0.2812 - lr: 8.0000e-05\n",
      "Epoch 00011: early stopping\n"
     ]
    }
   ],
   "source": [
    "training_output_model9 = gru_lstm.train_model(gru_lstm_model)"
   ]
  },
  {
   "cell_type": "code",
   "execution_count": 34,
   "metadata": {},
   "outputs": [
    {
     "data": {
      "image/png": "[encoded data removed]",
      "text/plain": [
       "<Figure size 1080x288 with 2 Axes>"
      ]
     },
     "metadata": {
      "needs_background": "light"
     },
     "output_type": "display_data"
    }
   ],
   "source": [
    "plot(training_output_model9)"
   ]
  },
  {
   "cell_type": "markdown",
   "metadata": {},
   "source": [
    "In the above Model, we see sign of improvement in training and validation accuracy. They seem to be converging together. "
   ]
  },
  {
   "cell_type": "markdown",
   "metadata": {},
   "source": [
    "## Model 10: Transfer Learning using Mobilenet with GRU\n"
   ]
  },
  {
   "cell_type": "markdown",
   "metadata": {},
   "source": [
    "We will Try and use transfer learning to see if there is improvement in training time and validation accuracy. We will mobilenet as our initial model"
   ]
  },
  {
   "cell_type": "code",
   "execution_count": 56,
   "metadata": {},
   "outputs": [
    {
     "name": "stdout",
     "output_type": "stream",
     "text": [
      "WARNING:tensorflow:`input_shape` is undefined or non-square, or `rows` is not in [128, 160, 192, 224]. Weights for input shape (224, 224) will be loaded as the default.\n"
     ]
    }
   ],
   "source": [
    "\n",
    "from keras.applications import mobilenet\n",
    "\n",
    "mobilenet_transfer = mobilenet.MobileNet(weights='imagenet', include_top=False)\n",
    "\n",
    "class GRUTransferLearning(ModelBuilder):\n",
    "    \n",
    "    def define_model(self,gru_cells=64,dense_neurons=64,dropout=0.25):\n",
    "        \n",
    "        model = Sequential()\n",
    "        model.add(TimeDistributed(mobilenet_transfer,input_shape=(self.frames_to_sample,self.image_height,self.image_width,self.channels)))\n",
    " \n",
    "        \n",
    "        model.add(TimeDistributed(BatchNormalization()))\n",
    "        model.add(TimeDistributed(MaxPooling2D((2, 2))))\n",
    "        model.add(TimeDistributed(Flatten()))\n",
    "\n",
    "        model.add(GRU(gru_cells))\n",
    "        model.add(Dropout(dropout))\n",
    "        \n",
    "        model.add(Dense(dense_neurons,activation='relu'))\n",
    "        model.add(Dropout(dropout))\n",
    "        \n",
    "        model.add(Dense(self.num_classes, activation='softmax'))\n",
    "        \n",
    "        \n",
    "        optimiser = tf.keras.optimizers.Adam()\n",
    "        model.compile(optimizer=optimiser, loss='categorical_crossentropy', metrics=['categorical_accuracy'])\n",
    "        return model"
   ]
  },
  {
   "cell_type": "code",
   "execution_count": 60,
   "metadata": {},
   "outputs": [
    {
     "name": "stdout",
     "output_type": "stream",
     "text": [
      "Model: \"sequential_15\"\n",
      "_________________________________________________________________\n",
      " Layer (type)                Output Shape              Param #   \n",
      "=================================================================\n",
      " time_distributed_182 (TimeD  (None, 16, 3, 3, 1024)   3228864   \n",
      " istributed)                                                     \n",
      "                                                                 \n",
      " time_distributed_183 (TimeD  (None, 16, 3, 3, 1024)   4096      \n",
      " istributed)                                                     \n",
      "                                                                 \n",
      " time_distributed_184 (TimeD  (None, 16, 1, 1, 1024)   0         \n",
      " istributed)                                                     \n",
      "                                                                 \n",
      " time_distributed_185 (TimeD  (None, 16, 1024)         0         \n",
      " istributed)                                                     \n",
      "                                                                 \n",
      " gru_8 (GRU)                 (None, 128)               443136    \n",
      "                                                                 \n",
      " dropout_30 (Dropout)        (None, 128)               0         \n",
      "                                                                 \n",
      " dense_31 (Dense)            (None, 128)               16512     \n",
      "                                                                 \n",
      " dropout_31 (Dropout)        (None, 128)               0         \n",
      "                                                                 \n",
      " dense_32 (Dense)            (None, 5)                 645       \n",
      "                                                                 \n",
      "=================================================================\n",
      "Total params: 3,693,253\n",
      "Trainable params: 3,669,317\n",
      "Non-trainable params: 23,936\n",
      "_________________________________________________________________\n"
     ]
    }
   ],
   "source": [
    "gru_tl=GRUTransferLearning()\n",
    "gru_tl.initialize_path(project_folder)\n",
    "gru_tl.initialize_image_properties(image_height=120,image_width=120)\n",
    "gru_tl.initialize_hyperparams(frames_to_sample=16,batch_size=30,num_epochs=25)\n",
    "gru_tl_model=gru_tl.define_model(gru_cells=128,dense_neurons=128,dropout=0.25)\n",
    "gru_tl_model.summary()"
   ]
  },
  {
   "cell_type": "code",
   "execution_count": 61,
   "metadata": {},
   "outputs": [
    {
     "name": "stdout",
     "output_type": "stream",
     "text": [
      "Total Params: 3693253\n"
     ]
    }
   ],
   "source": [
    "print(\"Total Params:\", gru_tl_model.count_params())"
   ]
  },
  {
   "cell_type": "code",
   "execution_count": 62,
   "metadata": {},
   "outputs": [
    {
     "name": "stdout",
     "output_type": "stream",
     "text": [
      "WARNING:tensorflow:`period` argument is deprecated. Please use `save_freq` to specify the frequency in number of batches seen.\n",
      "Epoch 1/25\n",
      "23/23 [==============================] - ETA: 0s - loss: 0.8974 - categorical_accuracy: 0.6435\n",
      "Epoch 00001: val_loss improved from inf to 0.64465, saving model to model_init_2025-01-2906_15_34.177975/model-00001-0.89745-0.64348-0.64465-0.77500.h5\n",
      "23/23 [==============================] - 97s 4s/step - loss: 0.8974 - categorical_accuracy: 0.6435 - val_loss: 0.6446 - val_categorical_accuracy: 0.7750 - lr: 0.0010\n",
      "Epoch 2/25\n",
      "23/23 [==============================] - ETA: 0s - loss: 0.3662 - categorical_accuracy: 0.8551\n",
      "Epoch 00002: val_loss improved from 0.64465 to 0.30795, saving model to model_init_2025-01-2906_15_34.177975/model-00002-0.36621-0.85507-0.30795-0.90000.h5\n",
      "23/23 [==============================] - 90s 4s/step - loss: 0.3662 - categorical_accuracy: 0.8551 - val_loss: 0.3080 - val_categorical_accuracy: 0.9000 - lr: 0.0010\n",
      "Epoch 3/25\n",
      "23/23 [==============================] - ETA: 0s - loss: 0.1635 - categorical_accuracy: 0.9420\n",
      "Epoch 00003: val_loss did not improve from 0.30795\n",
      "23/23 [==============================] - 88s 4s/step - loss: 0.1635 - categorical_accuracy: 0.9420 - val_loss: 0.3986 - val_categorical_accuracy: 0.8500 - lr: 0.0010\n",
      "Epoch 4/25\n",
      "23/23 [==============================] - ETA: 0s - loss: 0.1010 - categorical_accuracy: 0.9667\n",
      "Epoch 00004: val_loss did not improve from 0.30795\n",
      "23/23 [==============================] - 90s 4s/step - loss: 0.1010 - categorical_accuracy: 0.9667 - val_loss: 1.0016 - val_categorical_accuracy: 0.7333 - lr: 0.0010\n",
      "Epoch 5/25\n",
      "23/23 [==============================] - ETA: 0s - loss: 0.1161 - categorical_accuracy: 0.9623\n",
      "Epoch 00005: val_loss did not improve from 0.30795\n",
      "23/23 [==============================] - 89s 4s/step - loss: 0.1161 - categorical_accuracy: 0.9623 - val_loss: 1.1477 - val_categorical_accuracy: 0.6833 - lr: 0.0010\n",
      "Epoch 6/25\n",
      "23/23 [==============================] - ETA: 0s - loss: 0.1758 - categorical_accuracy: 0.9507\n",
      "Epoch 00006: val_loss did not improve from 0.30795\n",
      "\n",
      "Epoch 00006: ReduceLROnPlateau reducing learning rate to 0.00020000000949949026.\n",
      "23/23 [==============================] - 88s 4s/step - loss: 0.1758 - categorical_accuracy: 0.9507 - val_loss: 0.8660 - val_categorical_accuracy: 0.7417 - lr: 0.0010\n",
      "Epoch 7/25\n",
      "23/23 [==============================] - ETA: 0s - loss: 0.0898 - categorical_accuracy: 0.9725\n",
      "Epoch 00007: val_loss did not improve from 0.30795\n",
      "23/23 [==============================] - 89s 4s/step - loss: 0.0898 - categorical_accuracy: 0.9725 - val_loss: 0.5930 - val_categorical_accuracy: 0.7917 - lr: 2.0000e-04\n",
      "Epoch 8/25\n",
      "23/23 [==============================] - ETA: 0s - loss: 0.0203 - categorical_accuracy: 0.9986\n",
      "Epoch 00008: val_loss did not improve from 0.30795\n",
      "23/23 [==============================] - 89s 4s/step - loss: 0.0203 - categorical_accuracy: 0.9986 - val_loss: 0.3639 - val_categorical_accuracy: 0.9000 - lr: 2.0000e-04\n",
      "Epoch 9/25\n",
      "23/23 [==============================] - ETA: 0s - loss: 0.0155 - categorical_accuracy: 0.9986\n",
      "Epoch 00009: val_loss improved from 0.30795 to 0.17741, saving model to model_init_2025-01-2906_15_34.177975/model-00009-0.01546-0.99855-0.17741-0.91667.h5\n",
      "23/23 [==============================] - 90s 4s/step - loss: 0.0155 - categorical_accuracy: 0.9986 - val_loss: 0.1774 - val_categorical_accuracy: 0.9167 - lr: 2.0000e-04\n",
      "Epoch 10/25\n",
      "23/23 [==============================] - ETA: 0s - loss: 0.0147 - categorical_accuracy: 0.9971\n",
      "Epoch 00010: val_loss improved from 0.17741 to 0.17515, saving model to model_init_2025-01-2906_15_34.177975/model-00010-0.01473-0.99710-0.17515-0.92500.h5\n",
      "23/23 [==============================] - 88s 4s/step - loss: 0.0147 - categorical_accuracy: 0.9971 - val_loss: 0.1752 - val_categorical_accuracy: 0.9250 - lr: 2.0000e-04\n",
      "Epoch 11/25\n",
      "23/23 [==============================] - ETA: 0s - loss: 0.0331 - categorical_accuracy: 0.9913\n",
      "Epoch 00011: val_loss improved from 0.17515 to 0.14845, saving model to model_init_2025-01-2906_15_34.177975/model-00011-0.03310-0.99130-0.14845-0.95000.h5\n",
      "23/23 [==============================] - 89s 4s/step - loss: 0.0331 - categorical_accuracy: 0.9913 - val_loss: 0.1484 - val_categorical_accuracy: 0.9500 - lr: 2.0000e-04\n",
      "Epoch 12/25\n",
      "23/23 [==============================] - ETA: 0s - loss: 0.0095 - categorical_accuracy: 0.9986\n",
      "Epoch 00012: val_loss did not improve from 0.14845\n",
      "23/23 [==============================] - 88s 4s/step - loss: 0.0095 - categorical_accuracy: 0.9986 - val_loss: 0.2027 - val_categorical_accuracy: 0.9250 - lr: 2.0000e-04\n",
      "Epoch 13/25\n",
      "23/23 [==============================] - ETA: 0s - loss: 0.0105 - categorical_accuracy: 0.9986\n",
      "Epoch 00013: val_loss did not improve from 0.14845\n",
      "23/23 [==============================] - 88s 4s/step - loss: 0.0105 - categorical_accuracy: 0.9986 - val_loss: 0.1873 - val_categorical_accuracy: 0.9417 - lr: 2.0000e-04\n",
      "Epoch 14/25\n",
      "23/23 [==============================] - ETA: 0s - loss: 0.0101 - categorical_accuracy: 0.9986\n",
      "Epoch 00014: val_loss did not improve from 0.14845\n",
      "23/23 [==============================] - 88s 4s/step - loss: 0.0101 - categorical_accuracy: 0.9986 - val_loss: 0.1541 - val_categorical_accuracy: 0.9417 - lr: 2.0000e-04\n",
      "Epoch 15/25\n",
      "23/23 [==============================] - ETA: 0s - loss: 0.0087 - categorical_accuracy: 0.9986\n",
      "Epoch 00015: val_loss improved from 0.14845 to 0.13633, saving model to model_init_2025-01-2906_15_34.177975/model-00015-0.00872-0.99855-0.13633-0.94167.h5\n",
      "23/23 [==============================] - 88s 4s/step - loss: 0.0087 - categorical_accuracy: 0.9986 - val_loss: 0.1363 - val_categorical_accuracy: 0.9417 - lr: 2.0000e-04\n",
      "Epoch 16/25\n",
      "23/23 [==============================] - ETA: 0s - loss: 0.0072 - categorical_accuracy: 0.9986\n",
      "Epoch 00016: val_loss did not improve from 0.13633\n",
      "23/23 [==============================] - 87s 4s/step - loss: 0.0072 - categorical_accuracy: 0.9986 - val_loss: 0.1677 - val_categorical_accuracy: 0.9667 - lr: 2.0000e-04\n",
      "Epoch 17/25\n",
      "23/23 [==============================] - ETA: 0s - loss: 0.0061 - categorical_accuracy: 1.0000\n",
      "Epoch 00017: val_loss improved from 0.13633 to 0.11220, saving model to model_init_2025-01-2906_15_34.177975/model-00017-0.00613-1.00000-0.11220-0.95833.h5\n",
      "23/23 [==============================] - 87s 4s/step - loss: 0.0061 - categorical_accuracy: 1.0000 - val_loss: 0.1122 - val_categorical_accuracy: 0.9583 - lr: 2.0000e-04\n",
      "Epoch 18/25\n",
      "23/23 [==============================] - ETA: 0s - loss: 0.0100 - categorical_accuracy: 0.9971\n",
      "Epoch 00018: val_loss did not improve from 0.11220\n",
      "23/23 [==============================] - 93s 4s/step - loss: 0.0100 - categorical_accuracy: 0.9971 - val_loss: 0.1569 - val_categorical_accuracy: 0.9500 - lr: 2.0000e-04\n",
      "Epoch 19/25\n",
      "23/23 [==============================] - ETA: 0s - loss: 0.0054 - categorical_accuracy: 1.0000\n",
      "Epoch 00019: val_loss did not improve from 0.11220\n",
      "23/23 [==============================] - 90s 4s/step - loss: 0.0054 - categorical_accuracy: 1.0000 - val_loss: 0.1702 - val_categorical_accuracy: 0.9583 - lr: 2.0000e-04\n",
      "Epoch 20/25\n",
      "23/23 [==============================] - ETA: 0s - loss: 0.0035 - categorical_accuracy: 1.0000\n",
      "Epoch 00020: val_loss improved from 0.11220 to 0.10852, saving model to model_init_2025-01-2906_15_34.177975/model-00020-0.00346-1.00000-0.10852-0.97500.h5\n",
      "23/23 [==============================] - 88s 4s/step - loss: 0.0035 - categorical_accuracy: 1.0000 - val_loss: 0.1085 - val_categorical_accuracy: 0.9750 - lr: 2.0000e-04\n",
      "Epoch 21/25\n",
      "23/23 [==============================] - ETA: 0s - loss: 0.0024 - categorical_accuracy: 1.0000\n",
      "Epoch 00021: val_loss improved from 0.10852 to 0.06944, saving model to model_init_2025-01-2906_15_34.177975/model-00021-0.00240-1.00000-0.06944-0.97500.h5\n",
      "23/23 [==============================] - 90s 4s/step - loss: 0.0024 - categorical_accuracy: 1.0000 - val_loss: 0.0694 - val_categorical_accuracy: 0.9750 - lr: 2.0000e-04\n",
      "Epoch 22/25\n",
      "23/23 [==============================] - ETA: 0s - loss: 0.0060 - categorical_accuracy: 0.9986\n",
      "Epoch 00022: val_loss did not improve from 0.06944\n",
      "23/23 [==============================] - 89s 4s/step - loss: 0.0060 - categorical_accuracy: 0.9986 - val_loss: 0.1834 - val_categorical_accuracy: 0.9500 - lr: 2.0000e-04\n",
      "Epoch 23/25\n",
      "23/23 [==============================] - ETA: 0s - loss: 0.0031 - categorical_accuracy: 1.0000\n",
      "Epoch 00023: val_loss did not improve from 0.06944\n",
      "23/23 [==============================] - 89s 4s/step - loss: 0.0031 - categorical_accuracy: 1.0000 - val_loss: 0.0920 - val_categorical_accuracy: 0.9833 - lr: 2.0000e-04\n",
      "Epoch 24/25\n",
      "23/23 [==============================] - ETA: 0s - loss: 0.0048 - categorical_accuracy: 0.9986\n",
      "Epoch 00024: val_loss did not improve from 0.06944\n",
      "23/23 [==============================] - 88s 4s/step - loss: 0.0048 - categorical_accuracy: 0.9986 - val_loss: 0.1236 - val_categorical_accuracy: 0.9500 - lr: 2.0000e-04\n",
      "Epoch 25/25\n",
      "23/23 [==============================] - ETA: 0s - loss: 0.0070 - categorical_accuracy: 0.9971\n",
      "Epoch 00025: val_loss did not improve from 0.06944\n",
      "\n",
      "Epoch 00025: ReduceLROnPlateau reducing learning rate to 4.0000001899898055e-05.\n",
      "23/23 [==============================] - 90s 4s/step - loss: 0.0070 - categorical_accuracy: 0.9971 - val_loss: 0.3985 - val_categorical_accuracy: 0.9167 - lr: 2.0000e-04\n"
     ]
    }
   ],
   "source": [
    "training_output_model9 = gru_tl.train_model(gru_tl_model)"
   ]
  },
  {
   "cell_type": "code",
   "execution_count": 67,
   "metadata": {},
   "outputs": [
    {
     "data": {
      "image/png": "[encoded data removed]",
      "text/plain": [
       "<Figure size 1080x288 with 2 Axes>"
      ]
     },
     "metadata": {
      "needs_background": "light"
     },
     "output_type": "display_data"
    }
   ],
   "source": [
    "plot(training_output_model9)"
   ]
  },
  {
   "cell_type": "code",
   "execution_count": null,
   "metadata": {},
   "outputs": [],
   "source": []
  }
 ],
 "metadata": {
  "kernelspec": {
   "display_name": "Python 3 (ipykernel)",
   "language": "python",
   "name": "python3"
  },
  "language_info": {
   "codemirror_mode": {
    "name": "ipython",
    "version": 3
   },
   "file_extension": ".py",
   "mimetype": "text/x-python",
   "name": "python",
   "nbconvert_exporter": "python",
   "pygments_lexer": "ipython3",
   "version": "3.8.10"
  }
 },
 "nbformat": 4,
 "nbformat_minor": 4
}
