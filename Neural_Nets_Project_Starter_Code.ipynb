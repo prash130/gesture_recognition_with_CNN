{
 "cells": [
  {
   "cell_type": "markdown",
   "metadata": {},
   "source": [
    "# Gesture Recognition\n",
    "In this group project, you are going to build a 3D Conv model that will be able to predict the 5 gestures correctly. Please import the following libraries to get started."
   ]
  },
  {
   "cell_type": "code",
   "execution_count": 2,
   "metadata": {},
   "outputs": [
    {
     "name": "stdout",
     "output_type": "stream",
     "text": [
      "Collecting scipy==1.1.0\n",
      "  Using cached scipy-1.1.0.tar.gz (15.6 MB)\n",
      "  Preparing metadata (setup.py) ... \u001b[?25ldone\n",
      "\u001b[?25hBuilding wheels for collected packages: scipy\n",
      "  Building wheel for scipy (setup.py) ... \u001b[?25ldone\n",
      "\u001b[?25h  Created wheel for scipy: filename=scipy-1.1.0-cp38-cp38-linux_x86_64.whl size=54472561 sha256=36b7a6bba8330223a20f2946d9f217ba94d4e660cd82463885ce8e94617da855\n",
      "  Stored in directory: /home/.cache/pip/wheels/29/a9/5e/9e4eddde37a1e15cf5cb404ba197df482cc39ffbfef91ec337\n",
      "Successfully built scipy\n",
      "Installing collected packages: scipy\n",
      "  Attempting uninstall: scipy\n",
      "    Found existing installation: scipy 1.4.1\n",
      "    Uninstalling scipy-1.4.1:\n",
      "      Successfully uninstalled scipy-1.4.1\n",
      "\u001b[31mERROR: pip's dependency resolver does not currently take into account all the packages that are installed. This behaviour is the source of the following dependency conflicts.\n",
      "scikit-image 0.19.2 requires scipy>=1.4.1, but you have scipy 1.1.0 which is incompatible.\u001b[0m\u001b[31m\n",
      "\u001b[0mSuccessfully installed scipy-1.1.0\n",
      "\u001b[33mWARNING: Running pip as the 'root' user can result in broken permissions and conflicting behaviour with the system package manager. It is recommended to use a virtual environment instead: https://pip.pypa.io/warnings/venv\u001b[0m\u001b[33m\n",
      "\u001b[0m\u001b[33mWARNING: You are using pip version 22.0.3; however, version 25.0 is available.\n",
      "You should consider upgrading via the '/usr/bin/python -m pip install --upgrade pip' command.\u001b[0m\u001b[33m\n",
      "\u001b[0m"
     ]
    }
   ],
   "source": [
    "!pip install scipy==1.1.0"
   ]
  },
  {
   "cell_type": "code",
   "execution_count": 58,
   "metadata": {},
   "outputs": [],
   "source": [
    "import numpy as np\n",
    "import os\n",
    "#from scipy.misc import imread, imresize\n",
    "from skimage.transform import resize\n",
    "from skimage.io import imread\n",
    "import datetime\n",
    "import os\n",
    "import warnings\n",
    "warnings.filterwarnings(\"ignore\")"
   ]
  },
  {
   "cell_type": "markdown",
   "metadata": {},
   "source": [
    "We set the random seed so that the results don't vary drastically."
   ]
  },
  {
   "cell_type": "code",
   "execution_count": 59,
   "metadata": {},
   "outputs": [],
   "source": [
    "np.random.seed(30)\n",
    "import random as rn\n",
    "rn.seed(30)\n",
    "from keras import backend as K\n",
    "import tensorflow as tf\n",
    "#tf.set_random_seed(30)\n",
    "tf.random.set_seed(30)\n"
   ]
  },
  {
   "cell_type": "markdown",
   "metadata": {},
   "source": [
    "## Utility functions"
   ]
  },
  {
   "cell_type": "markdown",
   "metadata": {},
   "source": [
    "### Plotting accuracy and loss"
   ]
  },
  {
   "cell_type": "code",
   "execution_count": 60,
   "metadata": {},
   "outputs": [],
   "source": [
    "# function to plot the training/validation accuracies/losses.\n",
    "import cv2\n",
    "import matplotlib.pyplot as plt\n",
    "\n",
    "\n",
    "def plot(history):\n",
    "    fig, axes = plt.subplots(nrows=1, ncols=2, figsize=(15,4))\n",
    "    axes[0].plot(history.history['loss'])   \n",
    "    axes[0].plot(history.history['val_loss'])\n",
    "    axes[0].legend(['loss','val_loss'])\n",
    "\n",
    "    axes[1].plot(history.history['categorical_accuracy'])   \n",
    "    axes[1].plot(history.history['val_categorical_accuracy'])\n",
    "    axes[1].legend(['categorical_accuracy','val_categorical_accuracy'])"
   ]
  },
  {
   "cell_type": "markdown",
   "metadata": {},
   "source": [
    "## Generator\n",
    "This is one of the most important part of the code. The overall structure of the generator has been given. In the generator, you are going to preprocess the images as you have images of 2 different dimensions as well as create a batch of video frames. You have to experiment with `img_idx`, `y`,`z` and normalization such that you get high accuracy."
   ]
  },
  {
   "cell_type": "code",
   "execution_count": 70,
   "metadata": {},
   "outputs": [],
   "source": [
    "# def generator(source_path, folder_list, batch_size):\n",
    "#     print( 'Source path = ', source_path, '; batch size =', batch_size)\n",
    "#     img_idx = [2,4,6,8,10,12,14,16,18,20,22,24,26]\n",
    "#     while True:\n",
    "#         t = np.random.permutation(folder_list)\n",
    "#         num_batches = len(t) // batch_size # calculate the number of batches\n",
    "#         for batch in range(num_batches): # we iterate over the number of batches\n",
    "#             batch_data = np.zeros((batch_size,13,80,80,3)) # x is the number of images you use for each video, (y,z) is the final size of the input images and 3 is the number of channels RGB\n",
    "#             batch_labels = np.zeros((batch_size,5)) # batch_labels is the one hot representation of the output\n",
    "#             for folder in range(batch_size): # iterate over the batch_size\n",
    "#                 imgs = os.listdir(source_path+'/'+ t[folder + (batch*batch_size)].split(';')[0]) # read all the images in the folder\n",
    "#                 for idx,item in enumerate(img_idx): #  Iterate iver the frames/images of a folder to read them in\n",
    "#                     image = imread(source_path+'/'+ t[folder + (batch*batch_size)].strip().split(';')[0]+'/'+imgs[item]).astype(np.float32)\n",
    "                    \n",
    "#                     #crop the images and resize them. Note that the images are of 2 different shape \n",
    "#                     image = resize(image,(80,80)).astype(np.float32)\n",
    "                    \n",
    "#                     #and the conv3D will throw error if the inputs in a batch have different shapes\n",
    "#                     batch_data[folder,idx,:,:,0] = (image[:,:,0])/255 #normalise and feed in the image\n",
    "#                     batch_data[folder,idx,:,:,1] = (image[:,:,1])/255 #normalise and feed in the image\n",
    "#                     batch_data[folder,idx,:,:,2] = (image[:,:,2])/255 #normalise and feed in the image\n",
    "                    \n",
    "#                 batch_labels[folder, int(t[folder + (batch*batch_size)].strip().split(';')[2])] = 1\n",
    "#             yield batch_data, batch_labels #you yield the batch_data and the batch_labels, remember what does yield do\n",
    "\n",
    "        \n",
    "#         # write the code for the remaining data points which are left after full batches\n",
    "#         if len(t) % batch_size != 0:\n",
    "#             batch_data = np.zeros((batch_size,13,80,80,3)) \n",
    "#             batch_labels = np.zeros((batch_size,5)) # batch_labels is the one hot representation of the output\n",
    "#             for folder in range(batch_size): # iterate over the batch_size\n",
    "#                 imgs = os.listdir(source_path+'/'+ t[folder + (batch*batch_size)].split(';')[0]) # read all the images in the folder\n",
    "#                 for idx,item in enumerate(img_idx): #  Iterate iver the frames/images of a folder to read them in\n",
    "#                     image = imread(source_path+'/'+ t[folder + (batch*batch_size)].strip().split(';')[0]+'/'+imgs[item]).astype(np.float32)\n",
    "#                     image = resize(image,(80,80)).astype(np.float32)\n",
    "#                     batch_data[folder,idx,:,:,0] = (image[:,:,0])/255\n",
    "#                     batch_data[folder,idx,:,:,1] = (image[:,:,1])/255\n",
    "#                     batch_data[folder,idx,:,:,2] = (image[:,:,2])/255\n",
    "#                 batch_labels[folder, int(t[folder + (batch*batch_size)].strip().split(';')[2])] = 1 \n",
    "#             yield batch_data, batch_labels #you yield the batch_data and the batch_labels, remember what does yield does    "
   ]
  },
  {
   "cell_type": "markdown",
   "metadata": {},
   "source": [
    "Note here that a video is represented above in the generator as (number of images, height, width, number of channels). Take this into consideration while creating the model architecture."
   ]
  },
  {
   "cell_type": "markdown",
   "metadata": {},
   "source": [
    "## Model\n",
    "Here you make the model using different functionalities that Keras provides. Remember to use `Conv3D` and `MaxPooling3D` and not `Conv2D` and `Maxpooling2D` for a 3D convolution model. You would want to use `TimeDistributed` while building a Conv2D + RNN model. Also remember that the last layer is the softmax. Design the network in such a way that the model is able to give good accuracy on the least number of parameters so that it can fit in the memory of the webcam."
   ]
  },
  {
   "cell_type": "code",
   "execution_count": 71,
   "metadata": {},
   "outputs": [],
   "source": [
    "# from keras.models import Sequential, Model\n",
    "# from keras.layers import Dense, GRU, Flatten, TimeDistributed, Flatten, BatchNormalization, Activation\n",
    "# from keras.layers.convolutional import Conv3D, MaxPooling3D\n",
    "# from keras.callbacks import ModelCheckpoint, ReduceLROnPlateau, EarlyStopping\n",
    "# from keras import optimizers\n",
    "# from keras.layers import Dropout\n",
    "\n",
    "#write your model here\n",
    "# model = Sequential()\n",
    "# model.add(Conv3D(32, (3, 3, 3), padding='same',\n",
    "#          input_shape=(13,80,80,3)))\n",
    "# model.add(Activation('relu'))\n",
    "# model.add(BatchNormalization())\n",
    "# model.add(MaxPooling3D(pool_size=(2, 2, 2)))\n",
    "\n",
    "# model.add(Conv3D(64, (2, 2, 2), padding='same'))\n",
    "# model.add(Activation('relu'))\n",
    "# model.add(BatchNormalization())\n",
    "# model.add(MaxPooling3D(pool_size=(2, 2, 2)))\n",
    "\n",
    "# model.add(Conv3D(128, (2, 2, 2), padding='same'))\n",
    "# model.add(Activation('relu'))\n",
    "# model.add(BatchNormalization())\n",
    "# model.add(MaxPooling3D(pool_size=(2, 2, 2)))\n",
    "\n",
    "# model.add(Flatten())\n",
    "# model.add(Dense(128,activation='relu'))\n",
    "# model.add(BatchNormalization())\n",
    "# model.add(Dropout(0.5))\n",
    "\n",
    "# model.add(Dense(64,activation='relu'))\n",
    "# model.add(BatchNormalization())\n",
    "# model.add(Dropout(0.25))\n",
    "\n",
    "# model.add(Dense(5,activation='softmax'))"
   ]
  },
  {
   "cell_type": "code",
   "execution_count": 72,
   "metadata": {},
   "outputs": [],
   "source": [
    "# optimiser = 'sgd'\n",
    "# model.compile(optimizer=optimiser, loss='categorical_crossentropy', metrics=['categorical_accuracy'])\n",
    "# print (model.summary())"
   ]
  },
  {
   "cell_type": "markdown",
   "metadata": {},
   "source": [
    "Now that you have written the model, the next step is to `compile` the model. When you print the `summary` of the model, you'll see the total number of parameters you have to train."
   ]
  },
  {
   "cell_type": "markdown",
   "metadata": {},
   "source": [
    "Let us create the `train_generator` and the `val_generator` which will be used in `.fit_generator`."
   ]
  },
  {
   "cell_type": "markdown",
   "metadata": {},
   "source": [
    "The `steps_per_epoch` and `validation_steps` are used by `fit_generator` to decide the number of next() calls it need to make."
   ]
  },
  {
   "cell_type": "code",
   "execution_count": 73,
   "metadata": {},
   "outputs": [],
   "source": [
    "project_folder='/datasets/Project_data'"
   ]
  },
  {
   "cell_type": "code",
   "execution_count": 156,
   "metadata": {},
   "outputs": [],
   "source": [
    "import abc\n",
    "from keras.models import Sequential, Model\n",
    "from keras.layers import Dense, GRU, Flatten, TimeDistributed, Flatten, BatchNormalization, Activation\n",
    "from keras.layers.convolutional import Conv3D, MaxPooling3D, Conv2D, MaxPooling2D\n",
    "from keras.callbacks import ModelCheckpoint, ReduceLROnPlateau, EarlyStopping\n",
    "from keras import optimizers\n",
    "from keras.layers import Dropout\n",
    "\n",
    "from keras.preprocessing.image import ImageDataGenerator\n",
    "#from keras.preprocessing.image import smart_resize\n",
    "\n",
    "datagen = ImageDataGenerator(\n",
    "    zoom_range=0.1,\n",
    "    zca_whitening=True,\n",
    "    width_shift_range=0.1,\n",
    "    height_shift_range=0.1)\n",
    "\n",
    "class ModelBuilder(metaclass= abc.ABCMeta):\n",
    "    \n",
    "    def initialize_hyperparams(self,frames_to_sample=30,batch_size=20,num_epochs=20):\n",
    "        self.frames_to_sample=frames_to_sample\n",
    "        self.batch_size=batch_size\n",
    "        self.num_epochs=num_epochs\n",
    "        \n",
    "    def initialize_image_properties(self,image_height=100,image_width=100):\n",
    "        self.image_height=image_height\n",
    "        self.image_width=image_width\n",
    "        self.channels=3\n",
    "        self.num_classes=5\n",
    "        self.total_frames=30\n",
    "    \n",
    "    def initialize_path(self,project_folder):\n",
    "        self.train_doc = np.random.permutation(open(project_folder + '/' + 'train.csv').readlines())\n",
    "        self.val_doc = np.random.permutation(open(project_folder + '/' + 'val.csv').readlines())\n",
    "        self.train_path = project_folder + '/' + 'train'\n",
    "        self.val_path =  project_folder + '/' + 'val'\n",
    "        self.num_train_sequences = len(self.train_doc)\n",
    "        self.num_val_sequences = len(self.val_doc)\n",
    "        \n",
    "    def generator(self,source_path, folder_list, batch_size, augment=False):\n",
    "#         print( 'Source path = ', source_path, '; batch size =', batch_size)\n",
    "    \n",
    "#     img_idx = [2,4,6,8,10,12,14,16,18,20,22,24,26]\n",
    "        img_idx = np.round(np.linspace(0,self.total_frames-1,self.frames_to_sample)).astype(int)\n",
    "        while True:\n",
    "            t = np.random.permutation(folder_list)\n",
    "            num_batches = len(t) // batch_size # calculate the number of batches\n",
    "            for batch in range(num_batches): # we iterate over the number of batches\n",
    "    #             batch_data = np.zeros((batch_size,13,80,80,3)) # x is the number of images you use for each video, (y,z) is the final size of the input images and 3 is the number of channels RGB\n",
    "                batch_data = np.zeros((batch_size,len(img_idx),self.image_height,self.image_width,3)) \n",
    "                batch_labels = np.zeros((batch_size,5)) # batch_labels is the one hot representation of the output\n",
    "\n",
    "                for folder in range(batch_size): # iterate over the batch_size\n",
    "                    imgs = os.listdir(source_path+'/'+ t[folder + (batch*batch_size)].split(';')[0]) # read all the images in the folder\n",
    "                    for idx,item in enumerate(img_idx): #  Iterate iver the frames/images of a folder to read them in\n",
    "                        image = imread(source_path+'/'+ t[folder + (batch*batch_size)].strip().split(';')[0]+'/'+imgs[item]).astype(np.float32)\n",
    "\n",
    "                        #crop the images and resize them. Note that the images are of 2 different shape \n",
    "    #                     image = resize(image,(80,80)).astype(np.float32)\n",
    "                        image = resize(image,(self.image_height,self.image_width)).astype(np.float32)\n",
    "                        \n",
    "                        # Randomly transform few images of few folders; note that folders are randomly shuffled in each epoch too\n",
    "                        if augment:\n",
    "                            if np.random.randn() > 0:\n",
    "                                image = datagen.random_transform(image)  \n",
    "            \n",
    "                        #and the conv3D will throw error if the inputs in a batch have different shapes\n",
    "                        batch_data[folder,idx,:,:,0] = (image[:,:,0])/255 #normalise and feed in the image\n",
    "                        batch_data[folder,idx,:,:,1] = (image[:,:,1])/255 #normalise and feed in the image\n",
    "                        batch_data[folder,idx,:,:,2] = (image[:,:,2])/255 #normalise and feed in the image\n",
    "\n",
    "                    batch_labels[folder, int(t[folder + (batch*batch_size)].strip().split(';')[2])] = 1\n",
    "                yield batch_data, batch_labels #you yield the batch_data and the batch_labels, remember what does yield do\n",
    "\n",
    "        \n",
    "        # write the code for the remaining data points which are left after full batches\n",
    "        if len(t) % batch_size != 0:\n",
    "            \n",
    "#             batch_data = np.zeros((batch_size,13,80,80,3))\n",
    "            batch_data = np.zeros((batch_size,len(img_idx),self.image_height,self.image_width,3))\n",
    "            batch_labels = np.zeros((batch_size,5)) # batch_labels is the one hot representation of the output\n",
    "            for folder in range(batch_size): # iterate over the batch_size\n",
    "                imgs = os.listdir(source_path+'/'+ t[folder + (batch*batch_size)].split(';')[0]) # read all the images in the folder\n",
    "                for idx,item in enumerate(img_idx): #  Iterate iver the frames/images of a folder to read them in\n",
    "                    image = imread(source_path+'/'+ t[folder + (batch*batch_size)].strip().split(';')[0]+'/'+imgs[item]).astype(np.float32)\n",
    "                    image = resize(image,(80,80)).astype(np.float32)\n",
    "                    \n",
    "                    # Randomly transform few images of few folders; note that folders are randomly shuffled in each epoch too\n",
    "                    if augment:\n",
    "                        if np.random.randn() > 0:\n",
    "                            image = datagen.random_transform(image)  \n",
    "                    \n",
    "                    batch_data[folder,idx,:,:,0] = (image[:,:,0])/255\n",
    "                    batch_data[folder,idx,:,:,1] = (image[:,:,1])/255\n",
    "                    batch_data[folder,idx,:,:,2] = (image[:,:,2])/255\n",
    "                batch_labels[folder, int(t[folder + (batch*batch_size)].strip().split(';')[2])] = 1 \n",
    "            yield batch_data, batch_labels #you yield the batch_data and the batch_labels, remember what does yield does \n",
    "\n",
    "\n",
    "    def train_model(self, model, augment_data=False):\n",
    "            train_generator = self.generator(self.train_path, self.train_doc, self.batch_size, augment=augment_data)\n",
    "            val_generator = self.generator(self.val_path, self.val_doc, self.batch_size)\n",
    "\n",
    "            model_name = 'model_init' + '_' + str(datetime.datetime.now()).replace(' ','').replace(':','_') + '/'\n",
    "\n",
    "            if not os.path.exists(model_name):\n",
    "                os.mkdir(model_name)\n",
    "\n",
    "            filepath = model_name + 'model-{epoch:05d}-{loss:.5f}-{categorical_accuracy:.5f}-{val_loss:.5f}-{val_categorical_accuracy:.5f}.h5'\n",
    "\n",
    "            checkpoint = ModelCheckpoint(filepath, monitor='val_loss', verbose=1, save_best_only=True, save_weights_only=False, mode='auto', period=1)\n",
    "            LR = ReduceLROnPlateau(monitor='val_loss', factor=0.2, verbose=1, patience=4)\n",
    "\n",
    "            earlystop = EarlyStopping( monitor=\"val_loss\", min_delta=0, patience=10, verbose=1)\n",
    "            callbacks_list = [checkpoint, LR, earlystop]\n",
    "\n",
    "            if (self.num_train_sequences%self.batch_size) == 0:\n",
    "                steps_per_epoch = int(self.num_train_sequences/self.batch_size)\n",
    "            else:\n",
    "                steps_per_epoch = (self.num_train_sequences//self.batch_size) + 1\n",
    "\n",
    "            if (self.num_val_sequences%self.batch_size) == 0:\n",
    "                validation_steps = int(self.num_val_sequences/self.batch_size)\n",
    "            else:\n",
    "                validation_steps = (self.num_val_sequences//self.batch_size) + 1\n",
    "\n",
    "#             history=model.fit_generator(train_generator, steps_per_epoch=steps_per_epoch, epochs=self.num_epochs, verbose=1, \n",
    "#                                 callbacks=callbacks_list, validation_data=val_generator, \n",
    "#                                 validation_steps=validation_steps, class_weight=None, workers=1, initial_epoch=0)\n",
    "            history = model.fit_generator(train_generator, steps_per_epoch=steps_per_epoch, epochs=self.num_epochs, verbose=1, \n",
    "                callbacks=callbacks_list, validation_data=val_generator, \n",
    "                validation_steps=validation_steps, class_weight=None, workers=1, initial_epoch=0)\n",
    "            return history\n"
   ]
  },
  {
   "cell_type": "markdown",
   "metadata": {},
   "source": [
    "Let us now fit the model. This will start training the model and with the help of the checkpoints, you'll be able to save the model at the end of each epoch."
   ]
  },
  {
   "cell_type": "markdown",
   "metadata": {},
   "source": [
    "## Model 1: Base Model - Image size = (80 x 80). Batch Size = 40 and Epoch= 15"
   ]
  },
  {
   "cell_type": "markdown",
   "metadata": {},
   "source": [
    "Here you make the model using different functionalities that Keras provides. Remember to use Conv3D and MaxPooling3D and not Conv2D and Maxpooling2D for a 3D convolution model. You would want to use TimeDistributed while building a Conv2D + RNN model. Also remember that the last layer is the softmax. Design the network in such a way that the model is able to give good accuracy on the least number of parameters so that it can fit in the memory of the webcam."
   ]
  },
  {
   "cell_type": "code",
   "execution_count": 122,
   "metadata": {},
   "outputs": [],
   "source": [
    "\n",
    "class Model1(ModelBuilder):\n",
    "    \n",
    "    def define_model(self,filtersize=(3,3,3),dense_neurons=64,dropout=0.25):\n",
    "  \n",
    "        model = Sequential()\n",
    "        model.add(Conv3D(32, (3, 3, 3), padding='same',\n",
    "                 input_shape=(self.frames_to_sample,self.image_height,self.image_width,self.channels)))\n",
    "        model.add(Activation('relu'))\n",
    "        model.add(BatchNormalization())\n",
    "        model.add(MaxPooling3D(pool_size=(2, 2, 2)))\n",
    "\n",
    "        model.add(Conv3D(64, (2, 2, 2), padding='same'))\n",
    "        model.add(Activation('relu'))\n",
    "        model.add(BatchNormalization())\n",
    "        model.add(MaxPooling3D(pool_size=(2, 2, 2)))\n",
    "\n",
    "        model.add(Conv3D(128, (2, 2, 2), padding='same'))\n",
    "        model.add(Activation('relu'))\n",
    "        model.add(BatchNormalization())\n",
    "        model.add(MaxPooling3D(pool_size=(2, 2, 2)))\n",
    "\n",
    "        model.add(Flatten())\n",
    "        model.add(Dense(128,activation='relu'))\n",
    "        model.add(BatchNormalization())\n",
    "        model.add(Dropout(dropout))\n",
    "\n",
    "        model.add(Dense(dense_neurons,activation='relu'))\n",
    "        model.add(BatchNormalization())\n",
    "        model.add(Dropout(dropout))\n",
    "\n",
    "        model.add(Dense(5,activation='softmax'))\n",
    "\n",
    "        optimiser = optimiser = 'sgd'\n",
    "        model.compile(optimizer=optimiser, loss='categorical_crossentropy', metrics=['categorical_accuracy'])\n",
    "        return model"
   ]
  },
  {
   "cell_type": "code",
   "execution_count": 123,
   "metadata": {},
   "outputs": [
    {
     "name": "stdout",
     "output_type": "stream",
     "text": [
      "Model: \"sequential_14\"\n",
      "_________________________________________________________________\n",
      " Layer (type)                Output Shape              Param #   \n",
      "=================================================================\n",
      " conv3d_42 (Conv3D)          (None, 13, 80, 80, 32)    2624      \n",
      "                                                                 \n",
      " activation_42 (Activation)  (None, 13, 80, 80, 32)    0         \n",
      "                                                                 \n",
      " batch_normalization_70 (Bat  (None, 13, 80, 80, 32)   128       \n",
      " chNormalization)                                                \n",
      "                                                                 \n",
      " max_pooling3d_42 (MaxPoolin  (None, 6, 40, 40, 32)    0         \n",
      " g3D)                                                            \n",
      "                                                                 \n",
      " conv3d_43 (Conv3D)          (None, 6, 40, 40, 64)     16448     \n",
      "                                                                 \n",
      " activation_43 (Activation)  (None, 6, 40, 40, 64)     0         \n",
      "                                                                 \n",
      " batch_normalization_71 (Bat  (None, 6, 40, 40, 64)    256       \n",
      " chNormalization)                                                \n",
      "                                                                 \n",
      " max_pooling3d_43 (MaxPoolin  (None, 3, 20, 20, 64)    0         \n",
      " g3D)                                                            \n",
      "                                                                 \n",
      " conv3d_44 (Conv3D)          (None, 3, 20, 20, 128)    65664     \n",
      "                                                                 \n",
      " activation_44 (Activation)  (None, 3, 20, 20, 128)    0         \n",
      "                                                                 \n",
      " batch_normalization_72 (Bat  (None, 3, 20, 20, 128)   512       \n",
      " chNormalization)                                                \n",
      "                                                                 \n",
      " max_pooling3d_44 (MaxPoolin  (None, 1, 10, 10, 128)   0         \n",
      " g3D)                                                            \n",
      "                                                                 \n",
      " flatten_14 (Flatten)        (None, 12800)             0         \n",
      "                                                                 \n",
      " dense_42 (Dense)            (None, 128)               1638528   \n",
      "                                                                 \n",
      " batch_normalization_73 (Bat  (None, 128)              512       \n",
      " chNormalization)                                                \n",
      "                                                                 \n",
      " dropout_28 (Dropout)        (None, 128)               0         \n",
      "                                                                 \n",
      " dense_43 (Dense)            (None, 64)                8256      \n",
      "                                                                 \n",
      " batch_normalization_74 (Bat  (None, 64)               256       \n",
      " chNormalization)                                                \n",
      "                                                                 \n",
      " dropout_29 (Dropout)        (None, 64)                0         \n",
      "                                                                 \n",
      " dense_44 (Dense)            (None, 5)                 325       \n",
      "                                                                 \n",
      "=================================================================\n",
      "Total params: 1,733,509\n",
      "Trainable params: 1,732,677\n",
      "Non-trainable params: 832\n",
      "_________________________________________________________________\n"
     ]
    }
   ],
   "source": [
    "conv_model1_obj=Model1()\n",
    "conv_model1_obj.initialize_path(project_folder)\n",
    "conv_model1_obj.initialize_image_properties(image_height=80,image_width=80)\n",
    "conv_model1_obj.initialize_hyperparams(frames_to_sample=13,batch_size=40,num_epochs=15)\n",
    "conv_model1_model=conv_model1_obj.define_model()\n",
    "conv_model1_model.summary()"
   ]
  },
  {
   "cell_type": "code",
   "execution_count": 124,
   "metadata": {},
   "outputs": [
    {
     "name": "stdout",
     "output_type": "stream",
     "text": [
      "Total Params: 1733509\n"
     ]
    }
   ],
   "source": [
    "print(\"Total Params:\", conv_model1_model.count_params())"
   ]
  },
  {
   "cell_type": "code",
   "execution_count": 118,
   "metadata": {},
   "outputs": [
    {
     "name": "stdout",
     "output_type": "stream",
     "text": [
      "WARNING:tensorflow:`period` argument is deprecated. Please use `save_freq` to specify the frequency in number of batches seen.\n",
      "Epoch 1/5\n",
      "17/17 [==============================] - ETA: 0s - loss: 1.6731 - categorical_accuracy: 0.3971\n",
      "Epoch 00001: val_loss improved from inf to 1.57510, saving model to model_init_2025-01-2819_33_28.112901/model-00001-1.67308-0.39706-1.57510-0.24167.h5\n",
      "17/17 [==============================] - 75s 5s/step - loss: 1.6731 - categorical_accuracy: 0.3971 - val_loss: 1.5751 - val_categorical_accuracy: 0.2417 - lr: 0.0100\n",
      "Epoch 2/5\n",
      "17/17 [==============================] - ETA: 0s - loss: 1.0754 - categorical_accuracy: 0.5750\n",
      "Epoch 00002: val_loss did not improve from 1.57510\n",
      "17/17 [==============================] - 75s 5s/step - loss: 1.0754 - categorical_accuracy: 0.5750 - val_loss: 1.7046 - val_categorical_accuracy: 0.1500 - lr: 0.0100\n",
      "Epoch 3/5\n",
      "17/17 [==============================] - ETA: 0s - loss: 0.7882 - categorical_accuracy: 0.6868\n",
      "Epoch 00003: val_loss did not improve from 1.57510\n",
      "17/17 [==============================] - 75s 5s/step - loss: 0.7882 - categorical_accuracy: 0.6868 - val_loss: 2.0719 - val_categorical_accuracy: 0.1500 - lr: 0.0100\n",
      "Epoch 4/5\n",
      "17/17 [==============================] - ETA: 0s - loss: 0.6130 - categorical_accuracy: 0.7926\n",
      "Epoch 00004: val_loss did not improve from 1.57510\n",
      "17/17 [==============================] - 73s 5s/step - loss: 0.6130 - categorical_accuracy: 0.7926 - val_loss: 2.3538 - val_categorical_accuracy: 0.1833 - lr: 0.0100\n",
      "Epoch 5/5\n",
      "17/17 [==============================] - ETA: 0s - loss: 0.4628 - categorical_accuracy: 0.8309\n",
      "Epoch 00005: val_loss did not improve from 1.57510\n",
      "\n",
      "Epoch 00005: ReduceLROnPlateau reducing learning rate to 0.0019999999552965165.\n",
      "17/17 [==============================] - 73s 5s/step - loss: 0.4628 - categorical_accuracy: 0.8309 - val_loss: 2.8963 - val_categorical_accuracy: 0.1833 - lr: 0.0100\n"
     ]
    }
   ],
   "source": [
    "training_output_model1 = conv_model1_obj.train_model(conv_model1_model)"
   ]
  },
  {
   "cell_type": "code",
   "execution_count": 120,
   "metadata": {},
   "outputs": [
    {
     "data": {
      "image/png": "[encoded data removed]",
      "text/plain": [
       "<Figure size 1080x288 with 2 Axes>"
      ]
     },
     "metadata": {
      "needs_background": "light"
     },
     "output_type": "display_data"
    }
   ],
   "source": [
    "plot(training_output_model1)"
   ]
  },
  {
   "cell_type": "markdown",
   "metadata": {},
   "source": [
    "Our model is seemingly overfitting."
   ]
  },
  {
   "cell_type": "markdown",
   "metadata": {},
   "source": [
    "## Model 2: Increase the Batch size to 64 and Epochs to 20. Also increase the image resolution to 120\n"
   ]
  },
  {
   "cell_type": "markdown",
   "metadata": {},
   "source": [
    "In above model we see the validation accuracy is varing wildly. Adding more epochs may give the stable validation accuracy. Before doing that we would try what effect batch_size of 64 have on the model. For this model we will try batch_zise and 64"
   ]
  },
  {
   "cell_type": "code",
   "execution_count": 127,
   "metadata": {},
   "outputs": [],
   "source": [
    "\n",
    "class Model2(ModelBuilder):\n",
    "    \n",
    "    def define_model(self,filtersize=(3,3,3),dense_neurons=64,dropout=0.25):\n",
    "  \n",
    "        model = Sequential()\n",
    "        model.add(Conv3D(32, (3, 3, 3), padding='same',\n",
    "                 input_shape=(self.frames_to_sample,self.image_height,self.image_width,self.channels)))\n",
    "        model.add(Activation('relu'))\n",
    "        model.add(BatchNormalization())\n",
    "        model.add(MaxPooling3D(pool_size=(2, 2, 2)))\n",
    "\n",
    "        model.add(Conv3D(64, (2, 2, 2), padding='same'))\n",
    "        model.add(Activation('relu'))\n",
    "        model.add(BatchNormalization())\n",
    "        model.add(MaxPooling3D(pool_size=(2, 2, 2)))\n",
    "\n",
    "        model.add(Conv3D(128, (2, 2, 2), padding='same'))\n",
    "        model.add(Activation('relu'))\n",
    "        model.add(BatchNormalization())\n",
    "        model.add(MaxPooling3D(pool_size=(2, 2, 2)))\n",
    "\n",
    "        model.add(Flatten())\n",
    "        model.add(Dense(128,activation='relu'))\n",
    "        model.add(BatchNormalization())\n",
    "        model.add(Dropout(dropout))\n",
    "\n",
    "        model.add(Dense(dense_neurons,activation='relu'))\n",
    "        model.add(BatchNormalization())\n",
    "        model.add(Dropout(dropout))\n",
    "\n",
    "        model.add(Dense(5,activation='softmax'))\n",
    "\n",
    "        optimiser = optimiser = 'sgd'\n",
    "        model.compile(optimizer=optimiser, loss='categorical_crossentropy', metrics=['categorical_accuracy'])\n",
    "        return model"
   ]
  },
  {
   "cell_type": "code",
   "execution_count": 128,
   "metadata": {},
   "outputs": [
    {
     "name": "stdout",
     "output_type": "stream",
     "text": [
      "Model: \"sequential_16\"\n",
      "_________________________________________________________________\n",
      " Layer (type)                Output Shape              Param #   \n",
      "=================================================================\n",
      " conv3d_48 (Conv3D)          (None, 13, 120, 120, 32)  2624      \n",
      "                                                                 \n",
      " activation_48 (Activation)  (None, 13, 120, 120, 32)  0         \n",
      "                                                                 \n",
      " batch_normalization_80 (Bat  (None, 13, 120, 120, 32)  128      \n",
      " chNormalization)                                                \n",
      "                                                                 \n",
      " max_pooling3d_48 (MaxPoolin  (None, 6, 60, 60, 32)    0         \n",
      " g3D)                                                            \n",
      "                                                                 \n",
      " conv3d_49 (Conv3D)          (None, 6, 60, 60, 64)     16448     \n",
      "                                                                 \n",
      " activation_49 (Activation)  (None, 6, 60, 60, 64)     0         \n",
      "                                                                 \n",
      " batch_normalization_81 (Bat  (None, 6, 60, 60, 64)    256       \n",
      " chNormalization)                                                \n",
      "                                                                 \n",
      " max_pooling3d_49 (MaxPoolin  (None, 3, 30, 30, 64)    0         \n",
      " g3D)                                                            \n",
      "                                                                 \n",
      " conv3d_50 (Conv3D)          (None, 3, 30, 30, 128)    65664     \n",
      "                                                                 \n",
      " activation_50 (Activation)  (None, 3, 30, 30, 128)    0         \n",
      "                                                                 \n",
      " batch_normalization_82 (Bat  (None, 3, 30, 30, 128)   512       \n",
      " chNormalization)                                                \n",
      "                                                                 \n",
      " max_pooling3d_50 (MaxPoolin  (None, 1, 15, 15, 128)   0         \n",
      " g3D)                                                            \n",
      "                                                                 \n",
      " flatten_16 (Flatten)        (None, 28800)             0         \n",
      "                                                                 \n",
      " dense_48 (Dense)            (None, 128)               3686528   \n",
      "                                                                 \n",
      " batch_normalization_83 (Bat  (None, 128)              512       \n",
      " chNormalization)                                                \n",
      "                                                                 \n",
      " dropout_32 (Dropout)        (None, 128)               0         \n",
      "                                                                 \n",
      " dense_49 (Dense)            (None, 64)                8256      \n",
      "                                                                 \n",
      " batch_normalization_84 (Bat  (None, 64)               256       \n",
      " chNormalization)                                                \n",
      "                                                                 \n",
      " dropout_33 (Dropout)        (None, 64)                0         \n",
      "                                                                 \n",
      " dense_50 (Dense)            (None, 5)                 325       \n",
      "                                                                 \n",
      "=================================================================\n",
      "Total params: 3,781,509\n",
      "Trainable params: 3,780,677\n",
      "Non-trainable params: 832\n",
      "_________________________________________________________________\n"
     ]
    }
   ],
   "source": [
    "conv_model2_obj=Model2()\n",
    "conv_model2_obj.initialize_path(project_folder)\n",
    "conv_model2_obj.initialize_image_properties(image_height=120,image_width=120)\n",
    "conv_model2_obj.initialize_hyperparams(frames_to_sample=13,batch_size=64,num_epochs=20)\n",
    "conv_model2_model=conv_model2_obj.define_model()\n",
    "conv_model2_model.summary()"
   ]
  },
  {
   "cell_type": "code",
   "execution_count": 129,
   "metadata": {},
   "outputs": [
    {
     "name": "stdout",
     "output_type": "stream",
     "text": [
      "Total Params: 3781509\n"
     ]
    }
   ],
   "source": [
    "print(\"Total Params:\", conv_model2_model.count_params())"
   ]
  },
  {
   "cell_type": "code",
   "execution_count": 130,
   "metadata": {},
   "outputs": [
    {
     "name": "stdout",
     "output_type": "stream",
     "text": [
      "WARNING:tensorflow:`period` argument is deprecated. Please use `save_freq` to specify the frequency in number of batches seen.\n",
      "Epoch 1/20\n",
      "11/11 [==============================] - ETA: 0s - loss: 1.5387 - categorical_accuracy: 0.4702\n",
      "Epoch 00001: val_loss improved from inf to 1.59490, saving model to model_init_2025-01-2819_51_12.870779/model-00001-1.53871-0.47017-1.59490-0.22656.h5\n",
      "11/11 [==============================] - 81s 8s/step - loss: 1.5387 - categorical_accuracy: 0.4702 - val_loss: 1.5949 - val_categorical_accuracy: 0.2266 - lr: 0.0100\n",
      "Epoch 2/20\n",
      "11/11 [==============================] - ETA: 0s - loss: 0.9710 - categorical_accuracy: 0.6278\n",
      "Epoch 00002: val_loss did not improve from 1.59490\n",
      "11/11 [==============================] - 78s 8s/step - loss: 0.9710 - categorical_accuracy: 0.6278 - val_loss: 1.7473 - val_categorical_accuracy: 0.2344 - lr: 0.0100\n",
      "Epoch 3/20\n",
      "11/11 [==============================] - ETA: 0s - loss: 0.5936 - categorical_accuracy: 0.7912\n",
      "Epoch 00003: val_loss did not improve from 1.59490\n",
      "11/11 [==============================] - 81s 8s/step - loss: 0.5936 - categorical_accuracy: 0.7912 - val_loss: 2.1914 - val_categorical_accuracy: 0.2031 - lr: 0.0100\n",
      "Epoch 4/20\n",
      "11/11 [==============================] - ETA: 0s - loss: 0.4663 - categorical_accuracy: 0.8423\n",
      "Epoch 00004: val_loss did not improve from 1.59490\n",
      "11/11 [==============================] - 79s 8s/step - loss: 0.4663 - categorical_accuracy: 0.8423 - val_loss: 2.8605 - val_categorical_accuracy: 0.2031 - lr: 0.0100\n",
      "Epoch 5/20\n",
      "11/11 [==============================] - ETA: 0s - loss: 0.3432 - categorical_accuracy: 0.8920\n",
      "Epoch 00005: val_loss did not improve from 1.59490\n",
      "\n",
      "Epoch 00005: ReduceLROnPlateau reducing learning rate to 0.0019999999552965165.\n",
      "11/11 [==============================] - 82s 8s/step - loss: 0.3432 - categorical_accuracy: 0.8920 - val_loss: 3.4086 - val_categorical_accuracy: 0.1953 - lr: 0.0100\n",
      "Epoch 6/20\n",
      "11/11 [==============================] - ETA: 0s - loss: 0.2957 - categorical_accuracy: 0.9119\n",
      "Epoch 00006: val_loss did not improve from 1.59490\n",
      "11/11 [==============================] - 78s 8s/step - loss: 0.2957 - categorical_accuracy: 0.9119 - val_loss: 4.0307 - val_categorical_accuracy: 0.1641 - lr: 0.0020\n",
      "Epoch 7/20\n",
      "11/11 [==============================] - ETA: 0s - loss: 0.2467 - categorical_accuracy: 0.9276\n",
      "Epoch 00007: val_loss did not improve from 1.59490\n",
      "11/11 [==============================] - 76s 8s/step - loss: 0.2467 - categorical_accuracy: 0.9276 - val_loss: 4.4123 - val_categorical_accuracy: 0.2109 - lr: 0.0020\n",
      "Epoch 8/20\n",
      "11/11 [==============================] - ETA: 0s - loss: 0.2203 - categorical_accuracy: 0.9489\n",
      "Epoch 00008: val_loss did not improve from 1.59490\n",
      "11/11 [==============================] - 78s 8s/step - loss: 0.2203 - categorical_accuracy: 0.9489 - val_loss: 4.5632 - val_categorical_accuracy: 0.2734 - lr: 0.0020\n",
      "Epoch 9/20\n",
      "11/11 [==============================] - ETA: 0s - loss: 0.2250 - categorical_accuracy: 0.9531\n",
      "Epoch 00009: val_loss did not improve from 1.59490\n",
      "\n",
      "Epoch 00009: ReduceLROnPlateau reducing learning rate to 0.0003999999724328518.\n",
      "11/11 [==============================] - 77s 8s/step - loss: 0.2250 - categorical_accuracy: 0.9531 - val_loss: 5.2371 - val_categorical_accuracy: 0.2188 - lr: 0.0020\n",
      "Epoch 10/20\n",
      "11/11 [==============================] - ETA: 0s - loss: 0.2069 - categorical_accuracy: 0.9545\n",
      "Epoch 00010: val_loss did not improve from 1.59490\n",
      "11/11 [==============================] - 78s 8s/step - loss: 0.2069 - categorical_accuracy: 0.9545 - val_loss: 5.2774 - val_categorical_accuracy: 0.2266 - lr: 4.0000e-04\n",
      "Epoch 11/20\n",
      "11/11 [==============================] - ETA: 0s - loss: 0.1942 - categorical_accuracy: 0.9645\n",
      "Epoch 00011: val_loss did not improve from 1.59490\n",
      "11/11 [==============================] - 79s 8s/step - loss: 0.1942 - categorical_accuracy: 0.9645 - val_loss: 5.5245 - val_categorical_accuracy: 0.2344 - lr: 4.0000e-04\n",
      "Epoch 00011: early stopping\n"
     ]
    }
   ],
   "source": [
    "training_output_model2 = conv_model2_obj.train_model(conv_model2_model)"
   ]
  },
  {
   "cell_type": "code",
   "execution_count": 139,
   "metadata": {},
   "outputs": [
    {
     "data": {
      "image/png": "[encoded data removed]",
      "text/plain": [
       "<Figure size 1080x288 with 2 Axes>"
      ]
     },
     "metadata": {
      "needs_background": "light"
     },
     "output_type": "display_data"
    }
   ],
   "source": [
    "plot(training_output_model2)"
   ]
  },
  {
   "cell_type": "markdown",
   "metadata": {},
   "source": [
    "## Model 3: Data Augmentation and frames_per_sample 20"
   ]
  },
  {
   "cell_type": "code",
   "execution_count": 143,
   "metadata": {},
   "outputs": [],
   "source": [
    "\n",
    "class Model3(ModelBuilder):\n",
    "    \n",
    "    def define_model(self,filtersize=(3,3,3),dense_neurons=64,dropout=0.25):\n",
    "  \n",
    "        model = Sequential()\n",
    "        model.add(Conv3D(32, (3, 3, 3), padding='same',\n",
    "                 input_shape=(self.frames_to_sample,self.image_height,self.image_width,self.channels)))\n",
    "        model.add(Activation('relu'))\n",
    "        model.add(BatchNormalization())\n",
    "        model.add(MaxPooling3D(pool_size=(2, 2, 2)))\n",
    "\n",
    "        model.add(Conv3D(64, (2, 2, 2), padding='same'))\n",
    "        model.add(Activation('relu'))\n",
    "        model.add(BatchNormalization())\n",
    "        model.add(MaxPooling3D(pool_size=(2, 2, 2)))\n",
    "\n",
    "        model.add(Conv3D(128, (2, 2, 2), padding='same'))\n",
    "        model.add(Activation('relu'))\n",
    "        model.add(BatchNormalization())\n",
    "        model.add(MaxPooling3D(pool_size=(2, 2, 2)))\n",
    "\n",
    "        model.add(Flatten())\n",
    "        model.add(Dense(128,activation='relu'))\n",
    "        model.add(BatchNormalization())\n",
    "        model.add(Dropout(dropout))\n",
    "\n",
    "        model.add(Dense(dense_neurons,activation='relu'))\n",
    "        model.add(BatchNormalization())\n",
    "        model.add(Dropout(dropout))\n",
    "\n",
    "        model.add(Dense(5,activation='softmax'))\n",
    "\n",
    "        optimiser = optimiser = 'sgd'\n",
    "        model.compile(optimizer=optimiser, loss='categorical_crossentropy', metrics=['categorical_accuracy'])\n",
    "        return model"
   ]
  },
  {
   "cell_type": "code",
   "execution_count": 144,
   "metadata": {},
   "outputs": [
    {
     "name": "stdout",
     "output_type": "stream",
     "text": [
      "Model: \"sequential_21\"\n",
      "_________________________________________________________________\n",
      " Layer (type)                Output Shape              Param #   \n",
      "=================================================================\n",
      " conv3d_63 (Conv3D)          (None, 20, 120, 120, 32)  2624      \n",
      "                                                                 \n",
      " activation_63 (Activation)  (None, 20, 120, 120, 32)  0         \n",
      "                                                                 \n",
      " batch_normalization_105 (Ba  (None, 20, 120, 120, 32)  128      \n",
      " tchNormalization)                                               \n",
      "                                                                 \n",
      " max_pooling3d_63 (MaxPoolin  (None, 10, 60, 60, 32)   0         \n",
      " g3D)                                                            \n",
      "                                                                 \n",
      " conv3d_64 (Conv3D)          (None, 10, 60, 60, 64)    16448     \n",
      "                                                                 \n",
      " activation_64 (Activation)  (None, 10, 60, 60, 64)    0         \n",
      "                                                                 \n",
      " batch_normalization_106 (Ba  (None, 10, 60, 60, 64)   256       \n",
      " tchNormalization)                                               \n",
      "                                                                 \n",
      " max_pooling3d_64 (MaxPoolin  (None, 5, 30, 30, 64)    0         \n",
      " g3D)                                                            \n",
      "                                                                 \n",
      " conv3d_65 (Conv3D)          (None, 5, 30, 30, 128)    65664     \n",
      "                                                                 \n",
      " activation_65 (Activation)  (None, 5, 30, 30, 128)    0         \n",
      "                                                                 \n",
      " batch_normalization_107 (Ba  (None, 5, 30, 30, 128)   512       \n",
      " tchNormalization)                                               \n",
      "                                                                 \n",
      " max_pooling3d_65 (MaxPoolin  (None, 2, 15, 15, 128)   0         \n",
      " g3D)                                                            \n",
      "                                                                 \n",
      " flatten_21 (Flatten)        (None, 57600)             0         \n",
      "                                                                 \n",
      " dense_63 (Dense)            (None, 128)               7372928   \n",
      "                                                                 \n",
      " batch_normalization_108 (Ba  (None, 128)              512       \n",
      " tchNormalization)                                               \n",
      "                                                                 \n",
      " dropout_42 (Dropout)        (None, 128)               0         \n",
      "                                                                 \n",
      " dense_64 (Dense)            (None, 64)                8256      \n",
      "                                                                 \n",
      " batch_normalization_109 (Ba  (None, 64)               256       \n",
      " tchNormalization)                                               \n",
      "                                                                 \n",
      " dropout_43 (Dropout)        (None, 64)                0         \n",
      "                                                                 \n",
      " dense_65 (Dense)            (None, 5)                 325       \n",
      "                                                                 \n",
      "=================================================================\n",
      "Total params: 7,467,909\n",
      "Trainable params: 7,467,077\n",
      "Non-trainable params: 832\n",
      "_________________________________________________________________\n"
     ]
    }
   ],
   "source": [
    "conv_model3_obj=Model3()\n",
    "conv_model3_obj.initialize_path(project_folder)\n",
    "conv_model3_obj.initialize_image_properties(image_height=120,image_width=120)\n",
    "conv_model3_obj.initialize_hyperparams(frames_to_sample=20,batch_size=64,num_epochs=15)\n",
    "conv_model3_model=conv_model3_obj.define_model()\n",
    "conv_model3_model.summary()"
   ]
  },
  {
   "cell_type": "code",
   "execution_count": 145,
   "metadata": {},
   "outputs": [
    {
     "name": "stdout",
     "output_type": "stream",
     "text": [
      "Total Params: 7467909\n"
     ]
    }
   ],
   "source": [
    "print(\"Total Params:\", conv_model3_model.count_params())"
   ]
  },
  {
   "cell_type": "code",
   "execution_count": 149,
   "metadata": {},
   "outputs": [
    {
     "name": "stdout",
     "output_type": "stream",
     "text": [
      "WARNING:tensorflow:`period` argument is deprecated. Please use `save_freq` to specify the frequency in number of batches seen.\n",
      "Epoch 1/15\n",
      "11/11 [==============================] - ETA: 0s - loss: 1.6070 - categorical_accuracy: 0.4205 \n",
      "Epoch 00001: val_loss improved from inf to 1.64988, saving model to model_init_2025-01-2820_33_44.740223/model-00001-1.60700-0.42045-1.64988-0.30469.h5\n",
      "11/11 [==============================] - 148s 15s/step - loss: 1.6070 - categorical_accuracy: 0.4205 - val_loss: 1.6499 - val_categorical_accuracy: 0.3047 - lr: 0.0100\n",
      "Epoch 2/15\n",
      "11/11 [==============================] - ETA: 0s - loss: 1.0145 - categorical_accuracy: 0.6207 \n",
      "Epoch 00002: val_loss did not improve from 1.64988\n",
      "11/11 [==============================] - 136s 14s/step - loss: 1.0145 - categorical_accuracy: 0.6207 - val_loss: 2.0183 - val_categorical_accuracy: 0.1406 - lr: 0.0100\n",
      "Epoch 3/15\n",
      "11/11 [==============================] - ETA: 0s - loss: 0.8197 - categorical_accuracy: 0.6903 \n",
      "Epoch 00003: val_loss did not improve from 1.64988\n",
      "11/11 [==============================] - 136s 14s/step - loss: 0.8197 - categorical_accuracy: 0.6903 - val_loss: 2.6791 - val_categorical_accuracy: 0.1562 - lr: 0.0100\n",
      "Epoch 4/15\n",
      "11/11 [==============================] - ETA: 0s - loss: 0.7292 - categorical_accuracy: 0.7386 \n",
      "Epoch 00004: val_loss did not improve from 1.64988\n",
      "11/11 [==============================] - 139s 14s/step - loss: 0.7292 - categorical_accuracy: 0.7386 - val_loss: 3.8265 - val_categorical_accuracy: 0.1406 - lr: 0.0100\n",
      "Epoch 5/15\n",
      "11/11 [==============================] - ETA: 0s - loss: 0.5579 - categorical_accuracy: 0.7827 \n",
      "Epoch 00005: val_loss did not improve from 1.64988\n",
      "\n",
      "Epoch 00005: ReduceLROnPlateau reducing learning rate to 0.0019999999552965165.\n",
      "11/11 [==============================] - 132s 13s/step - loss: 0.5579 - categorical_accuracy: 0.7827 - val_loss: 4.4640 - val_categorical_accuracy: 0.1797 - lr: 0.0100\n",
      "Epoch 6/15\n",
      "11/11 [==============================] - ETA: 0s - loss: 0.4847 - categorical_accuracy: 0.8295 \n",
      "Epoch 00006: val_loss did not improve from 1.64988\n",
      "11/11 [==============================] - 137s 14s/step - loss: 0.4847 - categorical_accuracy: 0.8295 - val_loss: 4.8317 - val_categorical_accuracy: 0.1641 - lr: 0.0020\n",
      "Epoch 7/15\n",
      "11/11 [==============================] - ETA: 0s - loss: 0.4816 - categorical_accuracy: 0.8366 \n",
      "Epoch 00007: val_loss did not improve from 1.64988\n",
      "11/11 [==============================] - 137s 14s/step - loss: 0.4816 - categorical_accuracy: 0.8366 - val_loss: 5.2854 - val_categorical_accuracy: 0.1562 - lr: 0.0020\n",
      "Epoch 8/15\n",
      "11/11 [==============================] - ETA: 0s - loss: 0.4163 - categorical_accuracy: 0.8608 \n",
      "Epoch 00008: val_loss did not improve from 1.64988\n",
      "11/11 [==============================] - 136s 14s/step - loss: 0.4163 - categorical_accuracy: 0.8608 - val_loss: 5.8051 - val_categorical_accuracy: 0.1953 - lr: 0.0020\n",
      "Epoch 9/15\n",
      "11/11 [==============================] - ETA: 0s - loss: 0.3676 - categorical_accuracy: 0.8807 \n",
      "Epoch 00009: val_loss did not improve from 1.64988\n",
      "\n",
      "Epoch 00009: ReduceLROnPlateau reducing learning rate to 0.0003999999724328518.\n",
      "11/11 [==============================] - 135s 13s/step - loss: 0.3676 - categorical_accuracy: 0.8807 - val_loss: 6.3204 - val_categorical_accuracy: 0.1719 - lr: 0.0020\n",
      "Epoch 10/15\n",
      "11/11 [==============================] - ETA: 0s - loss: 0.4220 - categorical_accuracy: 0.8509 \n",
      "Epoch 00010: val_loss did not improve from 1.64988\n",
      "11/11 [==============================] - 135s 13s/step - loss: 0.4220 - categorical_accuracy: 0.8509 - val_loss: 6.7779 - val_categorical_accuracy: 0.2344 - lr: 4.0000e-04\n",
      "Epoch 11/15\n",
      "11/11 [==============================] - ETA: 0s - loss: 0.3722 - categorical_accuracy: 0.8707 \n",
      "Epoch 00011: val_loss did not improve from 1.64988\n",
      "11/11 [==============================] - 136s 14s/step - loss: 0.3722 - categorical_accuracy: 0.8707 - val_loss: 6.8608 - val_categorical_accuracy: 0.2422 - lr: 4.0000e-04\n",
      "Epoch 00011: early stopping\n"
     ]
    }
   ],
   "source": [
    "training_output_model3 = conv_model3_obj.train_model(conv_model3_model, augment_data=True)"
   ]
  },
  {
   "cell_type": "code",
   "execution_count": 150,
   "metadata": {},
   "outputs": [
    {
     "data": {
      "image/png": "[encoded data removed]",
      "text/plain": [
       "<Figure size 1080x288 with 2 Axes>"
      ]
     },
     "metadata": {
      "needs_background": "light"
     },
     "output_type": "display_data"
    }
   ],
   "source": [
    "plot(training_output_model3)"
   ]
  },
  {
   "cell_type": "markdown",
   "metadata": {},
   "source": [
    "## Model 4: Changing the filter size to (2x2x2). Maintaining the Image Resolution at 120x120 and increase Frames_per_sample 20\n"
   ]
  },
  {
   "cell_type": "markdown",
   "metadata": {},
   "source": []
  },
  {
   "cell_type": "code",
   "execution_count": null,
   "metadata": {},
   "outputs": [],
   "source": [
    "\n",
    "class Model4(ModelBuilder):\n",
    "    \n",
    "    def define_model(self,filtersize=(2,2,2),dense_neurons=64,dropout=0.25):\n",
    "  \n",
    "        model = Sequential()\n",
    "        model.add(Conv3D(32, (3, 3, 3), padding='same',\n",
    "                 input_shape=(self.frames_to_sample,self.image_height,self.image_width,self.channels)))\n",
    "        model.add(Activation('relu'))\n",
    "        model.add(BatchNormalization())\n",
    "        model.add(MaxPooling3D(pool_size=(2, 2, 2)))\n",
    "\n",
    "        model.add(Conv3D(64, (2, 2, 2), padding='same'))\n",
    "        model.add(Activation('relu'))\n",
    "        model.add(BatchNormalization())\n",
    "        model.add(MaxPooling3D(pool_size=(2, 2, 2)))\n",
    "\n",
    "        model.add(Conv3D(128, (2, 2, 2), padding='same'))\n",
    "        model.add(Activation('relu'))\n",
    "        model.add(BatchNormalization())\n",
    "        model.add(MaxPooling3D(pool_size=(2, 2, 2)))\n",
    "\n",
    "        model.add(Flatten())\n",
    "        model.add(Dense(128,activation='relu'))\n",
    "        model.add(BatchNormalization())\n",
    "        model.add(Dropout(dropout))\n",
    "\n",
    "        model.add(Dense(dense_neurons,activation='relu'))\n",
    "        model.add(BatchNormalization())\n",
    "        model.add(Dropout(dropout))\n",
    "\n",
    "        model.add(Dense(5,activation='softmax'))\n",
    "\n",
    "        optimiser = optimiser = 'sgd'\n",
    "        model.compile(optimizer=optimiser, loss='categorical_crossentropy', metrics=['categorical_accuracy'])\n",
    "        return model"
   ]
  },
  {
   "cell_type": "code",
   "execution_count": null,
   "metadata": {},
   "outputs": [
    {
     "name": "stdout",
     "output_type": "stream",
     "text": [
      "Model: \"sequential_19\"\n",
      "_________________________________________________________________\n",
      " Layer (type)                Output Shape              Param #   \n",
      "=================================================================\n",
      " conv3d_57 (Conv3D)          (None, 13, 120, 120, 32)  2624      \n",
      "                                                                 \n",
      " activation_57 (Activation)  (None, 13, 120, 120, 32)  0         \n",
      "                                                                 \n",
      " batch_normalization_95 (Bat  (None, 13, 120, 120, 32)  128      \n",
      " chNormalization)                                                \n",
      "                                                                 \n",
      " max_pooling3d_57 (MaxPoolin  (None, 6, 60, 60, 32)    0         \n",
      " g3D)                                                            \n",
      "                                                                 \n",
      " conv3d_58 (Conv3D)          (None, 6, 60, 60, 64)     16448     \n",
      "                                                                 \n",
      " activation_58 (Activation)  (None, 6, 60, 60, 64)     0         \n",
      "                                                                 \n",
      " batch_normalization_96 (Bat  (None, 6, 60, 60, 64)    256       \n",
      " chNormalization)                                                \n",
      "                                                                 \n",
      " max_pooling3d_58 (MaxPoolin  (None, 3, 30, 30, 64)    0         \n",
      " g3D)                                                            \n",
      "                                                                 \n",
      " conv3d_59 (Conv3D)          (None, 3, 30, 30, 128)    65664     \n",
      "                                                                 \n",
      " activation_59 (Activation)  (None, 3, 30, 30, 128)    0         \n",
      "                                                                 \n",
      " batch_normalization_97 (Bat  (None, 3, 30, 30, 128)   512       \n",
      " chNormalization)                                                \n",
      "                                                                 \n",
      " max_pooling3d_59 (MaxPoolin  (None, 1, 15, 15, 128)   0         \n",
      " g3D)                                                            \n",
      "                                                                 \n",
      " flatten_19 (Flatten)        (None, 28800)             0         \n",
      "                                                                 \n",
      " dense_57 (Dense)            (None, 128)               3686528   \n",
      "                                                                 \n",
      " batch_normalization_98 (Bat  (None, 128)              512       \n",
      " chNormalization)                                                \n",
      "                                                                 \n",
      " dropout_38 (Dropout)        (None, 128)               0         \n",
      "                                                                 \n",
      " dense_58 (Dense)            (None, 64)                8256      \n",
      "                                                                 \n",
      " batch_normalization_99 (Bat  (None, 64)               256       \n",
      " chNormalization)                                                \n",
      "                                                                 \n",
      " dropout_39 (Dropout)        (None, 64)                0         \n",
      "                                                                 \n",
      " dense_59 (Dense)            (None, 5)                 325       \n",
      "                                                                 \n",
      "=================================================================\n",
      "Total params: 3,781,509\n",
      "Trainable params: 3,780,677\n",
      "Non-trainable params: 832\n",
      "_________________________________________________________________\n"
     ]
    }
   ],
   "source": [
    "conv_model4_obj=Model4()\n",
    "conv_model4_obj.initialize_path(project_folder)\n",
    "conv_model4_obj.initialize_image_properties(image_height=120,image_width=120)\n",
    "conv_model4_obj.initialize_hyperparams(frames_to_sample=20,batch_size=64,num_epochs=20)\n",
    "conv_model4_model=conv_model4_obj.define_model()\n",
    "conv_model4_model.summary()"
   ]
  },
  {
   "cell_type": "code",
   "execution_count": null,
   "metadata": {},
   "outputs": [
    {
     "name": "stdout",
     "output_type": "stream",
     "text": [
      "Total Params: 3781509\n"
     ]
    }
   ],
   "source": [
    "print(\"Total Params:\", conv_model4_model.count_params())"
   ]
  },
  {
   "cell_type": "code",
   "execution_count": null,
   "metadata": {},
   "outputs": [
    {
     "name": "stdout",
     "output_type": "stream",
     "text": [
      "WARNING:tensorflow:`period` argument is deprecated. Please use `save_freq` to specify the frequency in number of batches seen.\n",
      "Epoch 1/20\n",
      "11/11 [==============================] - ETA: 0s - loss: 1.5387 - categorical_accuracy: 0.4702\n",
      "Epoch 00001: val_loss improved from inf to 1.59490, saving model to model_init_2025-01-2819_51_12.870779/model-00001-1.53871-0.47017-1.59490-0.22656.h5\n",
      "11/11 [==============================] - 81s 8s/step - loss: 1.5387 - categorical_accuracy: 0.4702 - val_loss: 1.5949 - val_categorical_accuracy: 0.2266 - lr: 0.0100\n",
      "Epoch 2/20\n",
      "11/11 [==============================] - ETA: 0s - loss: 0.9710 - categorical_accuracy: 0.6278\n",
      "Epoch 00002: val_loss did not improve from 1.59490\n",
      "11/11 [==============================] - 78s 8s/step - loss: 0.9710 - categorical_accuracy: 0.6278 - val_loss: 1.7473 - val_categorical_accuracy: 0.2344 - lr: 0.0100\n",
      "Epoch 3/20\n",
      "11/11 [==============================] - ETA: 0s - loss: 0.5936 - categorical_accuracy: 0.7912\n",
      "Epoch 00003: val_loss did not improve from 1.59490\n",
      "11/11 [==============================] - 81s 8s/step - loss: 0.5936 - categorical_accuracy: 0.7912 - val_loss: 2.1914 - val_categorical_accuracy: 0.2031 - lr: 0.0100\n",
      "Epoch 4/20\n",
      "11/11 [==============================] - ETA: 0s - loss: 0.4663 - categorical_accuracy: 0.8423\n",
      "Epoch 00004: val_loss did not improve from 1.59490\n",
      "11/11 [==============================] - 79s 8s/step - loss: 0.4663 - categorical_accuracy: 0.8423 - val_loss: 2.8605 - val_categorical_accuracy: 0.2031 - lr: 0.0100\n",
      "Epoch 5/20\n",
      " 4/11 [=========>....................] - ETA: 39s - loss: 0.3599 - categorical_accuracy: 0.8984"
     ]
    }
   ],
   "source": [
    "training_output_model4 = conv_model4_obj.train_model(conv_model4_model)"
   ]
  },
  {
   "cell_type": "code",
   "execution_count": null,
   "metadata": {},
   "outputs": [
    {
     "ename": "NameError",
     "evalue": "name 'training_output_model4' is not defined",
     "output_type": "error",
     "traceback": [
      "\u001b[0;31m---------------------------------------------------------------------------\u001b[0m",
      "\u001b[0;31mNameError\u001b[0m                                 Traceback (most recent call last)",
      "\u001b[0;32m/tmp/ipykernel_203/429593794.py\u001b[0m in \u001b[0;36m<module>\u001b[0;34m\u001b[0m\n\u001b[0;32m----> 1\u001b[0;31m \u001b[0mplot\u001b[0m\u001b[0;34m(\u001b[0m\u001b[0mtraining_output_model4\u001b[0m\u001b[0;34m)\u001b[0m\u001b[0;34m\u001b[0m\u001b[0;34m\u001b[0m\u001b[0m\n\u001b[0m",
      "\u001b[0;31mNameError\u001b[0m: name 'training_output_model4' is not defined"
     ]
    }
   ],
   "source": [
    "plot(training_output_model4)"
   ]
  },
  {
   "cell_type": "markdown",
   "metadata": {},
   "source": [
    "## Model 5: Adding more Layers\n"
   ]
  },
  {
   "cell_type": "markdown",
   "metadata": {},
   "source": [
    "In above model we see the validation accuracy is varing wildly. Adding more epochs may give the stable validation accuracy. Before doing that we would try what effect batch_size of 64 have on the model. For this model we will try batch_zise and 64"
   ]
  },
  {
   "cell_type": "code",
   "execution_count": null,
   "metadata": {},
   "outputs": [],
   "source": [
    "\n",
    "class Model5(ModelBuilder):\n",
    "       \n",
    "    def define_model(self,filtersize=(3,3,3),dense_neurons=64,dropout=0.25):\n",
    "\n",
    "        model = Sequential()\n",
    "        model.add(Conv3D(16, filtersize, padding='same',\n",
    "                 input_shape=(self.frames_to_sample,self.image_height,self.image_width,self.channels)))\n",
    "        model.add(Activation('relu'))\n",
    "        model.add(BatchNormalization())\n",
    "        \n",
    "        model.add(Conv3D(16, filtersize, padding='same',\n",
    "                 input_shape=(self.frames_to_sample,self.image_height,self.image_width,self.channels)))\n",
    "        model.add(Activation('relu'))\n",
    "        model.add(BatchNormalization())\n",
    "        \n",
    "        model.add(MaxPooling3D(pool_size=(2, 2, 2)))\n",
    "\n",
    "        model.add(Conv3D(32, filtersize, padding='same'))\n",
    "        model.add(Activation('relu'))\n",
    "        model.add(BatchNormalization())\n",
    "        \n",
    "        model.add(Conv3D(32, filtersize, padding='same'))\n",
    "        model.add(Activation('relu'))\n",
    "        model.add(BatchNormalization())\n",
    "        \n",
    "        model.add(MaxPooling3D(pool_size=(2, 2, 2)))\n",
    "\n",
    "        model.add(Conv3D(64, filtersize, padding='same'))\n",
    "        model.add(Activation('relu'))\n",
    "        model.add(BatchNormalization())\n",
    "        \n",
    "        model.add(Conv3D(64, filtersize, padding='same'))\n",
    "        model.add(Activation('relu'))\n",
    "        model.add(BatchNormalization())\n",
    "        \n",
    "        model.add(MaxPooling3D(pool_size=(2, 2, 2)))\n",
    "\n",
    "        model.add(Conv3D(128, filtersize, padding='same'))\n",
    "        model.add(Activation('relu'))\n",
    "        model.add(BatchNormalization())\n",
    "        \n",
    "        model.add(Conv3D(128, filtersize, padding='same'))\n",
    "        model.add(Activation('relu'))\n",
    "        model.add(BatchNormalization())\n",
    "        \n",
    "        model.add(MaxPooling3D(pool_size=(2, 2, 2)))\n",
    "        \n",
    "\n",
    "        model.add(Flatten())\n",
    "        model.add(Dense(dense_neurons,activation='relu'))\n",
    "        model.add(BatchNormalization())\n",
    "        model.add(Dropout(dropout))\n",
    "\n",
    "        model.add(Dense(dense_neurons,activation='relu'))\n",
    "        model.add(BatchNormalization())\n",
    "        model.add(Dropout(dropout))\n",
    "\n",
    "\n",
    "        model.add(Dense(self.num_classes,activation='softmax'))\n",
    "\n",
    "        optimiser = \"Adam\"\n",
    "        model.compile(optimizer=optimiser, loss='categorical_crossentropy', metrics=['categorical_accuracy'])\n",
    "        return model"
   ]
  },
  {
   "cell_type": "code",
   "execution_count": null,
   "metadata": {},
   "outputs": [],
   "source": [
    "conv_model5_obj=Model5()\n",
    "conv_model5_obj.initialize_path(project_folder)\n",
    "conv_model5_obj.initialize_image_properties(image_height=120,image_width=120)\n",
    "conv_model5_obj.initialize_hyperparams(frames_to_sample=20,batch_size=64,num_epochs=20)\n",
    "conv_model5_model=conv_model5_obj.define_model()\n",
    "conv_model5_model.summary()"
   ]
  },
  {
   "cell_type": "code",
   "execution_count": null,
   "metadata": {},
   "outputs": [],
   "source": [
    "print(\"Total Params:\", conv_model5_model.count_params())"
   ]
  },
  {
   "cell_type": "code",
   "execution_count": null,
   "metadata": {},
   "outputs": [
    {
     "name": "stdout",
     "output_type": "stream",
     "text": [
      "WARNING:tensorflow:`period` argument is deprecated. Please use `save_freq` to specify the frequency in number of batches seen.\n",
      "Epoch 1/20\n",
      "11/11 [==============================] - ETA: 0s - loss: 1.5387 - categorical_accuracy: 0.4702\n",
      "Epoch 00001: val_loss improved from inf to 1.59490, saving model to model_init_2025-01-2819_51_12.870779/model-00001-1.53871-0.47017-1.59490-0.22656.h5\n",
      "11/11 [==============================] - 81s 8s/step - loss: 1.5387 - categorical_accuracy: 0.4702 - val_loss: 1.5949 - val_categorical_accuracy: 0.2266 - lr: 0.0100\n",
      "Epoch 2/20\n",
      "11/11 [==============================] - ETA: 0s - loss: 0.9710 - categorical_accuracy: 0.6278\n",
      "Epoch 00002: val_loss did not improve from 1.59490\n",
      "11/11 [==============================] - 78s 8s/step - loss: 0.9710 - categorical_accuracy: 0.6278 - val_loss: 1.7473 - val_categorical_accuracy: 0.2344 - lr: 0.0100\n",
      "Epoch 3/20\n",
      "11/11 [==============================] - ETA: 0s - loss: 0.5936 - categorical_accuracy: 0.7912\n",
      "Epoch 00003: val_loss did not improve from 1.59490\n",
      "11/11 [==============================] - 81s 8s/step - loss: 0.5936 - categorical_accuracy: 0.7912 - val_loss: 2.1914 - val_categorical_accuracy: 0.2031 - lr: 0.0100\n",
      "Epoch 4/20\n",
      "11/11 [==============================] - ETA: 0s - loss: 0.4663 - categorical_accuracy: 0.8423\n",
      "Epoch 00004: val_loss did not improve from 1.59490\n",
      "11/11 [==============================] - 79s 8s/step - loss: 0.4663 - categorical_accuracy: 0.8423 - val_loss: 2.8605 - val_categorical_accuracy: 0.2031 - lr: 0.0100\n",
      "Epoch 5/20\n",
      " 4/11 [=========>....................] - ETA: 39s - loss: 0.3599 - categorical_accuracy: 0.8984"
     ]
    }
   ],
   "source": [
    "training_output_model5 = conv_model5_obj.train_model(conv_model5_model)"
   ]
  },
  {
   "cell_type": "code",
   "execution_count": null,
   "metadata": {},
   "outputs": [],
   "source": [
    "plot(training_output_model5)"
   ]
  },
  {
   "cell_type": "markdown",
   "metadata": {},
   "source": [
    "## Model 6: Adding Drop outs to convolution layer\n"
   ]
  },
  {
   "cell_type": "markdown",
   "metadata": {},
   "source": [
    "In above model we see the validation accuracy is varing wildly. Adding more epochs may give the stable validation accuracy. Before doing that we would try what effect batch_size of 64 have on the model. For this model we will try batch_zise and 64"
   ]
  },
  {
   "cell_type": "code",
   "execution_count": null,
   "metadata": {},
   "outputs": [],
   "source": [
    "\n",
    "class Model6(ModelBuilder):\n",
    "    \n",
    "    def define_model(self,filtersize=(3,3,3),dense_neurons=64,dropout=0.25):\n",
    "  \n",
    "        model = Sequential()\n",
    "        model.add(Conv3D(16, filtersize, padding='same',\n",
    "                 input_shape=(self.frames_to_sample,self.image_height,self.image_width,self.channels)))\n",
    "        model.add(Activation('relu'))\n",
    "        model.add(BatchNormalization())\n",
    "        \n",
    "        model.add(Conv3D(16, filtersize, padding='same',\n",
    "                 input_shape=(self.frames_to_sample,self.image_height,self.image_width,self.channels)))\n",
    "        model.add(Activation('relu'))\n",
    "        model.add(BatchNormalization())\n",
    "        \n",
    "        model.add(MaxPooling3D(pool_size=(2, 2, 2)))\n",
    "        model.add(Dropout(dropout))\n",
    "\n",
    "        model.add(Conv3D(32, filtersize, padding='same'))\n",
    "        model.add(Activation('relu'))\n",
    "        model.add(BatchNormalization())\n",
    "        \n",
    "        model.add(Conv3D(32, filtersize, padding='same'))\n",
    "        model.add(Activation('relu'))\n",
    "        model.add(BatchNormalization())\n",
    "        \n",
    "        model.add(MaxPooling3D(pool_size=(2, 2, 2)))\n",
    "        model.add(Dropout(dropout))\n",
    "\n",
    "        model.add(Conv3D(64, filtersize, padding='same'))\n",
    "        model.add(Activation('relu'))\n",
    "        model.add(BatchNormalization())\n",
    "        \n",
    "        model.add(Conv3D(64, filtersize, padding='same'))\n",
    "        model.add(Activation('relu'))\n",
    "        model.add(BatchNormalization())\n",
    "        \n",
    "        model.add(MaxPooling3D(pool_size=(2, 2, 2)))\n",
    "        model.add(Dropout(dropout))\n",
    "\n",
    "        model.add(Conv3D(128, filtersize, padding='same'))\n",
    "        model.add(Activation('relu'))\n",
    "        model.add(BatchNormalization())\n",
    "        \n",
    "        model.add(Conv3D(128, filtersize, padding='same'))\n",
    "        model.add(Activation('relu'))\n",
    "        model.add(BatchNormalization())\n",
    "        \n",
    "        model.add(MaxPooling3D(pool_size=(2, 2, 2)))\n",
    "        model.add(Dropout(dropout))\n",
    "        \n",
    "        model.add(Flatten())\n",
    "        model.add(Dense(dense_neurons,activation='relu'))\n",
    "        model.add(BatchNormalization())\n",
    "        model.add(Dropout(dropout))\n",
    "\n",
    "        model.add(Dense(dense_neurons,activation='relu'))\n",
    "        model.add(BatchNormalization())\n",
    "        model.add(Dropout(dropout))\n",
    "\n",
    "\n",
    "        model.add(Dense(self.num_classes,activation='softmax'))\n",
    "\n",
    "        optimiser = optimizers.Adam()\n",
    "        model.compile(optimizer=optimiser, loss='categorical_crossentropy', metrics=['categorical_accuracy'])\n",
    "        return model"
   ]
  },
  {
   "cell_type": "code",
   "execution_count": null,
   "metadata": {},
   "outputs": [],
   "source": [
    "conv_model6_obj=Model6()\n",
    "conv_model6_obj.initialize_path(project_folder)\n",
    "conv_model6_obj.initialize_image_properties(image_height=120,image_width=120)\n",
    "conv_model6_obj.initialize_hyperparams(frames_to_sample=20,batch_size=64,num_epochs=20)\n",
    "conv_model6_model=conv_model6_obj.define_model()\n",
    "conv_model6_model.summary()"
   ]
  },
  {
   "cell_type": "code",
   "execution_count": null,
   "metadata": {},
   "outputs": [],
   "source": [
    "print(\"Total Params:\", conv_model6_model.count_params())"
   ]
  },
  {
   "cell_type": "code",
   "execution_count": null,
   "metadata": {},
   "outputs": [
    {
     "name": "stdout",
     "output_type": "stream",
     "text": [
      "WARNING:tensorflow:`period` argument is deprecated. Please use `save_freq` to specify the frequency in number of batches seen.\n",
      "Epoch 1/20\n",
      "11/11 [==============================] - ETA: 0s - loss: 1.5387 - categorical_accuracy: 0.4702\n",
      "Epoch 00001: val_loss improved from inf to 1.59490, saving model to model_init_2025-01-2819_51_12.870779/model-00001-1.53871-0.47017-1.59490-0.22656.h5\n",
      "11/11 [==============================] - 81s 8s/step - loss: 1.5387 - categorical_accuracy: 0.4702 - val_loss: 1.5949 - val_categorical_accuracy: 0.2266 - lr: 0.0100\n",
      "Epoch 2/20\n",
      "11/11 [==============================] - ETA: 0s - loss: 0.9710 - categorical_accuracy: 0.6278\n",
      "Epoch 00002: val_loss did not improve from 1.59490\n",
      "11/11 [==============================] - 78s 8s/step - loss: 0.9710 - categorical_accuracy: 0.6278 - val_loss: 1.7473 - val_categorical_accuracy: 0.2344 - lr: 0.0100\n",
      "Epoch 3/20\n",
      "11/11 [==============================] - ETA: 0s - loss: 0.5936 - categorical_accuracy: 0.7912\n",
      "Epoch 00003: val_loss did not improve from 1.59490\n",
      "11/11 [==============================] - 81s 8s/step - loss: 0.5936 - categorical_accuracy: 0.7912 - val_loss: 2.1914 - val_categorical_accuracy: 0.2031 - lr: 0.0100\n",
      "Epoch 4/20\n",
      "11/11 [==============================] - ETA: 0s - loss: 0.4663 - categorical_accuracy: 0.8423\n",
      "Epoch 00004: val_loss did not improve from 1.59490\n",
      "11/11 [==============================] - 79s 8s/step - loss: 0.4663 - categorical_accuracy: 0.8423 - val_loss: 2.8605 - val_categorical_accuracy: 0.2031 - lr: 0.0100\n",
      "Epoch 5/20\n",
      " 4/11 [=========>....................] - ETA: 39s - loss: 0.3599 - categorical_accuracy: 0.8984"
     ]
    }
   ],
   "source": [
    "training_output_model6 = conv_model6_obj.train_model(conv_model6_model)"
   ]
  },
  {
   "cell_type": "code",
   "execution_count": null,
   "metadata": {},
   "outputs": [],
   "source": [
    "plot(training_output_model6)"
   ]
  },
  {
   "cell_type": "markdown",
   "metadata": {},
   "source": [
    "## Model 7: CNN + LSTM\n"
   ]
  },
  {
   "cell_type": "markdown",
   "metadata": {},
   "source": [
    "In above model we see the validation accuracy is varing wildly. Adding more epochs may give the stable validation accuracy. Before doing that we would try what effect batch_size of 64 have on the model. For this model we will try batch_zise and 64"
   ]
  },
  {
   "cell_type": "code",
   "execution_count": null,
   "metadata": {},
   "outputs": [],
   "source": [
    "from keras.layers.recurrent import LSTM\n",
    "\n",
    "\n",
    "class CNNLSTM(ModelBuilder):\n",
    "    \n",
    "    def define_model(self,lstm_cells=64,dense_neurons=64,dropout=0.25):\n",
    "\n",
    "        model = Sequential()\n",
    "\n",
    "        model.add(TimeDistributed(Conv2D(16, (3, 3) , padding='same', activation='relu'),\n",
    "                                  input_shape=(self.frames_to_sample,self.image_height,self.image_width,self.channels)))\n",
    "        model.add(TimeDistributed(BatchNormalization()))\n",
    "        model.add(TimeDistributed(MaxPooling2D((2, 2))))\n",
    "        \n",
    "        model.add(TimeDistributed(Conv2D(32, (3, 3) , padding='same', activation='relu')))\n",
    "        model.add(TimeDistributed(BatchNormalization()))\n",
    "        model.add(TimeDistributed(MaxPooling2D((2, 2))))\n",
    "        \n",
    "        model.add(TimeDistributed(Conv2D(64, (3, 3) , padding='same', activation='relu')))\n",
    "        model.add(TimeDistributed(BatchNormalization()))\n",
    "        model.add(TimeDistributed(MaxPooling2D((2, 2))))\n",
    "        \n",
    "        model.add(TimeDistributed(Conv2D(128, (3, 3) , padding='same', activation='relu')))\n",
    "        model.add(TimeDistributed(BatchNormalization()))\n",
    "        model.add(TimeDistributed(MaxPooling2D((2, 2))))\n",
    "        \n",
    "        model.add(TimeDistributed(Conv2D(256, (3, 3) , padding='same', activation='relu')))\n",
    "        model.add(TimeDistributed(BatchNormalization()))\n",
    "        model.add(TimeDistributed(MaxPooling2D((2, 2))))\n",
    "\n",
    "\n",
    "        model.add(TimeDistributed(Flatten()))\n",
    "\n",
    "\n",
    "        model.add(LSTM(lstm_cells))\n",
    "        model.add(Dropout(dropout))\n",
    "        \n",
    "        model.add(Dense(dense_neurons,activation='relu'))\n",
    "        model.add(Dropout(dropout))\n",
    "        \n",
    "        model.add(Dense(self.num_classes, activation='softmax'))\n",
    "        optimiser = tf.keras.optimizers.Adam(lr=0.002)\n",
    "#         optimiser = 'sgd'\n",
    "        model.compile(optimizer=optimiser, loss='categorical_crossentropy', metrics=['categorical_accuracy'])\n",
    "        return model\n",
    "  \n",
    "     "
   ]
  },
  {
   "cell_type": "code",
   "execution_count": null,
   "metadata": {},
   "outputs": [],
   "source": [
    "cnn_lstm=CNNLSTM()\n",
    "cnn_lstm.initialize_path(project_folder)\n",
    "cnn_lstm.initialize_image_properties(image_height=120,image_width=120)\n",
    "cnn_lstm.initialize_hyperparams(frames_to_sample=18,batch_size=32,num_epochs=20)\n",
    "cnn_lstm_model=cnn_lstm.define_model(lstm_cells=128,dense_neurons=128,dropout=0.25)\n",
    "cnn_lstm_model.summary()"
   ]
  },
  {
   "cell_type": "code",
   "execution_count": null,
   "metadata": {},
   "outputs": [],
   "source": [
    "print(\"Total Params:\", cnn_lstm_model.count_params())"
   ]
  },
  {
   "cell_type": "code",
   "execution_count": 175,
   "metadata": {},
   "outputs": [
    {
     "name": "stdout",
     "output_type": "stream",
     "text": [
      "WARNING:tensorflow:`period` argument is deprecated. Please use `save_freq` to specify the frequency in number of batches seen.\n",
      "Epoch 1/20\n",
      "21/21 [==============================] - ETA: 0s - loss: 0.5693 - categorical_accuracy: 0.8423\n",
      "Epoch 00001: val_loss improved from inf to 1.69906, saving model to model_init_2025-01-2821_33_36.941985/model-00001-0.56926-0.84226-1.69906-0.35938.h5\n",
      "21/21 [==============================] - 100s 5s/step - loss: 0.5693 - categorical_accuracy: 0.8423 - val_loss: 1.6991 - val_categorical_accuracy: 0.3594 - lr: 0.0020\n",
      "Epoch 2/20\n",
      "21/21 [==============================] - ETA: 0s - loss: 0.5552 - categorical_accuracy: 0.8363\n",
      "Epoch 00002: val_loss did not improve from 1.69906\n",
      "21/21 [==============================] - 107s 5s/step - loss: 0.5552 - categorical_accuracy: 0.8363 - val_loss: 1.7089 - val_categorical_accuracy: 0.3359 - lr: 0.0020\n",
      "Epoch 3/20\n",
      "21/21 [==============================] - ETA: 0s - loss: 0.5452 - categorical_accuracy: 0.8497\n",
      "Epoch 00003: val_loss did not improve from 1.69906\n",
      "21/21 [==============================] - 105s 5s/step - loss: 0.5452 - categorical_accuracy: 0.8497 - val_loss: 1.8376 - val_categorical_accuracy: 0.3203 - lr: 0.0020\n",
      "Epoch 4/20\n",
      "21/21 [==============================] - ETA: 0s - loss: 0.4246 - categorical_accuracy: 0.8943\n",
      "Epoch 00008: val_loss did not improve from 1.69906\n",
      "21/21 [==============================] - 104s 5s/step - loss: 0.4246 - categorical_accuracy: 0.8943 - val_loss: 1.8260 - val_categorical_accuracy: 0.3516 - lr: 4.0000e-04\n",
      "Epoch 9/20\n",
      "21/21 [==============================] - ETA: 0s - loss: 0.4308 - categorical_accuracy: 0.9018\n",
      "Epoch 00009: val_loss improved from 1.69906 to 1.66811, saving model to model_init_2025-01-2821_33_36.941985/model-00009-0.43080-0.90179-1.66811-0.41406.h5\n",
      "21/21 [==============================] - 103s 5s/step - loss: 0.4308 - categorical_accuracy: 0.9018 - val_loss: 1.6681 - val_categorical_accuracy: 0.4141 - lr: 4.0000e-04\n",
      "Epoch 10/20\n",
      "21/21 [==============================] - ETA: 0s - loss: 0.4338 - categorical_accuracy: 0.8914\n",
      "Epoch 00010: val_loss did not improve from 1.66811\n",
      "21/21 [==============================] - 102s 5s/step - loss: 0.4338 - categorical_accuracy: 0.8914 - val_loss: 1.7020 - val_categorical_accuracy: 0.3984 - lr: 4.0000e-04\n",
      "Epoch 11/20\n",
      "21/21 [==============================] - ETA: 0s - loss: 0.3975 - categorical_accuracy: 0.9018\n",
      "Epoch 00011: val_loss improved from 1.66811 to 1.56793, saving model to model_init_2025-01-2821_33_36.941985/model-00011-0.39754-0.90179-1.56793-0.43750.h5\n",
      "21/21 [==============================] - 101s 5s/step - loss: 0.3975 - categorical_accuracy: 0.9018 - val_loss: 1.5679 - val_categorical_accuracy: 0.4375 - lr: 4.0000e-04\n",
      "Epoch 12/20\n",
      "21/21 [==============================] - ETA: 0s - loss: 0.4079 - categorical_accuracy: 0.9092\n",
      "Epoch 00015: val_loss improved from 1.21934 to 1.15878, saving model to model_init_2025-01-2821_33_36.941985/model-00015-0.40793-0.90923-1.15878-0.53906.h5\n",
      "21/21 [==============================] - 104s 5s/step - loss: 0.4079 - categorical_accuracy: 0.9092 - val_loss: 1.1588 - val_categorical_accuracy: 0.5391 - lr: 4.0000e-04\n",
      "Epoch 16/20\n",
      "21/21 [==============================] - ETA: 0s - loss: 0.3765 - categorical_accuracy: 0.9271\n",
      "Epoch 00016: val_loss improved from 1.15878 to 1.02539, saving model to model_init_2025-01-2821_33_36.941985/model-00016-0.37646-0.92708-1.02539-0.60156.h5\n",
      "21/21 [==============================] - 103s 5s/step - loss: 0.3765 - categorical_accuracy: 0.9271 - val_loss: 1.0254 - val_categorical_accuracy: 0.6016 - lr: 4.0000e-04\n",
      "Epoch 17/20\n",
      "21/21 [==============================] - ETA: 0s - loss: 0.4028 - categorical_accuracy: 0.9033\n",
      "Epoch 00017: val_loss improved from 1.02539 to 1.02339, saving model to model_init_2025-01-2821_33_36.941985/model-00017-0.40283-0.90327-1.02339-0.61719.h5\n",
      "21/21 [==============================] - 100s 5s/step - loss: 0.4028 - categorical_accuracy: 0.9033 - val_loss: 1.0234 - val_categorical_accuracy: 0.6172 - lr: 4.0000e-04\n",
      "Epoch 18/20\n",
      "21/21 [==============================] - ETA: 0s - loss: 0.3893 - categorical_accuracy: 0.9211\n",
      "Epoch 00018: val_loss improved from 1.02339 to 0.86033, saving model to model_init_2025-01-2821_33_36.941985/model-00018-0.38931-0.92113-0.86033-0.67188.h5\n",
      "21/21 [==============================] - 105s 5s/step - loss: 0.3893 - categorical_accuracy: 0.9211 - val_loss: 0.8603 - val_categorical_accuracy: 0.6719 - lr: 4.0000e-04\n",
      "Epoch 19/20\n",
      "21/21 [==============================] - ETA: 0s - loss: 0.3906 - categorical_accuracy: 0.9077\n",
      "Epoch 00019: val_loss did not improve from 0.86033\n",
      "21/21 [==============================] - 104s 5s/step - loss: 0.3906 - categorical_accuracy: 0.9077 - val_loss: 0.9327 - val_categorical_accuracy: 0.6172 - lr: 4.0000e-04\n",
      "Epoch 20/20\n",
      "21/21 [==============================] - ETA: 0s - loss: 0.3517 - categorical_accuracy: 0.9271\n",
      "Epoch 00020: val_loss did not improve from 0.86033\n",
      "21/21 [==============================] - 108s 5s/step - loss: 0.3517 - categorical_accuracy: 0.9271 - val_loss: 0.8752 - val_categorical_accuracy: 0.6172 - lr: 4.0000e-04\n"
     ]
    }
   ],
   "source": [
    "training_output_model7 = cnn_lstm.train_model(cnn_lstm_model)"
   ]
  },
  {
   "cell_type": "code",
   "execution_count": 176,
   "metadata": {},
   "outputs": [
    {
     "data": {
      "image/png": "[encoded data removed]",
      "text/plain": [
       "<Figure size 1080x288 with 2 Axes>"
      ]
     },
     "metadata": {
      "needs_background": "light"
     },
     "output_type": "display_data"
    }
   ],
   "source": [
    "plot(training_output_model7)"
   ]
  },
  {
   "cell_type": "markdown",
   "metadata": {},
   "source": [
    "## Model 8: CNN + LSTM\n"
   ]
  },
  {
   "cell_type": "markdown",
   "metadata": {},
   "source": [
    "In above model we see the validation accuracy is varing wildly. Adding more epochs may give the stable validation accuracy. Before doing that we would try what effect batch_size of 64 have on the model. For this model we will try batch_zise and 64"
   ]
  },
  {
   "cell_type": "code",
   "execution_count": null,
   "metadata": {},
   "outputs": [],
   "source": [
    "\n",
    "class Model4(ModelBuilder):\n",
    "    \n",
    "    def define_model(self,filtersize=(2,2,2),dense_neurons=64,dropout=0.25):\n",
    "  \n",
    "        model = Sequential()\n",
    "        model.add(Conv3D(32, (3, 3, 3), padding='same',\n",
    "                 input_shape=(self.frames_to_sample,self.image_height,self.image_width,self.channels)))\n",
    "        model.add(Activation('relu'))\n",
    "        model.add(BatchNormalization())\n",
    "        model.add(MaxPooling3D(pool_size=(2, 2, 2)))\n",
    "\n",
    "        model.add(Conv3D(64, (2, 2, 2), padding='same'))\n",
    "        model.add(Activation('relu'))\n",
    "        model.add(BatchNormalization())\n",
    "        model.add(MaxPooling3D(pool_size=(2, 2, 2)))\n",
    "\n",
    "        model.add(Conv3D(128, (2, 2, 2), padding='same'))\n",
    "        model.add(Activation('relu'))\n",
    "        model.add(BatchNormalization())\n",
    "        model.add(MaxPooling3D(pool_size=(2, 2, 2)))\n",
    "\n",
    "        model.add(Flatten())\n",
    "        model.add(Dense(128,activation='relu'))\n",
    "        model.add(BatchNormalization())\n",
    "        model.add(Dropout(dropout))\n",
    "\n",
    "        model.add(Dense(dense_neurons,activation='relu'))\n",
    "        model.add(BatchNormalization())\n",
    "        model.add(Dropout(dropout))\n",
    "\n",
    "        model.add(Dense(5,activation='softmax'))\n",
    "\n",
    "        optimiser = optimiser = 'sgd'\n",
    "        model.compile(optimizer=optimiser, loss='categorical_crossentropy', metrics=['categorical_accuracy'])\n",
    "        return model"
   ]
  },
  {
   "cell_type": "code",
   "execution_count": null,
   "metadata": {},
   "outputs": [],
   "source": [
    "conv_model4_obj=Model4()\n",
    "conv_model4_obj.initialize_path(project_folder)\n",
    "conv_model4_obj.initialize_image_properties(image_height=120,image_width=120)\n",
    "conv_model4_obj.initialize_hyperparams(frames_to_sample=20,batch_size=64,num_epochs=20)\n",
    "conv_model4_model=conv_model2_obj.define_model()\n",
    "conv_model4_model.summary()"
   ]
  },
  {
   "cell_type": "code",
   "execution_count": null,
   "metadata": {},
   "outputs": [],
   "source": [
    "print(\"Total Params:\", conv_model4_model.count_params())"
   ]
  },
  {
   "cell_type": "code",
   "execution_count": null,
   "metadata": {},
   "outputs": [
    {
     "name": "stdout",
     "output_type": "stream",
     "text": [
      "WARNING:tensorflow:`period` argument is deprecated. Please use `save_freq` to specify the frequency in number of batches seen.\n",
      "Epoch 1/20\n",
      "11/11 [==============================] - ETA: 0s - loss: 1.5387 - categorical_accuracy: 0.4702\n",
      "Epoch 00001: val_loss improved from inf to 1.59490, saving model to model_init_2025-01-2819_51_12.870779/model-00001-1.53871-0.47017-1.59490-0.22656.h5\n",
      "11/11 [==============================] - 81s 8s/step - loss: 1.5387 - categorical_accuracy: 0.4702 - val_loss: 1.5949 - val_categorical_accuracy: 0.2266 - lr: 0.0100\n",
      "Epoch 2/20\n",
      "11/11 [==============================] - ETA: 0s - loss: 0.9710 - categorical_accuracy: 0.6278\n",
      "Epoch 00002: val_loss did not improve from 1.59490\n",
      "11/11 [==============================] - 78s 8s/step - loss: 0.9710 - categorical_accuracy: 0.6278 - val_loss: 1.7473 - val_categorical_accuracy: 0.2344 - lr: 0.0100\n",
      "Epoch 3/20\n",
      "11/11 [==============================] - ETA: 0s - loss: 0.5936 - categorical_accuracy: 0.7912\n",
      "Epoch 00003: val_loss did not improve from 1.59490\n",
      "11/11 [==============================] - 81s 8s/step - loss: 0.5936 - categorical_accuracy: 0.7912 - val_loss: 2.1914 - val_categorical_accuracy: 0.2031 - lr: 0.0100\n",
      "Epoch 4/20\n",
      "11/11 [==============================] - ETA: 0s - loss: 0.4663 - categorical_accuracy: 0.8423\n",
      "Epoch 00004: val_loss did not improve from 1.59490\n",
      "11/11 [==============================] - 79s 8s/step - loss: 0.4663 - categorical_accuracy: 0.8423 - val_loss: 2.8605 - val_categorical_accuracy: 0.2031 - lr: 0.0100\n",
      "Epoch 5/20\n",
      " 4/11 [=========>....................] - ETA: 39s - loss: 0.3599 - categorical_accuracy: 0.8984"
     ]
    }
   ],
   "source": [
    "training_output_model4 = conv_model4_obj.train_model(conv_model4_model)"
   ]
  },
  {
   "cell_type": "code",
   "execution_count": null,
   "metadata": {},
   "outputs": [],
   "source": [
    "plot(training_output_model4)"
   ]
  },
  {
   "cell_type": "markdown",
   "metadata": {},
   "source": [
    "## Model 9: CNN + LSTM\n"
   ]
  },
  {
   "cell_type": "markdown",
   "metadata": {},
   "source": [
    "In above model we see the validation accuracy is varing wildly. Adding more epochs may give the stable validation accuracy. Before doing that we would try what effect batch_size of 64 have on the model. For this model we will try batch_zise and 64"
   ]
  },
  {
   "cell_type": "code",
   "execution_count": null,
   "metadata": {},
   "outputs": [],
   "source": [
    "\n",
    "class Model4(ModelBuilder):\n",
    "    \n",
    "    def define_model(self,filtersize=(2,2,2),dense_neurons=64,dropout=0.25):\n",
    "  \n",
    "        model = Sequential()\n",
    "        model.add(Conv3D(32, (3, 3, 3), padding='same',\n",
    "                 input_shape=(self.frames_to_sample,self.image_height,self.image_width,self.channels)))\n",
    "        model.add(Activation('relu'))\n",
    "        model.add(BatchNormalization())\n",
    "        model.add(MaxPooling3D(pool_size=(2, 2, 2)))\n",
    "\n",
    "        model.add(Conv3D(64, (2, 2, 2), padding='same'))\n",
    "        model.add(Activation('relu'))\n",
    "        model.add(BatchNormalization())\n",
    "        model.add(MaxPooling3D(pool_size=(2, 2, 2)))\n",
    "\n",
    "        model.add(Conv3D(128, (2, 2, 2), padding='same'))\n",
    "        model.add(Activation('relu'))\n",
    "        model.add(BatchNormalization())\n",
    "        model.add(MaxPooling3D(pool_size=(2, 2, 2)))\n",
    "\n",
    "        model.add(Flatten())\n",
    "        model.add(Dense(128,activation='relu'))\n",
    "        model.add(BatchNormalization())\n",
    "        model.add(Dropout(dropout))\n",
    "\n",
    "        model.add(Dense(dense_neurons,activation='relu'))\n",
    "        model.add(BatchNormalization())\n",
    "        model.add(Dropout(dropout))\n",
    "\n",
    "        model.add(Dense(5,activation='softmax'))\n",
    "\n",
    "        optimiser = optimiser = 'sgd'\n",
    "        model.compile(optimizer=optimiser, loss='categorical_crossentropy', metrics=['categorical_accuracy'])\n",
    "        return model"
   ]
  },
  {
   "cell_type": "code",
   "execution_count": null,
   "metadata": {},
   "outputs": [],
   "source": [
    "conv_model4_obj=Model4()\n",
    "conv_model4_obj.initialize_path(project_folder)\n",
    "conv_model4_obj.initialize_image_properties(image_height=120,image_width=120)\n",
    "conv_model4_obj.initialize_hyperparams(frames_to_sample=20,batch_size=64,num_epochs=20)\n",
    "conv_model4_model=conv_model2_obj.define_model()\n",
    "conv_model4_model.summary()"
   ]
  },
  {
   "cell_type": "code",
   "execution_count": null,
   "metadata": {},
   "outputs": [],
   "source": [
    "print(\"Total Params:\", conv_model4_model.count_params())"
   ]
  },
  {
   "cell_type": "code",
   "execution_count": null,
   "metadata": {},
   "outputs": [
    {
     "name": "stdout",
     "output_type": "stream",
     "text": [
      "WARNING:tensorflow:`period` argument is deprecated. Please use `save_freq` to specify the frequency in number of batches seen.\n",
      "Epoch 1/20\n",
      "11/11 [==============================] - ETA: 0s - loss: 1.5387 - categorical_accuracy: 0.4702\n",
      "Epoch 00001: val_loss improved from inf to 1.59490, saving model to model_init_2025-01-2819_51_12.870779/model-00001-1.53871-0.47017-1.59490-0.22656.h5\n",
      "11/11 [==============================] - 81s 8s/step - loss: 1.5387 - categorical_accuracy: 0.4702 - val_loss: 1.5949 - val_categorical_accuracy: 0.2266 - lr: 0.0100\n",
      "Epoch 2/20\n",
      "11/11 [==============================] - ETA: 0s - loss: 0.9710 - categorical_accuracy: 0.6278\n",
      "Epoch 00002: val_loss did not improve from 1.59490\n",
      "11/11 [==============================] - 78s 8s/step - loss: 0.9710 - categorical_accuracy: 0.6278 - val_loss: 1.7473 - val_categorical_accuracy: 0.2344 - lr: 0.0100\n",
      "Epoch 3/20\n",
      "11/11 [==============================] - ETA: 0s - loss: 0.5936 - categorical_accuracy: 0.7912\n",
      "Epoch 00003: val_loss did not improve from 1.59490\n",
      "11/11 [==============================] - 81s 8s/step - loss: 0.5936 - categorical_accuracy: 0.7912 - val_loss: 2.1914 - val_categorical_accuracy: 0.2031 - lr: 0.0100\n",
      "Epoch 4/20\n",
      "11/11 [==============================] - ETA: 0s - loss: 0.4663 - categorical_accuracy: 0.8423\n",
      "Epoch 00004: val_loss did not improve from 1.59490\n",
      "11/11 [==============================] - 79s 8s/step - loss: 0.4663 - categorical_accuracy: 0.8423 - val_loss: 2.8605 - val_categorical_accuracy: 0.2031 - lr: 0.0100\n",
      "Epoch 5/20\n",
      " 4/11 [=========>....................] - ETA: 39s - loss: 0.3599 - categorical_accuracy: 0.8984"
     ]
    }
   ],
   "source": [
    "training_output_model4 = conv_model4_obj.train_model(conv_model4_model)"
   ]
  },
  {
   "cell_type": "code",
   "execution_count": null,
   "metadata": {},
   "outputs": [],
   "source": [
    "plot(training_output_model4)"
   ]
  },
  {
   "cell_type": "code",
   "execution_count": null,
   "metadata": {},
   "outputs": [],
   "source": []
  }
 ],
 "metadata": {
  "kernelspec": {
   "display_name": "Python 3 (ipykernel)",
   "language": "python",
   "name": "python3"
  },
  "language_info": {
   "codemirror_mode": {
    "name": "ipython",
    "version": 3
   },
   "file_extension": ".py",
   "mimetype": "text/x-python",
   "name": "python",
   "nbconvert_exporter": "python",
   "pygments_lexer": "ipython3",
   "version": "3.8.10"
  }
 },
 "nbformat": 4,
 "nbformat_minor": 4
}
